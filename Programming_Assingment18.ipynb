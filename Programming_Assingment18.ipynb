{
 "cells": [
  {
   "cell_type": "markdown",
   "id": "e23c4793",
   "metadata": {},
   "source": [
    "### Create a function that takes a list of non-negative integers and strings and return a new list without the strings."
   ]
  },
  {
   "cell_type": "code",
   "execution_count": 7,
   "id": "05dacdfc",
   "metadata": {},
   "outputs": [
    {
     "data": {
      "text/plain": [
       "[1, 2, 123]"
      ]
     },
     "execution_count": 7,
     "metadata": {},
     "output_type": "execute_result"
    }
   ],
   "source": [
    "def filter_list(arr):\n",
    "    temp=[]\n",
    "    for i in range(len(arr)):\n",
    "        if isinstance(arr[i], int):\n",
    "            temp.append(arr[i])\n",
    "    return temp\n",
    "filter_list([1, 2, \"aasf\", \"1\", \"123\", 123])"
   ]
  },
  {
   "cell_type": "markdown",
   "id": "7c5a3801",
   "metadata": {},
   "source": [
    "### The \"Reverser\" takes a string as input and returns that string in reverse order, with the opposite case"
   ]
  },
  {
   "cell_type": "code",
   "execution_count": 12,
   "id": "a0ab8bef",
   "metadata": {},
   "outputs": [
    {
     "data": {
      "text/plain": [
       "'DLROw OLLEh'"
      ]
     },
     "execution_count": 12,
     "metadata": {},
     "output_type": "execute_result"
    }
   ],
   "source": [
    "def reverse(s):\n",
    "    string = list(s)\n",
    "    string.reverse()\n",
    "    for i in range(len(string)):\n",
    "        val = ord(string[i])\n",
    "        if string[i]==\" \":\n",
    "            continue\n",
    "        elif val>=97:\n",
    "            string[i]=chr(val-32)\n",
    "        else:\n",
    "            string[i] = chr(val+32)\n",
    "    return \"\".join(string)\n",
    "\n",
    "reverse(\"Hello World\")"
   ]
  },
  {
   "cell_type": "markdown",
   "id": "e90ade70",
   "metadata": {},
   "source": [
    "### Write a function that calculates the factorial of a number recursively."
   ]
  },
  {
   "cell_type": "code",
   "execution_count": 13,
   "id": "d2703b14",
   "metadata": {},
   "outputs": [
    {
     "data": {
      "text/plain": [
       "120"
      ]
     },
     "execution_count": 13,
     "metadata": {},
     "output_type": "execute_result"
    }
   ],
   "source": [
    "def factorial(n):\n",
    "    if n==1:\n",
    "        return n\n",
    "    return n*factorial(n-1)\n",
    "\n",
    "factorial(5) "
   ]
  },
  {
   "cell_type": "markdown",
   "id": "9610142c",
   "metadata": {},
   "source": [
    "### Write a function that moves all elements of one type to the end of the list."
   ]
  },
  {
   "cell_type": "code",
   "execution_count": 15,
   "id": "b2d35f19",
   "metadata": {},
   "outputs": [
    {
     "data": {
      "text/plain": [
       "[3, 2, 4, 4, 1, 1]"
      ]
     },
     "execution_count": 15,
     "metadata": {},
     "output_type": "execute_result"
    }
   ],
   "source": [
    "def move_to_end(arr, ele):\n",
    "    for i in range(len(arr)):\n",
    "        if arr[i]==ele:\n",
    "            val = arr.pop(i)\n",
    "            arr.append(val)\n",
    "    return arr\n",
    "\n",
    "move_to_end([1, 3, 2, 4, 4, 1], 1)"
   ]
  },
  {
   "cell_type": "markdown",
   "id": "603869cd",
   "metadata": {},
   "source": [
    "### With Python 3, you can assign variables from lists in a much more succinct way. Create variables first, middle and last from the given list using destructuring assignment (check the Resources tab for some examples), where:first  ➞ 1 middle ➞ [2, 3, 4, 5] last ➞ 6\n"
   ]
  },
  {
   "cell_type": "code",
   "execution_count": 20,
   "id": "7cccff8d",
   "metadata": {},
   "outputs": [
    {
     "data": {
      "text/plain": [
       "'first:1, second:[2, 3, 4, 5], third:6'"
      ]
     },
     "execution_count": 20,
     "metadata": {},
     "output_type": "execute_result"
    }
   ],
   "source": [
    "def unpack(arr):\n",
    "    first, *second, third = arr\n",
    "    return \"first:{}, second:{}, third:{}\".format(first, second, third)\n",
    "\n",
    "unpack([1, 2, 3, 4, 5, 6])"
   ]
  },
  {
   "cell_type": "code",
   "execution_count": null,
   "id": "751dc64f",
   "metadata": {},
   "outputs": [],
   "source": []
  }
 ],
 "metadata": {
  "kernelspec": {
   "display_name": "Python 3 (ipykernel)",
   "language": "python",
   "name": "python3"
  },
  "language_info": {
   "codemirror_mode": {
    "name": "ipython",
    "version": 3
   },
   "file_extension": ".py",
   "mimetype": "text/x-python",
   "name": "python",
   "nbconvert_exporter": "python",
   "pygments_lexer": "ipython3",
   "version": "3.9.6"
  }
 },
 "nbformat": 4,
 "nbformat_minor": 5
}
