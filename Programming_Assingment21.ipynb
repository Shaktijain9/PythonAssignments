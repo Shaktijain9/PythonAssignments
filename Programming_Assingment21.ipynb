{
 "cells": [
  {
   "cell_type": "markdown",
   "id": "ecb50ab4",
   "metadata": {},
   "source": [
    "### Write a function that takes a list and a number as arguments. Add the number to the end of the list, then remove the first element of the list. The function should then return the updated list."
   ]
  },
  {
   "cell_type": "code",
   "execution_count": 1,
   "id": "759eb7c2",
   "metadata": {},
   "outputs": [
    {
     "name": "stdout",
     "output_type": "stream",
     "text": [
      "[6, 7, 8, 9, 1]\n",
      "[6, 3, 23, 17, 10]\n",
      "[10, 20, 42, 6]\n",
      "No list has been selected\n"
     ]
    }
   ],
   "source": [
    "def next_in_line(arr, num):\n",
    "    if arr:\n",
    "        arr.append(num)\n",
    "        arr.pop(0)\n",
    "        return arr\n",
    "    else:\n",
    "        return 'No list has been selected'\n",
    "\n",
    "print(next_in_line([5, 6, 7, 8, 9], 1))\n",
    "print(next_in_line([7, 6, 3, 23, 17], 10))\n",
    "print(next_in_line([1, 10, 20, 42 ], 6))\n",
    "print(next_in_line([], 6))"
   ]
  },
  {
   "cell_type": "markdown",
   "id": "dc7a17f3",
   "metadata": {},
   "source": [
    "### Create the function that takes a list of dictionaries and returns the sum of people's budgets."
   ]
  },
  {
   "cell_type": "code",
   "execution_count": 2,
   "id": "d2b0efd6",
   "metadata": {},
   "outputs": [
    {
     "name": "stdout",
     "output_type": "stream",
     "text": [
      "65700\n",
      "62600\n"
     ]
    }
   ],
   "source": [
    "def get_budgets(budgets):\n",
    "    total=0\n",
    "    for data in budgets:\n",
    "        total+=data['budget']\n",
    "    return total\n",
    "        \n",
    "\n",
    "\n",
    "print(get_budgets([\n",
    "  { \"name\": \"John\", \"age\": 21, \"budget\": 23000 },\n",
    "  { \"name\": \"Steve\",  \"age\": 32, \"budget\": 40000 },\n",
    "  { \"name\": \"Martin\",  \"age\": 16, \"budget\": 2700 }\n",
    "]) \n",
    ")\n",
    "\n",
    "print(get_budgets([\n",
    "  { \"name\": \"John\",  \"age\": 21, \"budget\": 29000 },\n",
    "  { \"name\": \"Steve\",  \"age\": 32, \"budget\": 32000 },\n",
    "  { \"name\": \"Martin\",  \"age\": 16, \"budget\": 1600 }\n",
    "])\n",
    ")"
   ]
  },
  {
   "cell_type": "markdown",
   "id": "7aa7dba7",
   "metadata": {},
   "source": [
    "### Create a function that takes a string and returns a string with its letters in alphabetical order."
   ]
  },
  {
   "cell_type": "code",
   "execution_count": 4,
   "id": "25c0fd2e",
   "metadata": {},
   "outputs": [
    {
     "name": "stdout",
     "output_type": "stream",
     "text": [
      "ehllo\n",
      "abdeit\n",
      "acehkr\n",
      "eegk\n",
      "aacijprstv\n"
     ]
    }
   ],
   "source": [
    "def alphabet_soup(string):\n",
    "    return \"\".join(sorted(string))\n",
    "\n",
    "print(alphabet_soup(\"hello\") )\n",
    "print(alphabet_soup(\"edabit\"))\n",
    "print(alphabet_soup(\"hacker\"))\n",
    "print(alphabet_soup(\"geek\") )\n",
    "print(alphabet_soup(\"javascript\") )"
   ]
  },
  {
   "cell_type": "markdown",
   "id": "3114958c",
   "metadata": {},
   "source": [
    "### Write a function that takes a list of elements and returns only the integers."
   ]
  },
  {
   "cell_type": "code",
   "execution_count": 9,
   "id": "dd8c3711",
   "metadata": {},
   "outputs": [
    {
     "name": "stdout",
     "output_type": "stream",
     "text": [
      "[9, 2, 16]\n",
      "[81, 123]\n",
      "[10, 56, 20, 3]\n",
      "[1]\n"
     ]
    }
   ],
   "source": [
    "def return_only_integer(arr):\n",
    "    temp=[]\n",
    "    for val in arr:\n",
    "        if (isinstance(val, int) and not isinstance(val, bool)):\n",
    "            temp.append(val)\n",
    "    return temp\n",
    "\n",
    "\n",
    "\n",
    "print(return_only_integer([9, 2, \"space\", \"car\", \"lion\", 16]))\n",
    "print(return_only_integer([\"hello\", 81, \"basketball\", 123, \"fox\"]))\n",
    "print(return_only_integer([10, \"121\", 56, 20, \"car\", 3, \"lion\"]))\n",
    "print(return_only_integer([\"String\",  True,  3.3,  1]))"
   ]
  },
  {
   "cell_type": "markdown",
   "id": "4dc4651b",
   "metadata": {},
   "source": [
    "### Suppose that you invest 10,000 for 10 years at an interest rate of 6% compounded monthly. What will be the value ofyour investment at the end of the 10 year period?Create a function that accepts the principal p, the term in years t, the interest rate r, and the number of compounding periods per year n. The function returns the value at the end of term rounded to the nearest cent. For the example above: compound_interest(10000, 10, 0.06, 12) ➞ 18193.97. Note that the interest rate is given as a decimal and n=12 because with monthly compounding there are 12 periods per year. Compounding can also be done annually, quarterly, weekly, or daily.\n"
   ]
  },
  {
   "cell_type": "code",
   "execution_count": 6,
   "id": "4d06a8fa",
   "metadata": {},
   "outputs": [
    {
     "name": "stdout",
     "output_type": "stream",
     "text": [
      "105.0\n",
      "15399.26\n",
      "2007316.26\n"
     ]
    }
   ],
   "source": [
    "def compound_interest(p, t, r, n):\n",
    "    power = n*t\n",
    "    amount = p*((1+(r/n))**power)\n",
    "    return round(amount, 2)\n",
    "\n",
    "\n",
    "\n",
    "\n",
    "\n",
    "\n",
    "print(compound_interest(100, 1, 0.05, 1))\n",
    "print(compound_interest(3500, 15, 0.1, 4))\n",
    "print(compound_interest(100000, 20, 0.15, 365))"
   ]
  },
  {
   "cell_type": "code",
   "execution_count": null,
   "id": "ca78d9fd",
   "metadata": {},
   "outputs": [],
   "source": []
  }
 ],
 "metadata": {
  "kernelspec": {
   "display_name": "Python 3 (ipykernel)",
   "language": "python",
   "name": "python3"
  },
  "language_info": {
   "codemirror_mode": {
    "name": "ipython",
    "version": 3
   },
   "file_extension": ".py",
   "mimetype": "text/x-python",
   "name": "python",
   "nbconvert_exporter": "python",
   "pygments_lexer": "ipython3",
   "version": "3.9.6"
  }
 },
 "nbformat": 4,
 "nbformat_minor": 5
}
