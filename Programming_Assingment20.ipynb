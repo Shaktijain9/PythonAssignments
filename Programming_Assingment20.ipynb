{
 "cells": [
  {
   "cell_type": "markdown",
   "id": "8399d5b8",
   "metadata": {},
   "source": [
    "### Create a function that takes a list of strings and integers, and filters out the list so that it returns a list of integers only."
   ]
  },
  {
   "cell_type": "code",
   "execution_count": 4,
   "id": "eede0dc2",
   "metadata": {},
   "outputs": [
    {
     "name": "stdout",
     "output_type": "stream",
     "text": [
      "[1, 2, 3, 4]\n",
      "[0, 1729]\n",
      "[]\n"
     ]
    }
   ],
   "source": [
    "def filter_list(arr):\n",
    "    temp=[]\n",
    "    for val in arr:\n",
    "        if isinstance(val, int):\n",
    "            temp.append(val)\n",
    "    return temp\n",
    "\n",
    "print(filter_list([1, 2, 3, \"a\", \"b\", 4]))\n",
    "print(filter_list([\"A\", 0, \"Edabit\", 1729, \"Python\", \"1729\"]))\n",
    "print(filter_list([\"Nothing\", \"here\"]))"
   ]
  },
  {
   "cell_type": "markdown",
   "id": "82cd0b3a",
   "metadata": {},
   "source": [
    "### Create a function that takes a list of numbers between 1 and 10 (excluding one number) and returns the missing number."
   ]
  },
  {
   "cell_type": "code",
   "execution_count": 7,
   "id": "045cb08a",
   "metadata": {},
   "outputs": [
    {
     "name": "stdout",
     "output_type": "stream",
     "text": [
      "5\n",
      "10\n",
      "7\n"
     ]
    }
   ],
   "source": [
    "def missing_num(arr):\n",
    "    num_sum = sum([ i for i in range(1, 11)])\n",
    "    return num_sum - sum(arr)\n",
    "\n",
    "\n",
    "print(missing_num([1, 2, 3, 4, 6, 7, 8, 9, 10]))\n",
    "print(missing_num([7, 2, 3, 6, 5, 9, 1, 4, 8]))\n",
    "print(missing_num([10, 5, 1, 2, 4, 6, 8, 3, 9]))"
   ]
  },
  {
   "cell_type": "markdown",
   "id": "67de20a4",
   "metadata": {},
   "source": [
    "### Create a function that takes the height and radius of a cone as arguments and returns the volume of the cone rounded to the nearest hundredth. See the resources tab for the formula."
   ]
  },
  {
   "cell_type": "code",
   "execution_count": 10,
   "id": "55e4590b",
   "metadata": {},
   "outputs": [
    {
     "name": "stdout",
     "output_type": "stream",
     "text": [
      "565.49\n",
      "12.57\n",
      "0.0\n"
     ]
    }
   ],
   "source": [
    "import math\n",
    "\n",
    "def cone_volume(h, r):\n",
    "    volume = 1/3*math.pi*r*r*h\n",
    "    return round(volume, 2)\n",
    "\n",
    "print(cone_volume(15, 6))\n",
    "print(cone_volume(3, 2))\n",
    "print(cone_volume(18, 0))"
   ]
  },
  {
   "cell_type": "markdown",
   "id": "3d68c3d6",
   "metadata": {},
   "source": [
    "### Given a list of numbers, create a function which returns the list but with each element's index in the list added to itself. This means you add 0 to the number at index 0, add 1 to the number at index 1, etc..."
   ]
  },
  {
   "cell_type": "code",
   "execution_count": 1,
   "id": "de800cac",
   "metadata": {},
   "outputs": [
    {
     "name": "stdout",
     "output_type": "stream",
     "text": [
      "[0, 1, 2, 3, 4]\n",
      "[1, 3, 5, 7, 9]\n",
      "[5, 5, 5, 5, 5]\n"
     ]
    }
   ],
   "source": [
    "def add_indexes(arr):\n",
    "    return [nums+i for nums, i in enumerate(arr)] \n",
    "    \n",
    "   \n",
    "print(add_indexes([0, 0, 0, 0, 0]))\n",
    "print(add_indexes([1, 2, 3, 4, 5]))\n",
    "print(add_indexes([5, 4, 3, 2, 1]))"
   ]
  },
  {
   "cell_type": "markdown",
   "id": "bd85f12d",
   "metadata": {},
   "source": [
    "### This Triangular Number Sequence is generated from a pattern of dots that form a triangle. The first 5 numbers of the sequence, or dots, are: 1, 3, 6, 10, 15 . This means that the first triangle has just one dot, the second one has three dots, the third one has 6 dots and so on. Write a function that gives the number of dots with its corresponding triangle number of the sequence.\n"
   ]
  },
  {
   "cell_type": "code",
   "execution_count": 2,
   "id": "f70ef40f",
   "metadata": {},
   "outputs": [
    {
     "name": "stdout",
     "output_type": "stream",
     "text": [
      "23220\n",
      "1\n",
      "21\n"
     ]
    }
   ],
   "source": [
    "def triangle(t):\n",
    "    n=t\n",
    "    return triangle_helper(t, 0, n)\n",
    "\n",
    "\n",
    "def triangle_helper(t, c, n):\n",
    "    if t==1:\n",
    "        return 1\n",
    "    if c==n:\n",
    "        return t\n",
    "    val = t+c\n",
    "    return triangle_helper(val, c+1, n)\n",
    "\n",
    "\n",
    "print(triangle(215))\n",
    "print(triangle(1))\n",
    "print(triangle(6))"
   ]
  },
  {
   "cell_type": "code",
   "execution_count": null,
   "id": "a3a4b9d4",
   "metadata": {},
   "outputs": [],
   "source": []
  }
 ],
 "metadata": {
  "kernelspec": {
   "display_name": "Python 3 (ipykernel)",
   "language": "python",
   "name": "python3"
  },
  "language_info": {
   "codemirror_mode": {
    "name": "ipython",
    "version": 3
   },
   "file_extension": ".py",
   "mimetype": "text/x-python",
   "name": "python",
   "nbconvert_exporter": "python",
   "pygments_lexer": "ipython3",
   "version": "3.9.6"
  }
 },
 "nbformat": 4,
 "nbformat_minor": 5
}
