{
 "cells": [
  {
   "cell_type": "markdown",
   "id": "25aeca45",
   "metadata": {},
   "source": [
    "### What is the purpose of Python's OOP?"
   ]
  },
  {
   "cell_type": "markdown",
   "id": "8b3e8385",
   "metadata": {},
   "source": [
    "The main of OOPS is to deal with real world entities like, inheritance , polymorphism, abstaction & incapsulations.The main here is to bind the data and function together in a signle unit so that it remains independent & isolated from other code but accessible through same unit."
   ]
  },
  {
   "cell_type": "markdown",
   "id": "f3ebf5a8",
   "metadata": {},
   "source": [
    "### Where does an inheritance search look for an attribute?"
   ]
  },
  {
   "cell_type": "markdown",
   "id": "cd7a0758",
   "metadata": {},
   "source": [
    "First attribute is searched into the object if it doesn't find it there it searched in abve classes from bottom to top & from left to right in the case of multiple inheritance."
   ]
  },
  {
   "cell_type": "code",
   "execution_count": null,
   "id": "f9201bd9",
   "metadata": {},
   "outputs": [],
   "source": []
  }
 ],
 "metadata": {
  "kernelspec": {
   "display_name": "Python 3 (ipykernel)",
   "language": "python",
   "name": "python3"
  },
  "language_info": {
   "codemirror_mode": {
    "name": "ipython",
    "version": 3
   },
   "file_extension": ".py",
   "mimetype": "text/x-python",
   "name": "python",
   "nbconvert_exporter": "python",
   "pygments_lexer": "ipython3",
   "version": "3.9.6"
  }
 },
 "nbformat": 4,
 "nbformat_minor": 5
}
