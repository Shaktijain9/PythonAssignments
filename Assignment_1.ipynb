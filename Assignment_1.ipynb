{
 "cells": [
  {
   "cell_type": "markdown",
   "id": "25aeca45",
   "metadata": {},
   "source": [
    "### What is the purpose of Python's OOP?"
   ]
  },
  {
   "cell_type": "markdown",
   "id": "8b3e8385",
   "metadata": {},
   "source": [
    "The main of OOPS is to deal with real world entities like, inheritance , polymorphism, abstaction & incapsulations.The main here is to bind the data and function together in a signle unit so that it remains independent & isolated from other code but accessible through same unit."
   ]
  },
  {
   "cell_type": "code",
   "execution_count": null,
   "id": "6bc71996",
   "metadata": {},
   "outputs": [],
   "source": []
  }
 ],
 "metadata": {
  "kernelspec": {
   "display_name": "Python 3 (ipykernel)",
   "language": "python",
   "name": "python3"
  },
  "language_info": {
   "codemirror_mode": {
    "name": "ipython",
    "version": 3
   },
   "file_extension": ".py",
   "mimetype": "text/x-python",
   "name": "python",
   "nbconvert_exporter": "python",
   "pygments_lexer": "ipython3",
   "version": "3.9.6"
  }
 },
 "nbformat": 4,
 "nbformat_minor": 5
}
