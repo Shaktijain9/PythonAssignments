{
 "cells": [
  {
   "cell_type": "raw",
   "id": "49bcbc0c",
   "metadata": {},
   "source": [
    "1. expressions: *, /, +, -\n",
    "values : 6, 'hello', -87.8\n"
   ]
  },
  {
   "cell_type": "raw",
   "id": "e67610e2",
   "metadata": {},
   "source": [
    "2. String is a collection of characters i.e., a kind of information whereas variable is a place holder to store an information,\n",
    "Example - Variable is more like a place or address where a particular house is while string can be considered as a type of house."
   ]
  },
  {
   "cell_type": "raw",
   "id": "0453494f",
   "metadata": {},
   "source": [
    "3. Datatypes in python are of two types:\n",
    "a) Mutable data types :  list, dict, set \n",
    "b) Immutable data types :  int, float, bool, string, unicode, tuple."
   ]
  },
  {
   "cell_type": "raw",
   "id": "b4e9143d",
   "metadata": {},
   "source": [
    "4. Expressions are made up of operators and operands, e.g., 2+3 where 2 & 3 are operands and \"+\" is an operator(binary).Expressions tends to perform some operations and results into some value."
   ]
  },
  {
   "cell_type": "raw",
   "id": "24f167cd",
   "metadata": {},
   "source": [
    "5. Expressions basically performs metioned oeprations and returns some value whereas statements are standalone unit of programming languages which consists of expressions and other components."
   ]
  },
  {
   "cell_type": "code",
   "execution_count": 2,
   "id": "70485536",
   "metadata": {},
   "outputs": [
    {
     "data": {
      "text/plain": [
       "23"
      ]
     },
     "execution_count": 2,
     "metadata": {},
     "output_type": "execute_result"
    }
   ],
   "source": [
    "#6\n",
    "\n",
    "bacon  = 22\n",
    "bacon+1\n",
    "#bacon will still contain 22 since there is no assignment to bacon varibale after increament"
   ]
  },
  {
   "cell_type": "code",
   "execution_count": 3,
   "id": "2a79e27c",
   "metadata": {},
   "outputs": [
    {
     "data": {
      "text/plain": [
       "'spamspamspam'"
      ]
     },
     "execution_count": 3,
     "metadata": {},
     "output_type": "execute_result"
    }
   ],
   "source": [
    "#7 a)\n",
    "'spam' + 'spamspam'"
   ]
  },
  {
   "cell_type": "code",
   "execution_count": 4,
   "id": "c29cace0",
   "metadata": {},
   "outputs": [
    {
     "data": {
      "text/plain": [
       "'spamspamspam'"
      ]
     },
     "execution_count": 4,
     "metadata": {},
     "output_type": "execute_result"
    }
   ],
   "source": [
    "#7 b)\n",
    "'spam' * 3\n"
   ]
  },
  {
   "cell_type": "raw",
   "id": "14e25130",
   "metadata": {},
   "source": [
    "8. As per the naming convention of variables in python , a varible can be a string of characters but can not start with number.\n",
    "Hence, egg is a valid name whereas 100 is not."
   ]
  },
  {
   "cell_type": "raw",
   "id": "73d6b0d3",
   "metadata": {},
   "source": [
    "9. int(), float(), str() "
   ]
  },
  {
   "cell_type": "raw",
   "id": "a1f1b50d",
   "metadata": {},
   "source": [
    "10. 'I have eaten ' + 99 + ' burritos.' will cause an error because string and int addition is not allowed in python.\n",
    "In order to resolve the issue we can convert 99 into string"
   ]
  },
  {
   "cell_type": "code",
   "execution_count": 6,
   "id": "1c5d72d6",
   "metadata": {},
   "outputs": [
    {
     "data": {
      "text/plain": [
       "'I have eaten 99 burritos.'"
      ]
     },
     "execution_count": 6,
     "metadata": {},
     "output_type": "execute_result"
    }
   ],
   "source": [
    "'I have eaten ' + str(99)+ ' burritos.'"
   ]
  },
  {
   "cell_type": "code",
   "execution_count": null,
   "id": "8c58a716",
   "metadata": {},
   "outputs": [],
   "source": []
  }
 ],
 "metadata": {
  "kernelspec": {
   "display_name": "Python 3 (ipykernel)",
   "language": "python",
   "name": "python3"
  },
  "language_info": {
   "codemirror_mode": {
    "name": "ipython",
    "version": 3
   },
   "file_extension": ".py",
   "mimetype": "text/x-python",
   "name": "python",
   "nbconvert_exporter": "python",
   "pygments_lexer": "ipython3",
   "version": "3.9.6"
  }
 },
 "nbformat": 4,
 "nbformat_minor": 5
}
