{
 "cells": [
  {
   "cell_type": "code",
   "execution_count": 9,
   "id": "9a89d6a8",
   "metadata": {},
   "outputs": [
    {
     "name": "stdout",
     "output_type": "stream",
     "text": [
      "Enter the sentence: the punishment assigned to a defendant found guilty by a court, or fixed by law for a particular offence.\n",
      "Sorted words in sentence: a a a assigned by by court, defendant fixed for found guilty law offence. or particular punishment the to\n"
     ]
    }
   ],
   "source": [
    "#4\n",
    "\n",
    "sentence = input(\"Enter the sentence: \")\n",
    "print(f\"Sorted words in sentence: {' '.join(sorted(sentence.split()))}\")\n",
    "    "
   ]
  },
  {
   "cell_type": "code",
   "execution_count": 10,
   "id": "bb90d496",
   "metadata": {},
   "outputs": [
    {
     "name": "stdout",
     "output_type": "stream",
     "text": [
      "Enter the string: \"Hello!!!, he said ---and went.\"\n",
      "Strings without punctuations: Hello he said and went\n"
     ]
    }
   ],
   "source": [
    "#5\n",
    "\n",
    "punctuations = '''!()-[]{};:'\"\\,<>./?@#$%^&*_~'''\n",
    "string = input(\"Enter the string: \")\n",
    "s=\"\"\n",
    "for ch in string:\n",
    "    if ch not in punctuations:\n",
    "        s+=ch\n",
    "print(f\"Strings without punctuations: {s}\")\n",
    "        "
   ]
  },
  {
   "cell_type": "code",
   "execution_count": 15,
   "id": "711cc8f6",
   "metadata": {},
   "outputs": [
    {
     "name": "stdout",
     "output_type": "stream",
     "text": [
      "Enter the number of rows :3\n",
      "Enter the number of columns:3\n",
      "1\n",
      "2\n",
      "3\n",
      "4\n",
      "5\n",
      "6\n",
      "7\n",
      "8\n",
      "9\n",
      "Original Matrix: [[1, 2, 3], [4, 5, 6], [7, 8, 9]]\n",
      "Transpose of the given matrix: [[1, 4, 7], [2, 5, 8], [3, 6, 9]]\n"
     ]
    }
   ],
   "source": [
    "#3\n",
    "\n",
    "R = int(input(\"Enter the number of rows :\"))\n",
    "C = int(input(\"Enter the number of columns:\"))\n",
    "matrix=[]\n",
    "for i in range(R):         \n",
    "    a =[]\n",
    "    for j in range(C):      \n",
    "         a.append(int(input()))\n",
    "    matrix.append(a)\n",
    "\n",
    "print(f\"Original Matrix: {matrix}\")\n",
    "for i in range(R):\n",
    "    for j in range(i, C):\n",
    "        matrix[i][j], matrix[j][i] = matrix[j][i], matrix[i][j]\n",
    "\n",
    "print(f\"Transpose of the given matrix: {matrix}\")\n",
    "    \n"
   ]
  },
  {
   "cell_type": "code",
   "execution_count": 27,
   "id": "296c8bf5",
   "metadata": {},
   "outputs": [
    {
     "name": "stdout",
     "output_type": "stream",
     "text": [
      "Enter the number of rows for matrix1 :2\n",
      "Enter the number of columns for matrix1:3\n",
      "1\n",
      "3\n",
      "5\n",
      "7\n",
      "9\n",
      "11\n",
      "Matrix1: [[1, 3, 5], [7, 9, 11]]\n",
      "Enter the number of rows for matrix2 :2\n",
      "Enter the number of columns for matrix2:3\n",
      "5\n",
      "3\n",
      "2\n",
      "7\n",
      "6\n",
      "5\n",
      "Matrix2 [[5, 3, 2], [7, 6, 5]]\n",
      "[[0, 0, 0], [0, 0, 0]]\n",
      "Sum of [[1, 3, 5], [7, 9, 11]] and [[5, 3, 2], [7, 6, 5]]: [[6, 6, 7], [14, 15, 16]]\n"
     ]
    }
   ],
   "source": [
    "#1\n",
    "\n",
    "R1 = int(input(\"Enter the number of rows for matrix1 :\"))\n",
    "C1 = int(input(\"Enter the number of columns for matrix1:\"))\n",
    "matrix1=[]\n",
    "\n",
    "for i in range(R1):         \n",
    "    a =[]\n",
    "    for j in range(C1):      \n",
    "         a.append(int(input()))\n",
    "    matrix1.append(a)\n",
    "print(f\"Matrix1: {matrix1}\")\n",
    "    \n",
    "R2 = int(input(\"Enter the number of rows for matrix2 :\"))\n",
    "C2 = int(input(\"Enter the number of columns for matrix2:\"))\n",
    "matrix2=[]\n",
    "\n",
    "for i in range(R2):         \n",
    "    a =[]\n",
    "    for j in range(C2):      \n",
    "         a.append(int(input()))\n",
    "    matrix2.append(a)\n",
    "print(f\"Matrix2: {matrix2}\")\n",
    "if R1==R2 and C1==C2:\n",
    "    temp = [[0 for _ in range(C1)] for _ in range(R1)]\n",
    "\n",
    "    for i in range(R1):\n",
    "        for j in range(C1):\n",
    "            temp[i][j] = matrix1[i][j] + matrix2[i][j]\n",
    "    print(f\"Sum of {matrix1} and {matrix2}: {temp}\")\n",
    "else:\n",
    "    print(\"Addition not possible. Please enter matrices of same size.\")"
   ]
  },
  {
   "cell_type": "code",
   "execution_count": 34,
   "id": "1274c9c6",
   "metadata": {},
   "outputs": [
    {
     "name": "stdout",
     "output_type": "stream",
     "text": [
      "Enter the number of rows for matrix1 :2\n",
      "Enter the number of columns for matrix1:3\n",
      "1\n",
      "2\n",
      "3\n",
      "4\n",
      "5\n",
      "6\n",
      "Matrix1: [[1, 2, 3], [4, 5, 6]]\n",
      "Enter the number of rows for matrix2 :3\n",
      "Enter the number of columns for matrix2:2\n",
      "9\n",
      "8\n",
      "7\n",
      "6\n",
      "5\n",
      "4\n",
      "Matrix2: [[9, 8], [7, 6], [5, 4]]\n",
      "Multiplied Matrix: [[38, 32], [101, 86]]\n"
     ]
    }
   ],
   "source": [
    "#2\n",
    "\n",
    "R1 = int(input(\"Enter the number of rows for matrix1 :\"))\n",
    "C1 = int(input(\"Enter the number of columns for matrix1:\"))\n",
    "matrix1=[]\n",
    "\n",
    "for i in range(R1):         \n",
    "    a =[]\n",
    "    for j in range(C1):      \n",
    "         a.append(int(input()))\n",
    "    matrix1.append(a)\n",
    "print(f\"Matrix1: {matrix1}\")\n",
    "    \n",
    "R2 = int(input(\"Enter the number of rows for matrix2 :\"))\n",
    "C2 = int(input(\"Enter the number of columns for matrix2:\"))\n",
    "matrix2=[]\n",
    "\n",
    "for i in range(R2):         \n",
    "    a =[]\n",
    "    for j in range(C2):      \n",
    "         a.append(int(input()))\n",
    "    matrix2.append(a)\n",
    "print(f\"Matrix2: {matrix2}\")\n",
    "\n",
    "if C1==R2:\n",
    "    temp = [[0 for _ in range(C2)] for _ in range(R1)]\n",
    "    prod = -1\n",
    "    for i in range(R1):\n",
    "        for j in range(C2):\n",
    "            for k in range(R2):\n",
    "                temp[i][j]+= matrix1[i][k] * matrix2[k][j]\n",
    "\n",
    "print(f\"Multiplied Matrix: {temp}\")\n"
   ]
  },
  {
   "cell_type": "code",
   "execution_count": null,
   "id": "e2a543a8",
   "metadata": {},
   "outputs": [],
   "source": []
  }
 ],
 "metadata": {
  "kernelspec": {
   "display_name": "Python 3 (ipykernel)",
   "language": "python",
   "name": "python3"
  },
  "language_info": {
   "codemirror_mode": {
    "name": "ipython",
    "version": 3
   },
   "file_extension": ".py",
   "mimetype": "text/x-python",
   "name": "python",
   "nbconvert_exporter": "python",
   "pygments_lexer": "ipython3",
   "version": "3.9.6"
  }
 },
 "nbformat": 4,
 "nbformat_minor": 5
}
