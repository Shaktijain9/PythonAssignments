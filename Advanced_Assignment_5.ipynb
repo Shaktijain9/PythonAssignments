{
 "cells": [
  {
   "cell_type": "markdown",
   "id": "82539758",
   "metadata": {},
   "source": [
    "### What is the meaning of multiple inheritance?"
   ]
  },
  {
   "cell_type": "markdown",
   "id": "0f4422b8",
   "metadata": {},
   "source": [
    "Multiple inheritance means a single class is inheriting the attributes and behaviour from any number of classes."
   ]
  },
  {
   "cell_type": "markdown",
   "id": "22914058",
   "metadata": {},
   "source": [
    "### What is the concept of delegation?\n"
   ]
  },
  {
   "cell_type": "markdown",
   "id": "8df401e5",
   "metadata": {},
   "source": [
    "Delegation is a way of implementing composition.\n",
    "Delegation provides proxy object for any class that you want in top of the main class. It acts like a wrapper such that it limits your access to the resources of the main clas. It wraps the object of main class into a smaller objects which have limited access."
   ]
  },
  {
   "cell_type": "code",
   "execution_count": 1,
   "id": "c7036633",
   "metadata": {},
   "outputs": [
    {
     "name": "stdout",
     "output_type": "stream",
     "text": [
      "Hello World\n",
      "Hello World\n",
      "I code in Python\n"
     ]
    }
   ],
   "source": [
    "class Main:\n",
    "    def hello(self):\n",
    "        return \"Hello World\"\n",
    "    \n",
    "    def language(self):\n",
    "        return \"I code in Python\"\n",
    "    \n",
    "class Delegate:\n",
    "    def __init__(self, obj):\n",
    "        self.wrapper = obj\n",
    "        \n",
    "    def welcome(self):\n",
    "        return self.wrapper.hello()\n",
    "    \n",
    "    \n",
    "m = Main()\n",
    "d = Delegate(m)\n",
    "\n",
    "print(d.welcome())\n",
    "print(d.wrapper.hello())\n",
    "print(d.wrapper.language())"
   ]
  },
  {
   "cell_type": "markdown",
   "id": "21f6f867",
   "metadata": {},
   "source": [
    "### What is the concept of composition?"
   ]
  },
  {
   "cell_type": "markdown",
   "id": "bd929fec",
   "metadata": {},
   "source": [
    "Composition is a concept that models a *has a* relationship.It enables creating complex types by combining objects of other types. Classes that contain objects of other classes are called *composites*, whereas class that are used to created complex types are called *component*. That is, a composite class has a component of another class.\n",
    "\n",
    "* The composite class doesn't inherit the component class but leverage its implementation.\n",
    "* The composition relaton between two classes are loosely coupled.\n",
    "* The changes in component rarely affect the composite class & the changes in composite class never affects the components."
   ]
  },
  {
   "cell_type": "code",
   "execution_count": 10,
   "id": "233cd538",
   "metadata": {},
   "outputs": [],
   "source": [
    "class Employee:\n",
    "    def __init__(self, name, age , address):\n",
    "        self.name = name\n",
    "        self.age = age\n",
    "        self.address = None\n",
    "        \n",
    "    def __str__(self):\n",
    "        return f\"Employee Name : {self.name}\\nEmployee Age : {self.age}\\nEmployee Address:{address} \"\n",
    "        \n",
    "class Address:\n",
    "    def __init__(self, street, city, state, zipcode, street2=''):\n",
    "        self.street = street\n",
    "        self.street2 = street2\n",
    "        self.city = city\n",
    "        self.state = state\n",
    "        self.zipcode = zipcode\n",
    "\n",
    "    def __str__(self):\n",
    "        lines = [self.street]\n",
    "        if self.street2:\n",
    "            lines.append(self.street2)\n",
    "        lines.append(f'{self.city}, {self.state} {self.zipcode}')\n",
    "        return '\\n'.join(lines)"
   ]
  },
  {
   "cell_type": "code",
   "execution_count": 11,
   "id": "655bf874",
   "metadata": {},
   "outputs": [
    {
     "name": "stdout",
     "output_type": "stream",
     "text": [
      "Employee Name : Shakti\n",
      "Employee Age : 24\n",
      "Employee Address:55 Main St.\n",
      "Concord, NH 03301 \n"
     ]
    }
   ],
   "source": [
    "address = Address('55 Main St.', 'Concord', 'NH', '03301')\n",
    "# print(address)\n",
    "\n",
    "emp = Employee(\"Shakti\", 24, address)\n",
    "\n",
    "print(emp)"
   ]
  },
  {
   "cell_type": "markdown",
   "id": "0a0cac3f",
   "metadata": {},
   "source": [
    "### What are bound methods and how do we use them?"
   ]
  },
  {
   "cell_type": "markdown",
   "id": "bbbc1830",
   "metadata": {},
   "source": [
    "Bound methods are the methods which depends on the instance of the class to be passed as first arguement. It passes the instances of the class as first arguement to access variables & functions of the class. By deafult, all functions in python are bound methods."
   ]
  },
  {
   "cell_type": "code",
   "execution_count": 13,
   "id": "87700f9f",
   "metadata": {},
   "outputs": [
    {
     "name": "stdout",
     "output_type": "stream",
     "text": [
      "Sample Name : A\n",
      "Sample Name : A\n"
     ]
    }
   ],
   "source": [
    "class Sample:\n",
    "    def __init__(self, name):\n",
    "        self.name = name\n",
    "        \n",
    "    def info(self):\n",
    "        return f\"Sample Name : {self.name}\"\n",
    "    \n",
    "obj = Sample(\"A\")\n",
    "print(obj.info())\n",
    "print(Sample.info(obj))\n",
    "\n",
    "\n"
   ]
  },
  {
   "cell_type": "markdown",
   "id": "31230ec9",
   "metadata": {},
   "source": [
    " obj.info() is translated by python as Sample.info(obj)."
   ]
  },
  {
   "cell_type": "markdown",
   "id": "a16675c5",
   "metadata": {},
   "source": [
    "###  What is the purpose of pseudoprivate attributes?"
   ]
  },
  {
   "cell_type": "markdown",
   "id": "3ede87f4",
   "metadata": {},
   "source": [
    "Pseudo private attributes are used to provide mangling to localize some names in classes. This feeature is mostly used to avoid namespace collision in instances, not to restrict access to names in general.\n",
    "\n",
    "Name mmangling happens only in class statement & only for names where you write with two leading underscores. Hence *self.x* of class *Sample* will automatically gets converted into *_Sample__x*.\n",
    "\n",
    "Within a class method in Python, whenever a method assigns to a self attribute (e.g., self.attr=value), it changes or creates an attribute in the instance. Because this is true even if multiple classes in a hierarchy assign to the same attribute, collisions are possible."
   ]
  },
  {
   "cell_type": "code",
   "execution_count": 7,
   "id": "c60a1e21",
   "metadata": {},
   "outputs": [
    {
     "data": {
      "text/plain": [
       "{'_C1__x': 88, '_C2__x': 99}"
      ]
     },
     "execution_count": 7,
     "metadata": {},
     "output_type": "execute_result"
    }
   ],
   "source": [
    "class C1:\n",
    "    def meth1(self):\n",
    "        self.__x = 88\n",
    "    def meth2(self):\n",
    "        return self.__x\n",
    "    \n",
    "class C2:\n",
    "    def metha(self):\n",
    "        self.__x = 99\n",
    "    def methb(self):\n",
    "        return self.__x\n",
    "    \n",
    "class C3(C1, C2):\n",
    "    pass\n",
    "\n",
    "\n",
    "I = C3()\n",
    "I.meth1()\n",
    "I.metha()\n",
    "I.__dict__"
   ]
  },
  {
   "cell_type": "code",
   "execution_count": 9,
   "id": "944083b8",
   "metadata": {},
   "outputs": [
    {
     "data": {
      "text/plain": [
       "{'x': 99}"
      ]
     },
     "execution_count": 9,
     "metadata": {},
     "output_type": "execute_result"
    }
   ],
   "source": [
    "class C1:\n",
    "    def meth1(self):\n",
    "        self.x = 88\n",
    "    def meth2(self):\n",
    "        return self.x\n",
    "    \n",
    "class C2:\n",
    "    def metha(self):\n",
    "        self.x = 99\n",
    "    def methb(self):\n",
    "        return self.x\n",
    "    \n",
    "class C3(C1, C2):\n",
    "    pass\n",
    "\n",
    "I = C3()\n",
    "I.meth1()\n",
    "I.metha()\n",
    "I.__dict__"
   ]
  },
  {
   "cell_type": "markdown",
   "id": "f99d6af8",
   "metadata": {},
   "source": [
    "Now, the value that each class will get back when it says self.X depends on which class assigned it last. Because all assignments to self.X refer to the same single instance, there is only one X attribute I.X, no matter how many classes use that attribute name. To guarantee that an attribute belongs to the class that uses it, prefix the name with double underscores everywhere it is used in the class."
   ]
  },
  {
   "cell_type": "code",
   "execution_count": null,
   "id": "53f19253",
   "metadata": {},
   "outputs": [],
   "source": []
  }
 ],
 "metadata": {
  "kernelspec": {
   "display_name": "Python 3 (ipykernel)",
   "language": "python",
   "name": "python3"
  },
  "language_info": {
   "codemirror_mode": {
    "name": "ipython",
    "version": 3
   },
   "file_extension": ".py",
   "mimetype": "text/x-python",
   "name": "python",
   "nbconvert_exporter": "python",
   "pygments_lexer": "ipython3",
   "version": "3.9.6"
  }
 },
 "nbformat": 4,
 "nbformat_minor": 5
}
