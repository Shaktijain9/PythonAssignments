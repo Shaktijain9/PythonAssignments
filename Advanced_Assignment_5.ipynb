{
 "cells": [
  {
   "cell_type": "markdown",
   "id": "82539758",
   "metadata": {},
   "source": [
    "### What is the meaning of multiple inheritance?"
   ]
  },
  {
   "cell_type": "markdown",
   "id": "0f4422b8",
   "metadata": {},
   "source": [
    "Multiple inheritance means a single class is inheriting the attributes and behaviour from any number of classes."
   ]
  },
  {
   "cell_type": "markdown",
   "id": "22914058",
   "metadata": {},
   "source": [
    "### What is the concept of delegation?\n"
   ]
  },
  {
   "cell_type": "markdown",
   "id": "8df401e5",
   "metadata": {},
   "source": [
    "Delegation is a way of implementing composition.\n",
    "Delegation provides proxy object for any class that you want in top of the main class. It acts like a wrapper such that it limits your access to the resources of the main clas. It wraps the object of main class into a smaller objects which have limited access."
   ]
  },
  {
   "cell_type": "code",
   "execution_count": 1,
   "id": "c7036633",
   "metadata": {},
   "outputs": [
    {
     "name": "stdout",
     "output_type": "stream",
     "text": [
      "Hello World\n",
      "Hello World\n",
      "I code in Python\n"
     ]
    }
   ],
   "source": [
    "class Main:\n",
    "    def hello(self):\n",
    "        return \"Hello World\"\n",
    "    \n",
    "    def language(self):\n",
    "        return \"I code in Python\"\n",
    "    \n",
    "class Delegate:\n",
    "    def __init__(self, obj):\n",
    "        self.wrapper = obj\n",
    "        \n",
    "    def welcome(self):\n",
    "        return self.wrapper.hello()\n",
    "    \n",
    "    \n",
    "m = Main()\n",
    "d = Delegate(m)\n",
    "\n",
    "print(d.welcome())\n",
    "print(d.wrapper.hello())\n",
    "print(d.wrapper.language())"
   ]
  },
  {
   "cell_type": "markdown",
   "id": "21f6f867",
   "metadata": {},
   "source": [
    "### What is the concept of composition?"
   ]
  },
  {
   "cell_type": "markdown",
   "id": "0c563c48",
   "metadata": {},
   "source": [
    "Composition is a concept that models a *has a* relationship.It enables creating complex types by combining objects of other types. Classes that contain objects of other classes are called *composites*, whereas class that are used to created complex types are called *component*. That is, a composite class has a component of another class.\n",
    "\n",
    "* The composite class doesn't inherit the component class but leverage its implementation.\n",
    "* The composition relaton between two classes are loosely coupled.\n",
    "* The changes in component rarely affect the composite class & the changes in composite class never affects the components."
   ]
  },
  {
   "cell_type": "code",
   "execution_count": 10,
   "id": "ff87aec6",
   "metadata": {},
   "outputs": [],
   "source": [
    "class Employee:\n",
    "    def __init__(self, name, age , address):\n",
    "        self.name = name\n",
    "        self.age = age\n",
    "        self.address = None\n",
    "        \n",
    "    def __str__(self):\n",
    "        return f\"Employee Name : {self.name}\\nEmployee Age : {self.age}\\nEmployee Address:{address} \"\n",
    "        \n",
    "class Address:\n",
    "    def __init__(self, street, city, state, zipcode, street2=''):\n",
    "        self.street = street\n",
    "        self.street2 = street2\n",
    "        self.city = city\n",
    "        self.state = state\n",
    "        self.zipcode = zipcode\n",
    "\n",
    "    def __str__(self):\n",
    "        lines = [self.street]\n",
    "        if self.street2:\n",
    "            lines.append(self.street2)\n",
    "        lines.append(f'{self.city}, {self.state} {self.zipcode}')\n",
    "        return '\\n'.join(lines)"
   ]
  },
  {
   "cell_type": "code",
   "execution_count": 11,
   "id": "24bc293e",
   "metadata": {},
   "outputs": [
    {
     "name": "stdout",
     "output_type": "stream",
     "text": [
      "Employee Name : Shakti\n",
      "Employee Age : 24\n",
      "Employee Address:55 Main St.\n",
      "Concord, NH 03301 \n"
     ]
    }
   ],
   "source": [
    "address = Address('55 Main St.', 'Concord', 'NH', '03301')\n",
    "# print(address)\n",
    "\n",
    "emp = Employee(\"Shakti\", 24, address)\n",
    "\n",
    "print(emp)"
   ]
  },
  {
   "cell_type": "markdown",
   "id": "33a691c3",
   "metadata": {},
   "source": [
    "### What are bound methods and how do we use them?"
   ]
  },
  {
   "cell_type": "code",
   "execution_count": null,
   "id": "baa15b0b",
   "metadata": {},
   "outputs": [],
   "source": []
  }
 ],
 "metadata": {
  "kernelspec": {
   "display_name": "Python 3 (ipykernel)",
   "language": "python",
   "name": "python3"
  },
  "language_info": {
   "codemirror_mode": {
    "name": "ipython",
    "version": 3
   },
   "file_extension": ".py",
   "mimetype": "text/x-python",
   "name": "python",
   "nbconvert_exporter": "python",
   "pygments_lexer": "ipython3",
   "version": "3.9.6"
  }
 },
 "nbformat": 4,
 "nbformat_minor": 5
}
