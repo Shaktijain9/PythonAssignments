{
 "cells": [
  {
   "cell_type": "markdown",
   "id": "82539758",
   "metadata": {},
   "source": [
    "### What is the meaning of multiple inheritance?"
   ]
  },
  {
   "cell_type": "markdown",
   "id": "0f4422b8",
   "metadata": {},
   "source": [
    "Multiple inheritance means a single class is inheriting the attributes and behaviour from any number of classes."
   ]
  },
  {
   "cell_type": "markdown",
   "id": "22914058",
   "metadata": {},
   "source": [
    "### What is the concept of delegation?\n"
   ]
  },
  {
   "cell_type": "markdown",
   "id": "8df401e5",
   "metadata": {},
   "source": [
    "Delegation is a way of implementing composition.\n",
    "Delegation provides proxy object for any class that you want in top of the main class. It acts like a wrapper such that it limits your access to the resources of the main clas. It wraps the object of main class into a smaller objects which have limited access."
   ]
  },
  {
   "cell_type": "code",
   "execution_count": 1,
   "id": "c7036633",
   "metadata": {},
   "outputs": [
    {
     "name": "stdout",
     "output_type": "stream",
     "text": [
      "Hello World\n",
      "Hello World\n",
      "I code in Python\n"
     ]
    }
   ],
   "source": [
    "class Main:\n",
    "    def hello(self):\n",
    "        return \"Hello World\"\n",
    "    \n",
    "    def language(self):\n",
    "        return \"I code in Python\"\n",
    "    \n",
    "class Delegate:\n",
    "    def __init__(self, obj):\n",
    "        self.wrapper = obj\n",
    "        \n",
    "    def welcome(self):\n",
    "        return self.wrapper.hello()\n",
    "    \n",
    "    \n",
    "m = Main()\n",
    "d = Delegate(m)\n",
    "\n",
    "print(d.welcome())\n",
    "print(d.wrapper.hello())\n",
    "print(d.wrapper.language())"
   ]
  },
  {
   "cell_type": "markdown",
   "id": "21f6f867",
   "metadata": {},
   "source": [
    "### What is the concept of composition?"
   ]
  },
  {
   "cell_type": "code",
   "execution_count": null,
   "id": "9532aede",
   "metadata": {},
   "outputs": [],
   "source": []
  }
 ],
 "metadata": {
  "kernelspec": {
   "display_name": "Python 3 (ipykernel)",
   "language": "python",
   "name": "python3"
  },
  "language_info": {
   "codemirror_mode": {
    "name": "ipython",
    "version": 3
   },
   "file_extension": ".py",
   "mimetype": "text/x-python",
   "name": "python",
   "nbconvert_exporter": "python",
   "pygments_lexer": "ipython3",
   "version": "3.9.6"
  }
 },
 "nbformat": 4,
 "nbformat_minor": 5
}
