{
 "cells": [
  {
   "cell_type": "code",
   "execution_count": 4,
   "id": "95731a41",
   "metadata": {},
   "outputs": [
    {
     "name": "stdout",
     "output_type": "stream",
     "text": [
      "Enter the number: 175\n",
      "The number: 175 is Disarium number\n"
     ]
    }
   ],
   "source": [
    "#1\n",
    "\n",
    "num = int(input(\"Enter the number: \"))\n",
    "l=[]\n",
    "n=num\n",
    "while num:\n",
    "    l.insert(0,num%10)\n",
    "    num//=10\n",
    "    \n",
    "result=0\n",
    "for i in range(len(l)):\n",
    "    result+=l[i]**(i+1)\n",
    "\n",
    "if n==result:\n",
    "    print(f\"The number: {n} is Disarium number\")\n",
    "else:\n",
    "    print(f\"The number: {n} is not a Disarium number\")"
   ]
  },
  {
   "cell_type": "code",
   "execution_count": 14,
   "id": "872b55a5",
   "metadata": {},
   "outputs": [
    {
     "name": "stdout",
     "output_type": "stream",
     "text": [
      "Enter the range of numbers: 1 1000\n",
      "The number: 1 is Disarium number\n",
      "The number: 2 is Disarium number\n",
      "The number: 3 is Disarium number\n",
      "The number: 4 is Disarium number\n",
      "The number: 5 is Disarium number\n",
      "The number: 6 is Disarium number\n",
      "The number: 7 is Disarium number\n",
      "The number: 8 is Disarium number\n",
      "The number: 9 is Disarium number\n",
      "The number: 89 is Disarium number\n",
      "The number: 135 is Disarium number\n",
      "The number: 175 is Disarium number\n",
      "The number: 518 is Disarium number\n",
      "The number: 598 is Disarium number\n"
     ]
    }
   ],
   "source": [
    "l, r = list(map(int, input(\"Enter the range of numbers: \").split()))\n",
    "for i in range(l, r+1):\n",
    "    array=[]\n",
    "    n=i\n",
    "    while n:\n",
    "        array.insert(0,n%10)\n",
    "        n//=10\n",
    "\n",
    "    result=0\n",
    "    for j in range(len(array)):\n",
    "        result+=array[j]**(j+1)\n",
    "\n",
    "    if i==result:\n",
    "        print(f\"The number: {i} is Disarium number\")\n"
   ]
  },
  {
   "cell_type": "code",
   "execution_count": 17,
   "id": "d2691437",
   "metadata": {},
   "outputs": [
    {
     "name": "stdout",
     "output_type": "stream",
     "text": [
      "Enter the number: 18\n",
      "18 is Harshad Number\n"
     ]
    }
   ],
   "source": [
    "#5\n",
    "\n",
    "num = int(input(\"Enter the number: \"))\n",
    "l=[]\n",
    "n=num\n",
    "\n",
    "while num:\n",
    "    l.insert(0, num%10)\n",
    "    num//=10\n",
    "\n",
    "if n%sum(l)==0:\n",
    "    print(f\"{n} is Harshad Number\")\n",
    "else:\n",
    "    print(f\"{n} is not a Harshad Number\")\n"
   ]
  },
  {
   "cell_type": "code",
   "execution_count": 19,
   "id": "3505e705",
   "metadata": {},
   "outputs": [
    {
     "name": "stdout",
     "output_type": "stream",
     "text": [
      "Enter the range of numbers: 1 100\n",
      "1 is Hrashad number.\n",
      "2 is Hrashad number.\n",
      "3 is Hrashad number.\n",
      "4 is Hrashad number.\n",
      "5 is Hrashad number.\n",
      "6 is Hrashad number.\n",
      "7 is Hrashad number.\n",
      "8 is Hrashad number.\n",
      "9 is Hrashad number.\n",
      "10 is Hrashad number.\n",
      "12 is Hrashad number.\n",
      "18 is Hrashad number.\n",
      "20 is Hrashad number.\n",
      "21 is Hrashad number.\n",
      "24 is Hrashad number.\n",
      "27 is Hrashad number.\n",
      "30 is Hrashad number.\n",
      "36 is Hrashad number.\n",
      "40 is Hrashad number.\n",
      "42 is Hrashad number.\n",
      "45 is Hrashad number.\n",
      "48 is Hrashad number.\n",
      "50 is Hrashad number.\n",
      "54 is Hrashad number.\n",
      "60 is Hrashad number.\n",
      "63 is Hrashad number.\n",
      "70 is Hrashad number.\n",
      "72 is Hrashad number.\n",
      "80 is Hrashad number.\n",
      "81 is Hrashad number.\n",
      "84 is Hrashad number.\n",
      "90 is Hrashad number.\n",
      "100 is Hrashad number.\n"
     ]
    }
   ],
   "source": [
    "#6\n",
    "\n",
    "l, r = list(map(int, input(\"Enter the range of numbers: \").split()))\n",
    "for i in range(l, r+1):\n",
    "    array=[]\n",
    "    n=i\n",
    "    while n:\n",
    "        array.insert(0,n%10)\n",
    "        n//=10\n",
    "\n",
    "    if i%sum(array)==0:\n",
    "        print(f\"{i} is Hrashad number.\")"
   ]
  },
  {
   "cell_type": "code",
   "execution_count": 25,
   "id": "1637be8e",
   "metadata": {},
   "outputs": [
    {
     "name": "stdout",
     "output_type": "stream",
     "text": [
      "Enter the number: 94\n",
      "94 is a Happy Number\n"
     ]
    }
   ],
   "source": [
    "#3\n",
    "def happyNumber(num: int)->bool:\n",
    "    num_dict = {}\n",
    "    result=0\n",
    "    while num!=1:\n",
    "        while num:\n",
    "            result+=(num%10)**2\n",
    "            num//=10\n",
    "        if num_dict.get(result):\n",
    "            return \"not a Happy Number\"\n",
    "        else:\n",
    "            num_dict[result]=1\n",
    "        num=result\n",
    "        result=0\n",
    "    return \"a Happy Number\"\n",
    "\n",
    "n = int(input(\"Enter the number: \"))\n",
    "print(f\"{n} is {happyNumber(n)}\")"
   ]
  },
  {
   "cell_type": "code",
   "execution_count": 32,
   "id": "cb38d5de",
   "metadata": {},
   "outputs": [
    {
     "name": "stdout",
     "output_type": "stream",
     "text": [
      "Enter the range of numbers: 90 95\n",
      "90 is a Happy Number.\n",
      "91 is not a Happy Number.\n",
      "92 is a Happy Number.\n",
      "93 is a Happy Number.\n",
      "94 is not a Happy Number.\n",
      "95 is a Happy Number.\n"
     ]
    }
   ],
   "source": [
    "#4\n",
    "def happyNumber(num: int)->bool:\n",
    "    num_dict = {}\n",
    "    n=num\n",
    "    result=0\n",
    "    while num!=1:\n",
    "        while num:\n",
    "            result+=(num%10)**2\n",
    "            num//=10\n",
    "        if num_dict.get(result):\n",
    "            return f\"{n} is a Happy Number.\"\n",
    "        else:\n",
    "            num_dict[result]=1\n",
    "        num=result\n",
    "        result=0\n",
    "    return f\"{n} is not a Happy Number.\"\n",
    "\n",
    "l, r = list(map(int, input(\"Enter the range of numbers: \").split()))\n",
    "for i in range(l, r+1):\n",
    "    print(happyNumber(i))\n"
   ]
  },
  {
   "cell_type": "code",
   "execution_count": null,
   "id": "cfc25360",
   "metadata": {},
   "outputs": [],
   "source": []
  }
 ],
 "metadata": {
  "kernelspec": {
   "display_name": "Python 3 (ipykernel)",
   "language": "python",
   "name": "python3"
  },
  "language_info": {
   "codemirror_mode": {
    "name": "ipython",
    "version": 3
   },
   "file_extension": ".py",
   "mimetype": "text/x-python",
   "name": "python",
   "nbconvert_exporter": "python",
   "pygments_lexer": "ipython3",
   "version": "3.9.6"
  }
 },
 "nbformat": 4,
 "nbformat_minor": 5
}
