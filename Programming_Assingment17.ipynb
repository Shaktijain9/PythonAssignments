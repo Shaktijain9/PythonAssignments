{
 "cells": [
  {
   "cell_type": "markdown",
   "id": "817ab5c5",
   "metadata": {},
   "source": [
    "### Create a function that takes three arguments a, b, c and returns the sum of the numbers that are evenly divided by c from the range a, b inclusive."
   ]
  },
  {
   "cell_type": "code",
   "execution_count": 5,
   "id": "3a72295a",
   "metadata": {},
   "outputs": [
    {
     "data": {
      "text/plain": [
       "'Evenly divided num sum by : 12 = 30'"
      ]
     },
     "execution_count": 5,
     "metadata": {},
     "output_type": "execute_result"
    }
   ],
   "source": [
    "#Not correct\n",
    "def evenly_divisible(a, b, c):\n",
    "    temp=[]\n",
    "    num = c\n",
    "    while(c<=b):\n",
    "        temp.append(c)\n",
    "        c+=num\n",
    "    if temp:\n",
    "        return f\"Evenly divided num sum by : {c} = {sum(temp)}\"\n",
    "    return f\"No number between {a} & {b} can be divided evenly by {c}\"\n",
    "\n",
    "evenly_divisible(1, 10, 2)"
   ]
  },
  {
   "cell_type": "markdown",
   "id": "5863ed33",
   "metadata": {},
   "source": [
    "###  Create a function that returns True if a given inequality expression is correct and False otherwise."
   ]
  },
  {
   "cell_type": "code",
   "execution_count": 5,
   "id": "05da6a67",
   "metadata": {},
   "outputs": [
    {
     "data": {
      "text/plain": [
       "False"
      ]
     },
     "execution_count": 5,
     "metadata": {},
     "output_type": "execute_result"
    }
   ],
   "source": [
    "def correct_signs(string):\n",
    "    return eval(string)\n",
    "\n",
    "correct_signs(\"13 > 44 > 33 > 1\")"
   ]
  },
  {
   "cell_type": "markdown",
   "id": "d6224196",
   "metadata": {},
   "source": [
    "### Create a function that replaces all the vowels in a string with a specified character."
   ]
  },
  {
   "cell_type": "code",
   "execution_count": 7,
   "id": "04c88bfa",
   "metadata": {},
   "outputs": [
    {
     "data": {
      "text/plain": [
       "'th# ##rdv#rk'"
      ]
     },
     "execution_count": 7,
     "metadata": {},
     "output_type": "execute_result"
    }
   ],
   "source": [
    "def replace_vowels(string, character):\n",
    "    s=''\n",
    "    for ch in string:\n",
    "        if ch in \"aeiou\":\n",
    "            ch = character\n",
    "        s+=ch\n",
    "    return s\n",
    "\n",
    "\n",
    "replace_vowels(\"the aardvark\", \"#\") "
   ]
  },
  {
   "cell_type": "markdown",
   "id": "b7d83155",
   "metadata": {},
   "source": [
    "### Write a function that calculates the factorial of a number recursively."
   ]
  },
  {
   "cell_type": "code",
   "execution_count": 9,
   "id": "c773808d",
   "metadata": {},
   "outputs": [
    {
     "data": {
      "text/plain": [
       "5040"
      ]
     },
     "execution_count": 9,
     "metadata": {},
     "output_type": "execute_result"
    }
   ],
   "source": [
    "def factorial(n):\n",
    "    if n==1:\n",
    "        return 1\n",
    "    return n*factorial(n-1)\n",
    "\n",
    "factorial(7)"
   ]
  },
  {
   "cell_type": "markdown",
   "id": "e2f86664",
   "metadata": {},
   "source": [
    "### Create a function that computes the hamming distance between two strings."
   ]
  },
  {
   "cell_type": "code",
   "execution_count": 8,
   "id": "b0183f6a",
   "metadata": {},
   "outputs": [
    {
     "name": "stdout",
     "output_type": "stream",
     "text": [
      "Hamming Distance :  5\n",
      "Hamming Distance :  0\n"
     ]
    }
   ],
   "source": [
    "#Assuming user inputs are string of equal lengths\n",
    "def hamming_distance(string1, string2):\n",
    "    count=0\n",
    "    for i in range(len(string1)):\n",
    "        if string1[i]!=string2[i]:\n",
    "            count+=1\n",
    "    return count\n",
    "\n",
    "print(\"Hamming Distance : \", hamming_distance(\"abcde\", \"bcdef\") )\n",
    "print(\"Hamming Distance : \", hamming_distance(\"abcde\", \"abcde\") )\n",
    "    "
   ]
  },
  {
   "cell_type": "code",
   "execution_count": null,
   "id": "c0987d65",
   "metadata": {},
   "outputs": [],
   "source": []
  }
 ],
 "metadata": {
  "kernelspec": {
   "display_name": "Python 3 (ipykernel)",
   "language": "python",
   "name": "python3"
  },
  "language_info": {
   "codemirror_mode": {
    "name": "ipython",
    "version": 3
   },
   "file_extension": ".py",
   "mimetype": "text/x-python",
   "name": "python",
   "nbconvert_exporter": "python",
   "pygments_lexer": "ipython3",
   "version": "3.9.6"
  }
 },
 "nbformat": 4,
 "nbformat_minor": 5
}
