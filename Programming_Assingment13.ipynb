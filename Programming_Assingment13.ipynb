{
 "cells": [
  {
   "cell_type": "code",
   "execution_count": 2,
   "id": "e739b080",
   "metadata": {},
   "outputs": [],
   "source": [
    "import math"
   ]
  },
  {
   "cell_type": "code",
   "execution_count": 7,
   "id": "e7e38ad7",
   "metadata": {},
   "outputs": [
    {
     "name": "stdout",
     "output_type": "stream",
     "text": [
      "Enter the values: 100 150 180\n",
      "The resultant array is: [18, 22, 24]\n"
     ]
    }
   ],
   "source": [
    "#1\n",
    "\n",
    "# Write a program that calculates and prints the value according to the given formula:\n",
    "\n",
    "# Q = Square root of [(2 * C * D)/H]\n",
    "\n",
    "# Following are the fixed values of C and H:\n",
    "\n",
    "# C is 50. H is 30.\n",
    "\n",
    "# D is the variable whose values should be input to your program in a comma-separated sequence.\n",
    "\n",
    "\n",
    "nums = list(map(int, input(\"Enter the values: \").split()))\n",
    "result=[]\n",
    "c=50\n",
    "h=30\n",
    "\n",
    "for d in nums:\n",
    "    q = math.floor(math.sqrt((2*c*d)//h))\n",
    "    result.append(q)\n",
    "print(f\"The resultant array is: {result}\")"
   ]
  },
  {
   "cell_type": "code",
   "execution_count": 14,
   "id": "513e7966",
   "metadata": {},
   "outputs": [
    {
     "name": "stdout",
     "output_type": "stream",
     "text": [
      "Enter X & Y: 3,5\n",
      "Result Array: [[0, 0, 0, 0, 0], [0, 1, 2, 3, 4], [0, 2, 4, 6, 8]]\n"
     ]
    }
   ],
   "source": [
    "#2\n",
    "\n",
    "# Write a program which takes 2 digits, X,Y as input and generates a 2-dimensional array. The element value in the i-th row and j-th column of the array should be i*j.\n",
    "\n",
    "# Note: i=0,1.., X-1; j=0,1,¡¬Y-1.\n",
    "\n",
    "X, Y = list(map(int, input(\"Enter X & Y: \").split(\",\")))\n",
    "print(f\"Result Array: {[[i*j for i in range(Y)] for j in range(X)]}\")\n"
   ]
  },
  {
   "cell_type": "code",
   "execution_count": 19,
   "id": "538cb114",
   "metadata": {},
   "outputs": [
    {
     "name": "stdout",
     "output_type": "stream",
     "text": [
      "Enter the sequence of words: without,hello,bag,world\n",
      "Sorted words: bag,hello,without,world\n"
     ]
    }
   ],
   "source": [
    "#3\n",
    "\n",
    "# Write a program that accepts a comma separated sequence of words as input and prints the words in\n",
    "# a comma-separated sequence after sorting them alphabetically.\n",
    "\n",
    "words = input(\"Enter the sequence of words: \").split(',')\n",
    "words.sort()\n",
    "print(f\"Sorted words: {','.join(words)}\")\n"
   ]
  },
  {
   "cell_type": "code",
   "execution_count": null,
   "id": "0e189a85",
   "metadata": {},
   "outputs": [],
   "source": []
  }
 ],
 "metadata": {
  "kernelspec": {
   "display_name": "Python 3 (ipykernel)",
   "language": "python",
   "name": "python3"
  },
  "language_info": {
   "codemirror_mode": {
    "name": "ipython",
    "version": 3
   },
   "file_extension": ".py",
   "mimetype": "text/x-python",
   "name": "python",
   "nbconvert_exporter": "python",
   "pygments_lexer": "ipython3",
   "version": "3.9.6"
  }
 },
 "nbformat": 4,
 "nbformat_minor": 5
}
