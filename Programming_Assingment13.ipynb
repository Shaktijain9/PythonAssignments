{
 "cells": [
  {
   "cell_type": "code",
   "execution_count": 2,
   "id": "e739b080",
   "metadata": {},
   "outputs": [],
   "source": [
    "import math"
   ]
  },
  {
   "cell_type": "code",
   "execution_count": 7,
   "id": "e7e38ad7",
   "metadata": {},
   "outputs": [
    {
     "name": "stdout",
     "output_type": "stream",
     "text": [
      "Enter the values: 100 150 180\n",
      "The resultant array is: [18, 22, 24]\n"
     ]
    }
   ],
   "source": [
    "#1\n",
    "\n",
    "# Write a program that calculates and prints the value according to the given formula:\n",
    "\n",
    "# Q = Square root of [(2 * C * D)/H]\n",
    "\n",
    "# Following are the fixed values of C and H:\n",
    "\n",
    "# C is 50. H is 30.\n",
    "\n",
    "# D is the variable whose values should be input to your program in a comma-separated sequence.\n",
    "\n",
    "\n",
    "nums = list(map(int, input(\"Enter the values: \").split()))\n",
    "result=[]\n",
    "c=50\n",
    "h=30\n",
    "\n",
    "for d in nums:\n",
    "    q = math.floor(math.sqrt((2*c*d)//h))\n",
    "    result.append(q)\n",
    "print(f\"The resultant array is: {result}\")"
   ]
  },
  {
   "cell_type": "code",
   "execution_count": 14,
   "id": "513e7966",
   "metadata": {},
   "outputs": [
    {
     "name": "stdout",
     "output_type": "stream",
     "text": [
      "Enter X & Y: 3,5\n",
      "Result Array: [[0, 0, 0, 0, 0], [0, 1, 2, 3, 4], [0, 2, 4, 6, 8]]\n"
     ]
    }
   ],
   "source": [
    "#2\n",
    "\n",
    "# Write a program which takes 2 digits, X,Y as input and generates a 2-dimensional array. The element value in the i-th row and j-th column of the array should be i*j.\n",
    "\n",
    "# Note: i=0,1.., X-1; j=0,1,¡¬Y-1.\n",
    "\n",
    "X, Y = list(map(int, input(\"Enter X & Y: \").split(\",\")))\n",
    "print(f\"Result Array: {[[i*j for i in range(Y)] for j in range(X)]}\")\n"
   ]
  },
  {
   "cell_type": "code",
   "execution_count": 19,
   "id": "538cb114",
   "metadata": {},
   "outputs": [
    {
     "name": "stdout",
     "output_type": "stream",
     "text": [
      "Enter the sequence of words: without,hello,bag,world\n",
      "Sorted words: bag,hello,without,world\n"
     ]
    }
   ],
   "source": [
    "#3\n",
    "\n",
    "# Write a program that accepts a comma separated sequence of words as input and prints the words in\n",
    "# a comma-separated sequence after sorting them alphabetically.\n",
    "\n",
    "words = input(\"Enter the sequence of words: \").split(',')\n",
    "words.sort()\n",
    "print(f\"Sorted words: {','.join(words)}\")\n"
   ]
  },
  {
   "cell_type": "markdown",
   "id": "e909ac3f",
   "metadata": {},
   "source": [
    "### 4> Write a program that accepts a sequence of whitespace separated words as input and prints the words after removing all duplicate words and sorting them alphanumerically."
   ]
  },
  {
   "cell_type": "code",
   "execution_count": 3,
   "id": "529994ea",
   "metadata": {},
   "outputs": [
    {
     "name": "stdout",
     "output_type": "stream",
     "text": [
      "Enter the string: hello world and practice makes perfect and hello world again\n",
      "The resultant string : again and hello makes perfect practice world\n"
     ]
    }
   ],
   "source": [
    "string  = input('Enter the string: ').split()\n",
    "new_str = list(set(string))\n",
    "new_str.sort()\n",
    "print(f\"The resultant string : {' '.join(new_str)}\")"
   ]
  },
  {
   "cell_type": "markdown",
   "id": "0e0dc724",
   "metadata": {},
   "source": [
    "### 5> Write a program that accepts a sentence and calculate the number of letters and digits."
   ]
  },
  {
   "cell_type": "code",
   "execution_count": 4,
   "id": "986ab660",
   "metadata": {},
   "outputs": [
    {
     "name": "stdout",
     "output_type": "stream",
     "text": [
      "Enter the string: hello world! 123\n",
      "LETTERS 10\n",
      "DIGITS 3\n"
     ]
    }
   ],
   "source": [
    "string  = input('Enter the string: ')\n",
    "letters=0\n",
    "digits=0\n",
    "for ch in string:\n",
    "    if ch.isdigit():\n",
    "        digits+=1\n",
    "    elif ch.isalpha():\n",
    "        letters+=1\n",
    "print(f'LETTERS {letters}')\n",
    "print(f\"DIGITS {digits}\")"
   ]
  },
  {
   "cell_type": "markdown",
   "id": "1734f2f6",
   "metadata": {},
   "source": [
    "### 6> A website requires the users to input username and password to register. Write a program to check the validity of password input by users.\n",
    "\n",
    "<!-- Following are the criteria for checking the password:\n",
    "\n",
    "1. At least 1 letter between [a-z]\n",
    "\n",
    "2. At least 1 number between [0-9]\n",
    "\n",
    "1. At least 1 letter between [A-Z]\n",
    "\n",
    "3. At least 1 character from [$#@]\n",
    "\n",
    "4. Minimum length of transaction password: 6\n",
    "\n",
    "5. Maximum length of transaction password: 12 -->\n"
   ]
  },
  {
   "cell_type": "code",
   "execution_count": 5,
   "id": "50da8395",
   "metadata": {},
   "outputs": [
    {
     "name": "stdout",
     "output_type": "stream",
     "text": [
      "Enter the comma separated passwords: ABd1234@1,a F1#,2w3E*,2We3345\n",
      "Valid Passwords:  ABd1234@1\n"
     ]
    }
   ],
   "source": [
    "passwords = input('Enter the comma separated passwords: ').split(',')\n",
    "temp=[]\n",
    "for password in passwords:\n",
    "    if 5<len(password)<13:\n",
    "        check_arr=[0]*4\n",
    "        for ch in password:\n",
    "            if ch.islower():\n",
    "                check_arr[0]=1\n",
    "            if ch.isnumeric():\n",
    "                check_arr[1]=1\n",
    "            if ch.isupper():\n",
    "                check_arr[2]=1\n",
    "            if ch in '$#@':\n",
    "                check_arr[3]=1\n",
    "        if sum(check_arr)==4:\n",
    "            temp.append(password)\n",
    "print(\"Valid Passwords: \", \" \".join(temp))\n",
    "    "
   ]
  },
  {
   "cell_type": "code",
   "execution_count": null,
   "id": "34160533",
   "metadata": {},
   "outputs": [],
   "source": []
  }
 ],
 "metadata": {
  "kernelspec": {
   "display_name": "Python 3 (ipykernel)",
   "language": "python",
   "name": "python3"
  },
  "language_info": {
   "codemirror_mode": {
    "name": "ipython",
    "version": 3
   },
   "file_extension": ".py",
   "mimetype": "text/x-python",
   "name": "python",
   "nbconvert_exporter": "python",
   "pygments_lexer": "ipython3",
   "version": "3.9.6"
  }
 },
 "nbformat": 4,
 "nbformat_minor": 5
}
