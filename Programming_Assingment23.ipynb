{
 "cells": [
  {
   "cell_type": "markdown",
   "id": "8fb3765d",
   "metadata": {},
   "source": [
    "### Create a function that returns the mean of all digits."
   ]
  },
  {
   "cell_type": "code",
   "execution_count": 2,
   "id": "8c20db69",
   "metadata": {},
   "outputs": [
    {
     "name": "stdout",
     "output_type": "stream",
     "text": [
      "3\n",
      "3\n",
      "6\n"
     ]
    }
   ],
   "source": [
    "def mean(num):\n",
    "    temp=[]\n",
    "    while num:\n",
    "        temp.append(num%10)\n",
    "        num//=10\n",
    "    return int(sum(temp)/len(temp))\n",
    "\n",
    "print(mean(42))\n",
    "print(mean(12345))\n",
    "print(mean(666))"
   ]
  },
  {
   "cell_type": "markdown",
   "id": "0aeaf3ab",
   "metadata": {},
   "source": [
    "### Create a function that sorts a list and removes all duplicate items from it."
   ]
  },
  {
   "cell_type": "code",
   "execution_count": 3,
   "id": "c99c7d03",
   "metadata": {},
   "outputs": [
    {
     "name": "stdout",
     "output_type": "stream",
     "text": [
      "[1, 3, 5]\n",
      "[4]\n",
      "[5, 7, 8, 9, 10, 15]\n",
      "[1, 2, 3]\n"
     ]
    }
   ],
   "source": [
    "def setify(nums):\n",
    "    temp=dict.fromkeys(nums)\n",
    "    return sorted(temp.keys())\n",
    "\n",
    "print(setify([1, 3, 3, 5, 5]))\n",
    "print(setify([4, 4, 4, 4]))\n",
    "print(setify([5, 7, 8, 9, 10, 15]))\n",
    "print(setify([3, 3, 3, 2, 1]))"
   ]
  },
  {
   "cell_type": "markdown",
   "id": "6e32f0af",
   "metadata": {},
   "source": [
    "### Create a function that squares every digit of a number."
   ]
  },
  {
   "cell_type": "code",
   "execution_count": 13,
   "id": "db092267",
   "metadata": {},
   "outputs": [
    {
     "name": "stdout",
     "output_type": "stream",
     "text": [
      "811181\n",
      "416649\n",
      "9414\n"
     ]
    }
   ],
   "source": [
    "def square_digits(num):\n",
    "    temp=[]\n",
    "    while num:\n",
    "        temp.insert(0,num%10)\n",
    "        num//=10\n",
    "    temp = [str(i*i) for i in temp]\n",
    "    return \"\".join(temp)\n",
    "\n",
    "print(square_digits(9119))\n",
    "print(square_digits(2483))\n",
    "print(square_digits(3212))"
   ]
  },
  {
   "cell_type": "markdown",
   "id": "21795286",
   "metadata": {},
   "source": [
    "### Given a string of numbers separated by a comma and space, return the product of the numbers"
   ]
  },
  {
   "cell_type": "code",
   "execution_count": 15,
   "id": "c5ea4098",
   "metadata": {},
   "outputs": [
    {
     "name": "stdout",
     "output_type": "stream",
     "text": [
      "6\n",
      "24\n",
      "0\n",
      "-20\n"
     ]
    }
   ],
   "source": [
    "def multiply_nums(string):\n",
    "    temp = string.split(\", \")\n",
    "    val = 1\n",
    "    for ch in temp:\n",
    "        val*=int(ch)\n",
    "    return val\n",
    "\n",
    "print(multiply_nums(\"2, 3\"))\n",
    "print(multiply_nums(\"1, 2, 3, 4\"))\n",
    "print(multiply_nums(\"54, 75, 453, 0\"))\n",
    "print(multiply_nums(\"10, -2\"))"
   ]
  },
  {
   "cell_type": "markdown",
   "id": "66420efc",
   "metadata": {},
   "source": [
    "### Create a function that takes a number as an argument and returns True or False depending on whether the number is symmetrical or not. A number is symmetrical when it is the same as its reverse."
   ]
  },
  {
   "cell_type": "code",
   "execution_count": 16,
   "id": "7a729663",
   "metadata": {},
   "outputs": [
    {
     "name": "stdout",
     "output_type": "stream",
     "text": [
      "True\n",
      "False\n",
      "True\n",
      "False\n",
      "True\n"
     ]
    }
   ],
   "source": [
    "def is_symmetrical(num):\n",
    "    temp=[]\n",
    "    while num:\n",
    "        temp.append(num%10)\n",
    "        num//=10\n",
    "    s, e=0, len(temp)-1\n",
    "    while(s<e):\n",
    "        if temp[s]!=temp[e]:\n",
    "            return False\n",
    "        s+=1\n",
    "        e-=1\n",
    "    return True\n",
    "    \n",
    "    \n",
    "\n",
    "\n",
    "print(is_symmetrical(7227))\n",
    "print(is_symmetrical(12567))\n",
    "print(is_symmetrical(44444444))\n",
    "print(is_symmetrical(9939))\n",
    "print(is_symmetrical(1112111))"
   ]
  }
 ],
 "metadata": {
  "kernelspec": {
   "display_name": "Python 3 (ipykernel)",
   "language": "python",
   "name": "python3"
  },
  "language_info": {
   "codemirror_mode": {
    "name": "ipython",
    "version": 3
   },
   "file_extension": ".py",
   "mimetype": "text/x-python",
   "name": "python",
   "nbconvert_exporter": "python",
   "pygments_lexer": "ipython3",
   "version": "3.9.6"
  }
 },
 "nbformat": 4,
 "nbformat_minor": 5
}
