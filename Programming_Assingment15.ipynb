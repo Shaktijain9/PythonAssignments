{
 "cells": [
  {
   "cell_type": "markdown",
   "id": "043e00df",
   "metadata": {},
   "source": [
    "### Please write a program using generator to print the numbers which can be divisible by 5 and 7 between 0 and n in comma separated form while n is input by console."
   ]
  },
  {
   "cell_type": "code",
   "execution_count": 3,
   "id": "a84a1db7",
   "metadata": {},
   "outputs": [
    {
     "name": "stdout",
     "output_type": "stream",
     "text": [
      "Enter the number: 100\n",
      "0,35,70\n"
     ]
    }
   ],
   "source": [
    "def numGenerator():\n",
    "    n = int(input(\"Enter the number: \"))\n",
    "    for i in range(n+1):\n",
    "        if i%5==0 and i%7==0:\n",
    "            yield str(i)\n",
    "nums = numGenerator()\n",
    "print(','.join(nums))"
   ]
  },
  {
   "cell_type": "markdown",
   "id": "028bffe6",
   "metadata": {},
   "source": [
    "### Please write a program using generator to print the even numbers between 0 and n in comma separated form while n is input by console."
   ]
  },
  {
   "cell_type": "code",
   "execution_count": 5,
   "id": "db78ec66",
   "metadata": {},
   "outputs": [
    {
     "name": "stdout",
     "output_type": "stream",
     "text": [
      "Enter the number: 10\n",
      "0,2,4,6,8,10\n"
     ]
    }
   ],
   "source": [
    "def numGenerator():\n",
    "    n = int(input(\"Enter the number: \"))\n",
    "    for i in range(n+1):\n",
    "        if not i&1:\n",
    "            yield str(i)\n",
    "nums = numGenerator()\n",
    "print(','.join(nums))"
   ]
  },
  {
   "cell_type": "code",
   "execution_count": null,
   "id": "145e5184",
   "metadata": {},
   "outputs": [],
   "source": []
  }
 ],
 "metadata": {
  "kernelspec": {
   "display_name": "Python 3 (ipykernel)",
   "language": "python",
   "name": "python3"
  },
  "language_info": {
   "codemirror_mode": {
    "name": "ipython",
    "version": 3
   },
   "file_extension": ".py",
   "mimetype": "text/x-python",
   "name": "python",
   "nbconvert_exporter": "python",
   "pygments_lexer": "ipython3",
   "version": "3.9.6"
  }
 },
 "nbformat": 4,
 "nbformat_minor": 5
}
