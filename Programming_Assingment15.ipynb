{
 "cells": [
  {
   "cell_type": "markdown",
   "id": "d1f3f78e",
   "metadata": {},
   "source": [
    "### Please write a program using generator to print the numbers which can be divisible by 5 and 7 between 0 and n in comma separated form while n is input by console."
   ]
  },
  {
   "cell_type": "code",
   "execution_count": 3,
   "id": "fd51c654",
   "metadata": {},
   "outputs": [
    {
     "name": "stdout",
     "output_type": "stream",
     "text": [
      "Enter the number: 100\n",
      "0,35,70\n"
     ]
    }
   ],
   "source": [
    "def numGenerator():\n",
    "    n = int(input(\"Enter the number: \"))\n",
    "    for i in range(n+1):\n",
    "        if i%5==0 and i%7==0:\n",
    "            yield str(i)\n",
    "nums = numGenerator()\n",
    "print(','.join(nums))"
   ]
  },
  {
   "cell_type": "markdown",
   "id": "866fe193",
   "metadata": {},
   "source": [
    "### Please write a program using generator to print the even numbers between 0 and n in comma separated form while n is input by console."
   ]
  },
  {
   "cell_type": "code",
   "execution_count": 5,
   "id": "223fcf67",
   "metadata": {},
   "outputs": [
    {
     "name": "stdout",
     "output_type": "stream",
     "text": [
      "Enter the number: 10\n",
      "0,2,4,6,8,10\n"
     ]
    }
   ],
   "source": [
    "def numGenerator():\n",
    "    n = int(input(\"Enter the number: \"))\n",
    "    for i in range(n+1):\n",
    "        if not i&1:\n",
    "            yield str(i)\n",
    "nums = numGenerator()\n",
    "print(','.join(nums))"
   ]
  },
  {
   "cell_type": "markdown",
   "id": "2a0b186c",
   "metadata": {},
   "source": [
    "### Assuming that we have some email addresses in the \"username@companyname.com\" format, please write program to print the user name of a given email address. Both user names and company names are composed of letters only."
   ]
  },
  {
   "cell_type": "code",
   "execution_count": 6,
   "id": "79d4e045",
   "metadata": {},
   "outputs": [
    {
     "name": "stdout",
     "output_type": "stream",
     "text": [
      "Enter the email: john@google.com\n",
      "Username : john\n"
     ]
    }
   ],
   "source": [
    "def username():\n",
    "    string = input('Enter the email: ')\n",
    "    s=''\n",
    "    for ch in string:\n",
    "        if ch==\"@\":\n",
    "            break\n",
    "        s+=ch\n",
    "    return s\n",
    "\n",
    "print(f\"Username : {username()}\")"
   ]
  },
  {
   "cell_type": "markdown",
   "id": "142440e1",
   "metadata": {},
   "source": [
    "### Please write a program using list comprehension to print the Fibonacci Sequence in comma separated form with a given n input by console."
   ]
  },
  {
   "cell_type": "code",
   "execution_count": 27,
   "id": "0e65d6fd",
   "metadata": {},
   "outputs": [
    {
     "name": "stdout",
     "output_type": "stream",
     "text": [
      "Enter the number: 7\n",
      "The Fibonacci Sequence:  0 1 1 2 3 5 8 13 21\n"
     ]
    }
   ],
   "source": [
    "n = int(input(\"Enter the number: \"))\n",
    "fib = [0, 1]\n",
    "[fib.append(sum(fib[-2:])) for x in range(n)]\n",
    "print(\"The Fibonacci Sequence: \", *(fib))"
   ]
  },
  {
   "cell_type": "markdown",
   "id": "5b121d3e",
   "metadata": {},
   "source": [
    "### Define a class named Shape and its subclass Square. The Square class has an init function which takes a length as argument. Both classes have a area function which can print the area of the shape where Shape's area is 0 by default"
   ]
  },
  {
   "cell_type": "code",
   "execution_count": 30,
   "id": "de5c4260",
   "metadata": {},
   "outputs": [
    {
     "name": "stdout",
     "output_type": "stream",
     "text": [
      "Area of shape: 0\n",
      "Area of square: 25\n"
     ]
    }
   ],
   "source": [
    "class Shape:\n",
    "    def area(self):\n",
    "        return 0;\n",
    "\n",
    "class Square(Shape):\n",
    "    \n",
    "    def __init__(self, length):\n",
    "        self.length = length\n",
    "        \n",
    "    def area(self):\n",
    "        return self.length*self.length\n",
    "    \n",
    "shape = Shape()\n",
    "print(f\"Area of shape: {shape.area()}\")\n",
    "sq = Square(5)\n",
    "print(f\"Area of square: {sq.area()}\")\n",
    "\n",
    "\n",
    "        "
   ]
  },
  {
   "cell_type": "code",
   "execution_count": null,
   "id": "d860ccae",
   "metadata": {},
   "outputs": [],
   "source": []
  }
 ],
 "metadata": {
  "kernelspec": {
   "display_name": "Python 3 (ipykernel)",
   "language": "python",
   "name": "python3"
  },
  "language_info": {
   "codemirror_mode": {
    "name": "ipython",
    "version": 3
   },
   "file_extension": ".py",
   "mimetype": "text/x-python",
   "name": "python",
   "nbconvert_exporter": "python",
   "pygments_lexer": "ipython3",
   "version": "3.9.6"
  }
 },
 "nbformat": 4,
 "nbformat_minor": 5
}
