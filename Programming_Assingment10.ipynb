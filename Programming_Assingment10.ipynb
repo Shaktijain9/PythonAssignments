{
 "cells": [
  {
   "cell_type": "code",
   "execution_count": 1,
   "id": "8ca82046",
   "metadata": {},
   "outputs": [
    {
     "name": "stdout",
     "output_type": "stream",
     "text": [
      "Enter the elements of the array: 1 2 4 5 2 8 9\n",
      "The sum of the elements of [1, 2, 4, 5, 2, 8, 9]: 31\n"
     ]
    }
   ],
   "source": [
    "#1\n",
    "\n",
    "l = list(map(int, input(\"Enter the elements of the array: \").split()))\n",
    "print(f\"The sum of the elements of {l}: {sum(l)}\")"
   ]
  },
  {
   "cell_type": "code",
   "execution_count": 2,
   "id": "955df813",
   "metadata": {},
   "outputs": [
    {
     "name": "stdout",
     "output_type": "stream",
     "text": [
      "Enter the elements of the array: 5 3 5 23 8 94 1\n",
      "The multiplication of the elements of [5, 3, 5, 23, 8, 94, 1]: 1297200\n"
     ]
    }
   ],
   "source": [
    "#2\n",
    "\n",
    "nums = list(map(int, input(\"Enter the elements of the array: \").split()))\n",
    "result=1\n",
    "for val in nums:\n",
    "    result*=val\n",
    "    \n",
    "print(f\"The multiplication of the elements of {nums}: {result}\")"
   ]
  },
  {
   "cell_type": "code",
   "execution_count": 3,
   "id": "b35d2a52",
   "metadata": {},
   "outputs": [
    {
     "name": "stdout",
     "output_type": "stream",
     "text": [
      "Enter the elements of the array: 4 3 5 42 5 3 -1\n",
      "The smallest element of the [4, 3, 5, 42, 5, 3, -1]: -1\n"
     ]
    }
   ],
   "source": [
    "#3\n",
    "\n",
    "l = list(map(int, input(\"Enter the elements of the array: \").split()))\n",
    "print(f\"The smallest element of the {l}: {min(l)}\")"
   ]
  },
  {
   "cell_type": "code",
   "execution_count": 4,
   "id": "0e178c59",
   "metadata": {},
   "outputs": [
    {
     "name": "stdout",
     "output_type": "stream",
     "text": [
      "Enter the elements of the array: 3 43\n",
      "The largest element of the [3, 43]: 43\n"
     ]
    }
   ],
   "source": [
    "#4\n",
    "\n",
    "l = list(map(int, input(\"Enter the elements of the array: \").split()))\n",
    "print(f\"The largest element of the {l}: {max(l)}\")"
   ]
  },
  {
   "cell_type": "code",
   "execution_count": 5,
   "id": "1a2bc8e2",
   "metadata": {},
   "outputs": [
    {
     "name": "stdout",
     "output_type": "stream",
     "text": [
      "Enter the elements of the array: 3 5 -1 0 87 6\n",
      "Second Max num in [3, 5, -1, 0, 87, 6]: 6\n"
     ]
    }
   ],
   "source": [
    "#5\n",
    "\n",
    "nums = list(map(int, input(\"Enter the elements of the array: \").split()))\n",
    "maxNum=-1\n",
    "secondMax = -1\n",
    "\n",
    "for val in nums:\n",
    "    if val>maxNum:\n",
    "        secondMax, maxNum = maxNum,  val\n",
    "    elif val>secondMax:\n",
    "        secondMax = val\n",
    "print(f\"Second Max num in {nums}: {secondMax}\")\n",
    "        "
   ]
  },
  {
   "cell_type": "code",
   "execution_count": null,
   "id": "0fdbf2c0",
   "metadata": {},
   "outputs": [],
   "source": []
  }
 ],
 "metadata": {
  "kernelspec": {
   "display_name": "Python 3 (ipykernel)",
   "language": "python",
   "name": "python3"
  },
  "language_info": {
   "codemirror_mode": {
    "name": "ipython",
    "version": 3
   },
   "file_extension": ".py",
   "mimetype": "text/x-python",
   "name": "python",
   "nbconvert_exporter": "python",
   "pygments_lexer": "ipython3",
   "version": "3.9.6"
  }
 },
 "nbformat": 4,
 "nbformat_minor": 5
}
