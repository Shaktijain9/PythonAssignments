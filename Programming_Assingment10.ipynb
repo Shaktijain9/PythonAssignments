{
 "cells": [
  {
   "cell_type": "code",
   "execution_count": 1,
   "id": "bbd08d47",
   "metadata": {},
   "outputs": [
    {
     "name": "stdout",
     "output_type": "stream",
     "text": [
      "Enter the elements of the array: 1 2 4 5 2 8 9\n",
      "The sum of the elements of [1, 2, 4, 5, 2, 8, 9]: 31\n"
     ]
    }
   ],
   "source": [
    "#1\n",
    "\n",
    "l = list(map(int, input(\"Enter the elements of the array: \").split()))\n",
    "print(f\"The sum of the elements of {l}: {sum(l)}\")"
   ]
  },
  {
   "cell_type": "code",
   "execution_count": 2,
   "id": "d0a9a7df",
   "metadata": {},
   "outputs": [
    {
     "name": "stdout",
     "output_type": "stream",
     "text": [
      "Enter the elements of the array: 5 3 5 23 8 94 1\n",
      "The multiplication of the elements of [5, 3, 5, 23, 8, 94, 1]: 1297200\n"
     ]
    }
   ],
   "source": [
    "#2\n",
    "\n",
    "nums = list(map(int, input(\"Enter the elements of the array: \").split()))\n",
    "result=1\n",
    "for val in nums:\n",
    "    result*=val\n",
    "    \n",
    "print(f\"The multiplication of the elements of {nums}: {result}\")"
   ]
  },
  {
   "cell_type": "code",
   "execution_count": 3,
   "id": "f28592ef",
   "metadata": {},
   "outputs": [
    {
     "name": "stdout",
     "output_type": "stream",
     "text": [
      "Enter the elements of the array: 4 3 5 42 5 3 -1\n",
      "The smallest element of the [4, 3, 5, 42, 5, 3, -1]: -1\n"
     ]
    }
   ],
   "source": [
    "#3\n",
    "\n",
    "l = list(map(int, input(\"Enter the elements of the array: \").split()))\n",
    "print(f\"The smallest element of the {l}: {min(l)}\")"
   ]
  },
  {
   "cell_type": "code",
   "execution_count": 4,
   "id": "8c7f3007",
   "metadata": {},
   "outputs": [
    {
     "name": "stdout",
     "output_type": "stream",
     "text": [
      "Enter the elements of the array: 3 43\n",
      "The largest element of the [3, 43]: 43\n"
     ]
    }
   ],
   "source": [
    "#4\n",
    "\n",
    "l = list(map(int, input(\"Enter the elements of the array: \").split()))\n",
    "print(f\"The largest element of the {l}: {max(l)}\")"
   ]
  },
  {
   "cell_type": "code",
   "execution_count": 5,
   "id": "478fb354",
   "metadata": {},
   "outputs": [
    {
     "name": "stdout",
     "output_type": "stream",
     "text": [
      "Enter the elements of the array: 3 5 -1 0 87 6\n",
      "Second Max num in [3, 5, -1, 0, 87, 6]: 6\n"
     ]
    }
   ],
   "source": [
    "#5\n",
    "\n",
    "nums = list(map(int, input(\"Enter the elements of the array: \").split()))\n",
    "maxNum=-1\n",
    "secondMax = -1\n",
    "\n",
    "for val in nums:\n",
    "    if val>maxNum:\n",
    "        secondMax, maxNum = maxNum,  val\n",
    "    elif val>secondMax:\n",
    "        secondMax = val\n",
    "print(f\"Second Max num in {nums}: {secondMax}\")\n",
    "        "
   ]
  },
  {
   "cell_type": "code",
   "execution_count": 9,
   "id": "24c01775",
   "metadata": {},
   "outputs": [
    {
     "name": "stdout",
     "output_type": "stream",
     "text": [
      "Enter the elements of the array: 4 234 43 09 9 72 -1 34 56\n",
      "Enter the kth largest num: 3\n",
      "The 3th largest element in [234, 72, 56, 43, 34, 9, 9, 4, -1]: 56\n"
     ]
    }
   ],
   "source": [
    "#6\n",
    "\n",
    "nums = list(map(int, input(\"Enter the elements of the array: \").split()))\n",
    "k = int(input(\"Enter the kth largest num: \"))\n",
    "nums.sort(reverse=True)\n",
    "\n",
    "print(f\"The {k}th largest element in {nums}: {nums[k-1]}\")"
   ]
  },
  {
   "cell_type": "code",
   "execution_count": 10,
   "id": "82fc96e9",
   "metadata": {},
   "outputs": [
    {
     "name": "stdout",
     "output_type": "stream",
     "text": [
      "Enter the elements of the array: 3 4 6 3 1 8 10\n",
      "Even Numbers in [3, 4, 6, 3, 1, 8, 10]:[4, 6, 8, 10]\n"
     ]
    }
   ],
   "source": [
    "#7\n",
    "\n",
    "nums = list(map(int, input(\"Enter the elements of the array= \").split()))\n",
    "print(f\"Even Numbers in {nums}:{list(filter(lambda x: x%2==0, nums))}\")"
   ]
  },
  {
   "cell_type": "code",
   "execution_count": 11,
   "id": "51fe2b46",
   "metadata": {},
   "outputs": [
    {
     "name": "stdout",
     "output_type": "stream",
     "text": [
      "Enter the elements of the array= 3 4 5 2 1 11 121 103\n",
      "Odd Numbers in [3, 4, 5, 2, 1, 11, 121, 103]:[3, 5, 1, 11, 121, 103]\n"
     ]
    }
   ],
   "source": [
    "#8\n",
    "nums = list(map(int, input(\"Enter the elements of the array= \").split()))\n",
    "print(f\"Odd Numbers in {nums}:{list(filter(lambda x: x%2, nums))}\")"
   ]
  },
  {
   "cell_type": "code",
   "execution_count": 15,
   "id": "2a74296c",
   "metadata": {},
   "outputs": [
    {
     "name": "stdout",
     "output_type": "stream",
     "text": [
      "Enter the elements of the list= 1 3 4 2 2  []  2 2 [] [] 0 []\n",
      "Resultant List: ['1', '3', '4', '2', '2', '2', '2', '0']\n"
     ]
    }
   ],
   "source": [
    "#9\n",
    "\n",
    "records = input(\"Enter the elements of the list= \").split()\n",
    "res = [val for val in records if val!=\"[]\"]\n",
    "\n",
    "print(f\"Resultant List: {res}\")"
   ]
  },
  {
   "cell_type": "code",
   "execution_count": 17,
   "id": "981f1d08",
   "metadata": {},
   "outputs": [
    {
     "name": "stdout",
     "output_type": "stream",
     "text": [
      "Enter the elements of the list= 3423 43 32 4 5 0 -9\n",
      "Cloned List of ['3423', '43', '32', '4', '5', '0', '-9'] = ['3423', '43', '32', '4', '5', '0', '-9'] \n"
     ]
    }
   ],
   "source": [
    "#10\n",
    "\n",
    "records = input(\"Enter the elements of the list= \").split()\n",
    "\n",
    "records_copy = records[::]\n",
    "\n",
    "print(f\"Cloned List of {records} = {records_copy} \")"
   ]
  },
  {
   "cell_type": "code",
   "execution_count": 18,
   "id": "22d69aec",
   "metadata": {},
   "outputs": [
    {
     "name": "stdout",
     "output_type": "stream",
     "text": [
      "Enter the elements of the array= 3 4 5 63 3 4 -1 0 1\n",
      "Enter the element3\n",
      "The ocuurence of 3 in [3, 4, 5, 63, 3, 4, -1, 0, 1]:2\n"
     ]
    }
   ],
   "source": [
    "#11\n",
    "\n",
    "nums = list(map(int, input(\"Enter the elements of the array= \").split()))\n",
    "ele = int(input(\"Enter the element\"))\n",
    "\n",
    "print(f\"The ocuurence of {ele} in {nums}:{nums.count(ele)}\")"
   ]
  },
  {
   "cell_type": "code",
   "execution_count": null,
   "id": "6c20a18a",
   "metadata": {},
   "outputs": [],
   "source": []
  }
 ],
 "metadata": {
  "kernelspec": {
   "display_name": "Python 3 (ipykernel)",
   "language": "python",
   "name": "python3"
  },
  "language_info": {
   "codemirror_mode": {
    "name": "ipython",
    "version": 3
   },
   "file_extension": ".py",
   "mimetype": "text/x-python",
   "name": "python",
   "nbconvert_exporter": "python",
   "pygments_lexer": "ipython3",
   "version": "3.9.6"
  }
 },
 "nbformat": 4,
 "nbformat_minor": 5
}
