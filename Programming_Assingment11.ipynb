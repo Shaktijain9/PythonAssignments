{
 "cells": [
  {
   "cell_type": "code",
   "execution_count": 2,
   "id": "0db382e6",
   "metadata": {},
   "outputs": [
    {
     "name": "stdout",
     "output_type": "stream",
     "text": [
      "Enter the sentence: I found myself in front of the reticulated python.\n",
      "Enter the length : 4\n",
      "The words with length greater than 4: ['found', 'myself', 'front', 'reticulated', 'python.']\n"
     ]
    }
   ],
   "source": [
    "#1\n",
    "\n",
    "sentence=input(\"Enter the sentence: \")\n",
    "k = int(input(\"Enter the length : \"))\n",
    "\n",
    "words=[]\n",
    "for word in sentence.split():\n",
    "    if len(word)>k:\n",
    "        words.append(word)\n",
    "\n",
    "print(f\"The words with length greater than {k}: {words}\")\n",
    "    "
   ]
  },
  {
   "cell_type": "code",
   "execution_count": 8,
   "id": "89c92b8f",
   "metadata": {},
   "outputs": [
    {
     "name": "stdout",
     "output_type": "stream",
     "text": [
      "Enter the String: favourite\n",
      "Enter the ith position to remove: 3\n",
      "Resultant String: faourite\n"
     ]
    }
   ],
   "source": [
    "#2\n",
    "\n",
    "s = list(input(\"Enter the String: \"))\n",
    "i=int(input(\"Enter the ith position to remove: \"))\n",
    "s.remove(s[i-1])\n",
    "print(f\"Resultant String: {''.join(s)}\")"
   ]
  },
  {
   "cell_type": "code",
   "execution_count": 10,
   "id": "97df4740",
   "metadata": {},
   "outputs": [
    {
     "name": "stdout",
     "output_type": "stream",
     "text": [
      "Enter the String: Along came a man carrying a large python\n",
      "Splitted String: ['Along', 'came', 'a', 'man', 'carrying', 'a', 'large', 'python']\n",
      "Joined String : Alongcameamancarryingalargepython\n"
     ]
    }
   ],
   "source": [
    "#3\n",
    "\n",
    "string = input(\"Enter the String: \")\n",
    "split_string = string.split()\n",
    "print(f\"Splitted String: {split_string}\")\n",
    "\n",
    "print(f\"Joined String : {''.join(split_string)}\")"
   ]
  },
  {
   "cell_type": "code",
   "execution_count": 12,
   "id": "d165fec5",
   "metadata": {},
   "outputs": [
    {
     "name": "stdout",
     "output_type": "stream",
     "text": [
      "Enter the String: geeks101\n",
      "The String is not Binary.\n"
     ]
    }
   ],
   "source": [
    "#4\n",
    "\n",
    "string = input(\"Enter the String: \")\n",
    "binString = \"01\"\n",
    "for ch in string:\n",
    "    if ch not in binString:\n",
    "        print(\"The String is not Binary.\")\n",
    "        break\n",
    "else:\n",
    "    print(\"The String is binary in nature.\")\n"
   ]
  },
  {
   "cell_type": "code",
   "execution_count": 14,
   "id": "dd61e3a3",
   "metadata": {},
   "outputs": [
    {
     "name": "stdout",
     "output_type": "stream",
     "text": [
      "Enter the String: leetcode&hackerrank\n",
      "Duplicated Characters in leetcode&hackerrank: {'c', 'k', 'a', 'r', 'e'}\n"
     ]
    }
   ],
   "source": [
    "#6\n",
    "string = input(\"Enter the String: \")\n",
    "s = list(string)\n",
    "\n",
    "string_dict = dict.fromkeys(s, 0)\n",
    "l=[]\n",
    "for ch in s:\n",
    "    string_dict[ch]+=1\n",
    "    if string_dict[ch]>1:\n",
    "        l.append(ch)\n",
    "        \n",
    "print(f\"Duplicated Characters in {string}: {set(l)}\")\n",
    "    \n",
    "\n"
   ]
  },
  {
   "cell_type": "code",
   "execution_count": 17,
   "id": "d2a63847",
   "metadata": {},
   "outputs": [
    {
     "name": "stdout",
     "output_type": "stream",
     "text": [
      "Enter the String: !#$GeeeksforGeeks.Computer.Science.Portal!!\n",
      "Special Characters in !#$GeeeksforGeeks.Computer.Science.Portal!!: {'!', '$', '#', '.'}\n"
     ]
    }
   ],
   "source": [
    "#7\n",
    "\n",
    "string = input(\"Enter the String: \")\n",
    "\n",
    "l=[]\n",
    "\n",
    "for ch in string:\n",
    "    if not ch.isalpha():\n",
    "        l.append(ch)\n",
    "print(f\"Special Characters in {string}: {set(l)}\")\n",
    "        "
   ]
  },
  {
   "cell_type": "code",
   "execution_count": 20,
   "id": "0e6cc08e",
   "metadata": {},
   "outputs": [
    {
     "name": "stdout",
     "output_type": "stream",
     "text": [
      "Enter the String 1: Hello World Shakti\n",
      "Enter the String 2: Shakti Lives in own World\n",
      "['Hello', 'Lives', 'in', 'own']\n"
     ]
    }
   ],
   "source": [
    "#5\n",
    "\n",
    "string1 = input(\"Enter the String 1: \")\n",
    "string2 = input(\"Enter the String 2: \")\n",
    "\n",
    "count = {}\n",
    "      \n",
    "for word in string1.split():\n",
    "    count[word] = count.get(word, 0) + 1\n",
    "\n",
    "for word in string2.split():\n",
    "    count[word] = count.get(word, 0) + 1\n",
    "\n",
    "print([word for word in count if count[word] == 1])\n"
   ]
  },
  {
   "cell_type": "code",
   "execution_count": null,
   "id": "caadb223",
   "metadata": {},
   "outputs": [],
   "source": []
  }
 ],
 "metadata": {
  "kernelspec": {
   "display_name": "Python 3 (ipykernel)",
   "language": "python",
   "name": "python3"
  },
  "language_info": {
   "codemirror_mode": {
    "name": "ipython",
    "version": 3
   },
   "file_extension": ".py",
   "mimetype": "text/x-python",
   "name": "python",
   "nbconvert_exporter": "python",
   "pygments_lexer": "ipython3",
   "version": "3.9.6"
  }
 },
 "nbformat": 4,
 "nbformat_minor": 5
}
