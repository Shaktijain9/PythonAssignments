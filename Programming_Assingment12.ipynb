{
 "cells": [
  {
   "cell_type": "code",
   "execution_count": 7,
   "id": "97970121",
   "metadata": {},
   "outputs": [
    {
     "name": "stdout",
     "output_type": "stream",
     "text": [
      "Enter the number of key-value pairs: 2\n",
      "Enter key values pairs: Shivam 1\n",
      "Enter key values pairs: Shakti 1\n",
      "Unique Values in dictionary {'Shivam': '1', 'Shakti': '1'}: {'1'}\n"
     ]
    }
   ],
   "source": [
    "#1\n",
    "n=int(input(\"Enter the number of key-value pairs: \"))\n",
    "d  = dict(input(\"Enter key values pairs: \").split() for _ in range(n))\n",
    "print(f\"Unique Values in dictionary {d}: {set(d.values())}\")"
   ]
  },
  {
   "cell_type": "code",
   "execution_count": 3,
   "id": "dc901bda",
   "metadata": {},
   "outputs": [
    {
     "name": "stdout",
     "output_type": "stream",
     "text": [
      "Enter the number of key-value pairs: 3\n",
      "Enter key values pairs: a 100\n",
      "Enter key values pairs: b 200\n",
      "Enter key values pairs: c 400\n",
      "The sum of all the items in {'a': '100', 'b': '200', 'c': '400'} = 700\n"
     ]
    }
   ],
   "source": [
    "#2\n",
    "n=int(input(\"Enter the number of key-value pairs: \"))\n",
    "d=dict(input(\"Enter key values pairs: \").split() for _ in range(n))\n",
    "result=0\n",
    "for value in d.values():\n",
    "    result+=int(value)\n",
    "    \n",
    "print(f\"The sum of all the items in {d} = {result}\")"
   ]
  },
  {
   "cell_type": "code",
   "execution_count": 6,
   "id": "fa06918b",
   "metadata": {},
   "outputs": [
    {
     "name": "stdout",
     "output_type": "stream",
     "text": [
      "Enter the number of key-value pairs for dict1: 2\n",
      "Enter key values pairs: a 100\n",
      "Enter key values pairs: b 200\n",
      "Enter the number of key-value pairs for dict2: 2\n",
      "Enter key values pairs: b 200\n",
      "Enter key values pairs: c 300\n",
      "The merged dictionary: {'a': '100', 'b': '200', 'c': '300'}\n"
     ]
    }
   ],
   "source": [
    "#3\n",
    "n=int(input(\"Enter the number of key-value pairs for dict1: \"))\n",
    "dict1=dict(input(\"Enter key values pairs: \").split() for _ in range(n))\n",
    "\n",
    "m=int(input(\"Enter the number of key-value pairs for dict2: \"))\n",
    "dict2=dict(input(\"Enter key values pairs: \").split() for _ in range(m))\n",
    "\n",
    "print(\"The merged dictionary:\",  {**dict1, **dict2})"
   ]
  },
  {
   "cell_type": "code",
   "execution_count": 1,
   "id": "7ffbd8fa",
   "metadata": {},
   "outputs": [
    {
     "name": "stdout",
     "output_type": "stream",
     "text": [
      "Enter the number of key-value pairs: 3\n",
      "Enter key values pairs: a 1\n",
      "Enter key values pairs: b 2\n",
      "Enter key values pairs: c 3\n",
      "The list representation of {'a': '1', 'b': '2', 'c': '3'}: [('a', '1'), ('b', '2'), ('c', '3')]\n"
     ]
    }
   ],
   "source": [
    "#4\n",
    "\n",
    "n=int(input(\"Enter the number of key-value pairs: \"))\n",
    "d=dict(input(\"Enter key values pairs: \").split() for _ in range(n))\n",
    "print(f\"The list representation of {d}: {[(key, value) for key, value  in d.items()]}\")"
   ]
  },
  {
   "cell_type": "code",
   "execution_count": 3,
   "id": "185ada74",
   "metadata": {},
   "outputs": [
    {
     "name": "stdout",
     "output_type": "stream",
     "text": [
      "Enter the number of key-value pairs: 2\n",
      "Enter key values pairs: A 1\n",
      "Enter key values pairs: B 2\n",
      "Enter the key-value pair to be inserted at first pos:C 3\n",
      "Resultant dictionary : OrderedDict([('C', '3'), ('A', '1'), ('B', '2')])\n"
     ]
    }
   ],
   "source": [
    "#5\n",
    "\n",
    "from collections import OrderedDict\n",
    "\n",
    "n=int(input(\"Enter the number of key-value pairs: \"))\n",
    "d=OrderedDict(input(\"Enter key values pairs: \").split() for _ in range(n))\n",
    "\n",
    "key, value = input(\"Enter the key-value pair to be inserted at first pos:\").split()\n",
    "\n",
    "d.update({key: value})\n",
    "d.move_to_end(key, last=False)\n",
    "\n",
    "print(f\"Resultant dictionary : {d}\")"
   ]
  },
  {
   "cell_type": "code",
   "execution_count": 7,
   "id": "ab9a3b7f",
   "metadata": {},
   "outputs": [
    {
     "name": "stdout",
     "output_type": "stream",
     "text": [
      "Enter the String: HelloWorld!\n",
      "Enter the pattern: ld!\n",
      "Pattern is in Order.\n"
     ]
    }
   ],
   "source": [
    "#6\n",
    "\n",
    "from collections import OrderedDict\n",
    "\n",
    "def checkOrder(string, pattern):\n",
    "    dict = OrderedDict.fromkeys(string)\n",
    "\n",
    "    cur = 0\n",
    "    for key,value in dict.items():\n",
    "        if (key == pattern[cur]):\n",
    "            cur+=1\n",
    "\n",
    "        if (cur == (len(pattern))):\n",
    "            return 'Pattern is in Order.'\n",
    "\n",
    "    return 'Pattern is not in Order.'\n",
    "\n",
    "\n",
    "if __name__ == \"__main__\":\n",
    "    string = input(\"Enter the String: \")\n",
    "    pattern = input(\"Enter the pattern: \")\n",
    "    print (checkOrder(string,pattern))\n"
   ]
  },
  {
   "cell_type": "code",
   "execution_count": 11,
   "id": "96c3eb50",
   "metadata": {},
   "outputs": [
    {
     "name": "stdout",
     "output_type": "stream",
     "text": [
      "Enter the number of key-value pairs: 5\n",
      "Enter key values pairs: z 9\n",
      "Enter key values pairs: b 2\n",
      "Enter key values pairs: c 1\n",
      "Enter key values pairs: k 5\n",
      "Enter key values pairs: d 3\n",
      "Original Dictionary: {'z': '9', 'b': '2', 'c': '1', 'k': '5', 'd': '3'}\n",
      "Sorted by keys: \n",
      "b c d k z \n",
      "Sorted by values: \n",
      "1 2 3 5 9 "
     ]
    }
   ],
   "source": [
    "#7\n",
    "\n",
    "n=int(input(\"Enter the number of key-value pairs: \"))\n",
    "d=dict(input(\"Enter key values pairs: \").split() for _ in range(n))\n",
    "\n",
    "print(f\"Original Dictionary: {d}\")\n",
    "\n",
    "print(\"Sorted by keys: \")\n",
    "for val in sorted(d.keys()):\n",
    "    print(val, end=\" \")\n",
    "    \n",
    "print()\n",
    "print(\"Sorted by values: \")\n",
    "for val in sorted(d.values()):\n",
    "    print(val, end=\" \")\n"
   ]
  },
  {
   "cell_type": "code",
   "execution_count": null,
   "id": "a4874c14",
   "metadata": {},
   "outputs": [],
   "source": []
  },
  {
   "cell_type": "code",
   "execution_count": null,
   "id": "b81da823",
   "metadata": {},
   "outputs": [],
   "source": []
  }
 ],
 "metadata": {
  "kernelspec": {
   "display_name": "Python 3 (ipykernel)",
   "language": "python",
   "name": "python3"
  },
  "language_info": {
   "codemirror_mode": {
    "name": "ipython",
    "version": 3
   },
   "file_extension": ".py",
   "mimetype": "text/x-python",
   "name": "python",
   "nbconvert_exporter": "python",
   "pygments_lexer": "ipython3",
   "version": "3.9.6"
  }
 },
 "nbformat": 4,
 "nbformat_minor": 5
}
