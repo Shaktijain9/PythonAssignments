{
 "cells": [
  {
   "cell_type": "code",
   "execution_count": 7,
   "id": "97970121",
   "metadata": {},
   "outputs": [
    {
     "name": "stdout",
     "output_type": "stream",
     "text": [
      "Enter the number of key-value pairs: 2\n",
      "Enter key values pairs: Shivam 1\n",
      "Enter key values pairs: Shakti 1\n",
      "Unique Values in dictionary {'Shivam': '1', 'Shakti': '1'}: {'1'}\n"
     ]
    }
   ],
   "source": [
    "#1\n",
    "n=int(input(\"Enter the number of key-value pairs: \"))\n",
    "d  = dict(input(\"Enter key values pairs: \").split() for _ in range(n))\n",
    "print(f\"Unique Values in dictionary {d}: {set(d.values())}\")"
   ]
  },
  {
   "cell_type": "code",
   "execution_count": null,
   "id": "dc901bda",
   "metadata": {},
   "outputs": [],
   "source": []
  },
  {
   "cell_type": "code",
   "execution_count": null,
   "id": "fa06918b",
   "metadata": {},
   "outputs": [],
   "source": []
  }
 ],
 "metadata": {
  "kernelspec": {
   "display_name": "Python 3 (ipykernel)",
   "language": "python",
   "name": "python3"
  },
  "language_info": {
   "codemirror_mode": {
    "name": "ipython",
    "version": 3
   },
   "file_extension": ".py",
   "mimetype": "text/x-python",
   "name": "python",
   "nbconvert_exporter": "python",
   "pygments_lexer": "ipython3",
   "version": "3.9.6"
  }
 },
 "nbformat": 4,
 "nbformat_minor": 5
}
