{
 "cells": [
  {
   "cell_type": "code",
   "execution_count": 7,
   "id": "97970121",
   "metadata": {},
   "outputs": [
    {
     "name": "stdout",
     "output_type": "stream",
     "text": [
      "Enter the number of key-value pairs: 2\n",
      "Enter key values pairs: Shivam 1\n",
      "Enter key values pairs: Shakti 1\n",
      "Unique Values in dictionary {'Shivam': '1', 'Shakti': '1'}: {'1'}\n"
     ]
    }
   ],
   "source": [
    "#1\n",
    "n=int(input(\"Enter the number of key-value pairs: \"))\n",
    "d  = dict(input(\"Enter key values pairs: \").split() for _ in range(n))\n",
    "print(f\"Unique Values in dictionary {d}: {set(d.values())}\")"
   ]
  },
  {
   "cell_type": "code",
   "execution_count": 3,
   "id": "dc901bda",
   "metadata": {},
   "outputs": [
    {
     "name": "stdout",
     "output_type": "stream",
     "text": [
      "Enter the number of key-value pairs: 3\n",
      "Enter key values pairs: a 100\n",
      "Enter key values pairs: b 200\n",
      "Enter key values pairs: c 400\n",
      "The sum of all the items in {'a': '100', 'b': '200', 'c': '400'} = 700\n"
     ]
    }
   ],
   "source": [
    "#2\n",
    "n=int(input(\"Enter the number of key-value pairs: \"))\n",
    "d=dict(input(\"Enter key values pairs: \").split() for _ in range(n))\n",
    "result=0\n",
    "for value in d.values():\n",
    "    result+=int(value)\n",
    "    \n",
    "print(f\"The sum of all the items in {d} = {result}\")"
   ]
  },
  {
   "cell_type": "code",
   "execution_count": 6,
   "id": "fa06918b",
   "metadata": {},
   "outputs": [
    {
     "name": "stdout",
     "output_type": "stream",
     "text": [
      "Enter the number of key-value pairs for dict1: 2\n",
      "Enter key values pairs: a 100\n",
      "Enter key values pairs: b 200\n",
      "Enter the number of key-value pairs for dict2: 2\n",
      "Enter key values pairs: b 200\n",
      "Enter key values pairs: c 300\n",
      "The merged dictionary: {'a': '100', 'b': '200', 'c': '300'}\n"
     ]
    }
   ],
   "source": [
    "n=int(input(\"Enter the number of key-value pairs for dict1: \"))\n",
    "dict1=dict(input(\"Enter key values pairs: \").split() for _ in range(n))\n",
    "\n",
    "m=int(input(\"Enter the number of key-value pairs for dict2: \"))\n",
    "dict2=dict(input(\"Enter key values pairs: \").split() for _ in range(m))\n",
    "\n",
    "print(\"The merged dictionary:\",  {**dict1, **dict2})"
   ]
  },
  {
   "cell_type": "code",
   "execution_count": null,
   "id": "7ffbd8fa",
   "metadata": {},
   "outputs": [],
   "source": []
  }
 ],
 "metadata": {
  "kernelspec": {
   "display_name": "Python 3 (ipykernel)",
   "language": "python",
   "name": "python3"
  },
  "language_info": {
   "codemirror_mode": {
    "name": "ipython",
    "version": 3
   },
   "file_extension": ".py",
   "mimetype": "text/x-python",
   "name": "python",
   "nbconvert_exporter": "python",
   "pygments_lexer": "ipython3",
   "version": "3.9.6"
  }
 },
 "nbformat": 4,
 "nbformat_minor": 5
}
