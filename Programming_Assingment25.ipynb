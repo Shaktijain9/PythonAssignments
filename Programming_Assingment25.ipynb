{
 "cells": [
  {
   "cell_type": "markdown",
   "id": "e1b07788",
   "metadata": {},
   "source": [
    "### Write a function that creates a dictionary with each (key, value) pair being the (lower case, upper case) versions of a letter, respectively."
   ]
  },
  {
   "cell_type": "code",
   "execution_count": 1,
   "id": "d2bd307c",
   "metadata": {},
   "outputs": [
    {
     "name": "stdout",
     "output_type": "stream",
     "text": [
      "{'p': 'P', 's': 'S'}\n",
      "{'a': 'A', 'b': 'B', 'c': 'C'}\n",
      "{'a': 'A', 'v': 'V', 'y': 'Y', 'z': 'Z'}\n"
     ]
    }
   ],
   "source": [
    "def mapping(arr):\n",
    "    temp={}\n",
    "    for ch in arr:\n",
    "        temp[ch] = ch.upper()\n",
    "    return temp\n",
    "\n",
    "print(mapping([\"p\", \"s\"]))\n",
    "print(mapping([\"a\", \"b\", \"c\"]))\n",
    "print(mapping([\"a\", \"v\", \"y\", \"z\"]))"
   ]
  },
  {
   "cell_type": "markdown",
   "id": "30294959",
   "metadata": {},
   "source": [
    "### Write a function, that replaces all vowels in a string with a specified vowel."
   ]
  },
  {
   "cell_type": "code",
   "execution_count": 2,
   "id": "17d7348e",
   "metadata": {},
   "outputs": [
    {
     "name": "stdout",
     "output_type": "stream",
     "text": [
      "upplus und bununus\n",
      "chooso cossorolo\n",
      "steffed jelepene peppers\n"
     ]
    }
   ],
   "source": [
    "def vow_replace(string, val):\n",
    "    s=''\n",
    "    for ch  in string:\n",
    "        if ch in \"aeiou\":\n",
    "            s+=val\n",
    "        else:\n",
    "            s+=ch\n",
    "    return s\n",
    "\n",
    "print(vow_replace(\"apples and bananas\", \"u\"))\n",
    "print(vow_replace(\"cheese casserole\", \"o\"))\n",
    "print(vow_replace(\"stuffed jalapeno poppers\", \"e\"))"
   ]
  },
  {
   "cell_type": "markdown",
   "id": "e623bd75",
   "metadata": {},
   "source": [
    "### Create a function that takes a string as input and capitalizes a letter if its ASCII code is even and returns its lower case version if its ASCII code is odd."
   ]
  },
  {
   "cell_type": "code",
   "execution_count": 10,
   "id": "f3aa205f",
   "metadata": {},
   "outputs": [
    {
     "name": "stdout",
     "output_type": "stream",
     "text": [
      "To Be oR NoT To Be!\n",
      "THe LiTTLe meRmaiD\n",
      "oH wHaT a BeauTiFuL moRNiNg.\n"
     ]
    }
   ],
   "source": [
    "def ascii_capitalize(string):\n",
    "    s=''\n",
    "    for ch in string:\n",
    "        val = ord(ch)\n",
    "        if ch.isalpha() and val&1:\n",
    "            s+=ch.lower()\n",
    "        elif ch.isalpha() and not val&1:\n",
    "            s+=ch.upper()\n",
    "        else:\n",
    "            s+=ch\n",
    "        \n",
    "    return s\n",
    "                \n",
    "                \n",
    "            \n",
    "\n",
    "print(ascii_capitalize(\"to be or not to be!\"))\n",
    "print(ascii_capitalize(\"THE LITTLE MERMAID\") )\n",
    "print(ascii_capitalize(\"Oh what a beautiful morning.\"))"
   ]
  },
  {
   "cell_type": "markdown",
   "id": "51e1a0b0",
   "metadata": {},
   "source": [
    "### Create a function that takes three integer arguments (a, b, c) and returns the amount of integers which are of equal value."
   ]
  },
  {
   "cell_type": "code",
   "execution_count": 12,
   "id": "47b9b0df",
   "metadata": {},
   "outputs": [
    {
     "name": "stdout",
     "output_type": "stream",
     "text": [
      "2\n",
      "1\n",
      "0\n"
     ]
    }
   ],
   "source": [
    "def equal(a, b, c):\n",
    "    temp=dict.fromkeys([a, b, c])\n",
    "    size=len(temp)\n",
    "    return 0 if size==3 else size\n",
    "    \n",
    "\n",
    "\n",
    "print(equal(3, 4, 3))\n",
    "print(equal(1, 1, 1))\n",
    "print(equal(3, 4, 1))"
   ]
  },
  {
   "cell_type": "markdown",
   "id": "4321d929",
   "metadata": {},
   "source": [
    "### Write a function that converts a dictionary into a list of keys-values tuples."
   ]
  },
  {
   "cell_type": "code",
   "execution_count": 16,
   "id": "e64e8be9",
   "metadata": {},
   "outputs": [
    {
     "name": "stdout",
     "output_type": "stream",
     "text": [
      "[('D', 1), ('B', 2), ('C', 3)]\n",
      "[('likes', 2), ('dislikes', 3), ('followers', 10)]\n"
     ]
    }
   ],
   "source": [
    "def dict_to_list(dictionary):\n",
    "    temp=[]\n",
    "    for key, value in dictionary.items():\n",
    "        temp.append((key, value))\n",
    "    return temp\n",
    "\n",
    "print(dict_to_list({\n",
    "  \"D\": 1,\n",
    "  \"B\": 2,\n",
    "  \"C\": 3\n",
    "})\n",
    ")\n",
    "print(dict_to_list({\n",
    "  \"likes\": 2,\n",
    "  \"dislikes\": 3,\n",
    "  \"followers\": 10\n",
    "})\n",
    ")\n"
   ]
  },
  {
   "cell_type": "code",
   "execution_count": null,
   "id": "f777794a",
   "metadata": {},
   "outputs": [],
   "source": []
  },
  {
   "cell_type": "code",
   "execution_count": null,
   "id": "31b937b8",
   "metadata": {},
   "outputs": [],
   "source": []
  }
 ],
 "metadata": {
  "kernelspec": {
   "display_name": "Python 3 (ipykernel)",
   "language": "python",
   "name": "python3"
  },
  "language_info": {
   "codemirror_mode": {
    "name": "ipython",
    "version": 3
   },
   "file_extension": ".py",
   "mimetype": "text/x-python",
   "name": "python",
   "nbconvert_exporter": "python",
   "pygments_lexer": "ipython3",
   "version": "3.9.6"
  }
 },
 "nbformat": 4,
 "nbformat_minor": 5
}
