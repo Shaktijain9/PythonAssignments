{
 "cells": [
  {
   "cell_type": "code",
   "execution_count": 2,
   "id": "660462d1",
   "metadata": {},
   "outputs": [
    {
     "name": "stdout",
     "output_type": "stream",
     "text": [
      "Enter array values: 3 4 5\n",
      "The sum of the array is 12\n"
     ]
    }
   ],
   "source": [
    "#1\n",
    "\n",
    "array = list(map(int, input(\"Enter array values: \").split()))\n",
    "print(f\"The sum of the array is {sum(array)}\")"
   ]
  },
  {
   "cell_type": "code",
   "execution_count": 3,
   "id": "60539509",
   "metadata": {},
   "outputs": [
    {
     "name": "stdout",
     "output_type": "stream",
     "text": [
      "Enter array values: 3 4  74 3 2 5 -1\n",
      "The largest element of the array is 74\n"
     ]
    }
   ],
   "source": [
    "#2\n",
    "\n",
    "array = list(map(int, input(\"Enter array values: \").split()))\n",
    "print(f\"The largest element of the array is {max(array)}\")"
   ]
  },
  {
   "cell_type": "code",
   "execution_count": 3,
   "id": "1583be83",
   "metadata": {},
   "outputs": [
    {
     "name": "stdout",
     "output_type": "stream",
     "text": [
      "Enter array values: 1,2,3,4,7,8\n",
      "Array is monotonic in nature.\n"
     ]
    }
   ],
   "source": [
    "#5\n",
    "\n",
    "#Monotonic array - either increasing or decreasing in order\n",
    "\n",
    "array = list(map(int, input(\"Enter array values: \").split(',')))\n",
    "result = all(array[i]>array[i+1] for i in range(len(array)-1)) or all(array[i]<array[i+1] for i in range(len(array)-1))\n",
    "\n",
    "if result:\n",
    "    print(\"Array is monotonic in nature.\")\n",
    "else:\n",
    "    print(\"Array is not monotonic in nature.\")"
   ]
  },
  {
   "cell_type": "code",
   "execution_count": 4,
   "id": "bfd8314b",
   "metadata": {},
   "outputs": [
    {
     "name": "stdout",
     "output_type": "stream",
     "text": [
      "Enter array values: 1,2,3,4,7,8\n",
      "Rotated Array: [8, 7, 4, 3, 2, 1]\n"
     ]
    }
   ],
   "source": [
    "#3\n",
    "\n",
    "array = list(map(int, input(\"Enter array values: \").split(',')))\n",
    "print(f\"Rotated Array: {array[::-1]}\")"
   ]
  },
  {
   "cell_type": "code",
   "execution_count": 5,
   "id": "570057ba",
   "metadata": {},
   "outputs": [
    {
     "name": "stdout",
     "output_type": "stream",
     "text": [
      "Enter array values: 8, 7, 4, 3, 2, 1\n",
      "Split the array at Index: 3\n",
      "The modified array: [3, 2, 1, 8, 7, 4]\n"
     ]
    }
   ],
   "source": [
    "#4\n",
    "\n",
    "array = list(map(int, input(\"Enter array values: \").split(',')))\n",
    "index = int(input(\"Split the array at Index: \"))\n",
    "new_array = array[index:]+array[:index]\n",
    "\n",
    "print(f\"The modified array: {new_array}\")\n",
    "\n"
   ]
  },
  {
   "cell_type": "code",
   "execution_count": null,
   "id": "6baf08a1",
   "metadata": {},
   "outputs": [],
   "source": []
  }
 ],
 "metadata": {
  "kernelspec": {
   "display_name": "Python 3 (ipykernel)",
   "language": "python",
   "name": "python3"
  },
  "language_info": {
   "codemirror_mode": {
    "name": "ipython",
    "version": 3
   },
   "file_extension": ".py",
   "mimetype": "text/x-python",
   "name": "python",
   "nbconvert_exporter": "python",
   "pygments_lexer": "ipython3",
   "version": "3.9.6"
  }
 },
 "nbformat": 4,
 "nbformat_minor": 5
}
