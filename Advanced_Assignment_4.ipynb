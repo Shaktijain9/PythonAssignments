{
 "cells": [
  {
   "cell_type": "markdown",
   "id": "046afa1d",
   "metadata": {},
   "source": [
    "### Which two operator overloading methods can you use in your classes to support iteration?"
   ]
  },
  {
   "cell_type": "code",
   "execution_count": null,
   "id": "dcb8202f",
   "metadata": {},
   "outputs": [],
   "source": []
  },
  {
   "cell_type": "markdown",
   "id": "f2cfc777",
   "metadata": {},
   "source": [
    "### In a class, how do you capture in-place addition?"
   ]
  },
  {
   "cell_type": "code",
   "execution_count": 2,
   "id": "3af87436",
   "metadata": {},
   "outputs": [
    {
     "name": "stdout",
     "output_type": "stream",
     "text": [
      "8\n"
     ]
    }
   ],
   "source": [
    "class InplaceAddition:\n",
    "    def __init__(self, a, b):\n",
    "        self.a = a\n",
    "        self.b = b\n",
    "        \n",
    "    def __add__(self):\n",
    "        self.a =self.a + self.b\n",
    "        return self.a\n",
    "\n",
    "obj = InplaceAddition(3, 5)\n",
    "print(obj.__add__())"
   ]
  },
  {
   "cell_type": "markdown",
   "id": "92c1a209",
   "metadata": {},
   "source": [
    "### When is it appropriate to use operator overloading?"
   ]
  },
  {
   "cell_type": "markdown",
   "id": "3e4dcbdd",
   "metadata": {},
   "source": [
    "We use operator overloading in the scenarios where it makes sense. The use of operator overloading or any method needs be super intutive, such that user could make out why the things are happening as they're or else he won't be able to understand the absurd implementation until we expose the implementation\n",
    "\n",
    "For example,\n",
    "* It make sense to add two Point Object to return a new point in space but it will not make sense to add Student objects to get another student.\n",
    "* There are many other use cases as well where we need to involve operator overloading , such as, addition of strings to get a new string."
   ]
  },
  {
   "cell_type": "code",
   "execution_count": null,
   "id": "b40b966c",
   "metadata": {},
   "outputs": [],
   "source": []
  }
 ],
 "metadata": {
  "kernelspec": {
   "display_name": "Python 3 (ipykernel)",
   "language": "python",
   "name": "python3"
  },
  "language_info": {
   "codemirror_mode": {
    "name": "ipython",
    "version": 3
   },
   "file_extension": ".py",
   "mimetype": "text/x-python",
   "name": "python",
   "nbconvert_exporter": "python",
   "pygments_lexer": "ipython3",
   "version": "3.9.6"
  }
 },
 "nbformat": 4,
 "nbformat_minor": 5
}
