{
 "cells": [
  {
   "cell_type": "markdown",
   "id": "046afa1d",
   "metadata": {},
   "source": [
    "### Which two operator overloading methods can you use in your classes to support iteration?"
   ]
  },
  {
   "cell_type": "markdown",
   "id": "c7c1bd20",
   "metadata": {},
   "source": [
    "* __iter__()\n",
    "* __next__()"
   ]
  },
  {
   "cell_type": "code",
   "execution_count": 1,
   "id": "740b903d",
   "metadata": {},
   "outputs": [
    {
     "name": "stdout",
     "output_type": "stream",
     "text": [
      "1\n",
      "2\n",
      "3\n",
      "4\n",
      "5\n",
      "6\n",
      "7\n",
      "8\n",
      "9\n"
     ]
    }
   ],
   "source": [
    "class Counter:\n",
    "    def __init__(self, start, end):\n",
    "        self.start = start\n",
    "        self.end = end\n",
    "        \n",
    "    def __iter__(self):\n",
    "        return self\n",
    "    \n",
    "    def __next__(self):\n",
    "        if self.start<self.end:\n",
    "            self.start+=1\n",
    "            return self.start - 1\n",
    "        raise StopIteration\n",
    "\n",
    "for num in Counter(1, 10):\n",
    "    print(num)"
   ]
  },
  {
   "cell_type": "markdown",
   "id": "f2cfc777",
   "metadata": {},
   "source": [
    "### In a class, how do you capture in-place addition?"
   ]
  },
  {
   "cell_type": "code",
   "execution_count": 2,
   "id": "3af87436",
   "metadata": {},
   "outputs": [
    {
     "name": "stdout",
     "output_type": "stream",
     "text": [
      "8\n"
     ]
    }
   ],
   "source": [
    "class InplaceAddition:\n",
    "    def __init__(self, a, b):\n",
    "        self.a = a\n",
    "        self.b = b\n",
    "        \n",
    "    def __add__(self):\n",
    "        self.a =self.a + self.b\n",
    "        return self.a\n",
    "\n",
    "obj = InplaceAddition(3, 5)\n",
    "print(obj.__add__())"
   ]
  },
  {
   "cell_type": "markdown",
   "id": "92c1a209",
   "metadata": {},
   "source": [
    "### When is it appropriate to use operator overloading?"
   ]
  },
  {
   "cell_type": "markdown",
   "id": "3e4dcbdd",
   "metadata": {},
   "source": [
    "We use operator overloading in the scenarios where it makes sense. The use of operator overloading or any method needs be super intutive, such that user could make out why the things are happening as they're or else he won't be able to understand the absurd implementation until we expose the implementation\n",
    "\n",
    "For example,\n",
    "* It make sense to add two Point Object to return a new point in space but it will not make sense to add Student objects to get another student.\n",
    "* There are many other use cases as well where we need to involve operator overloading , such as, addition of strings to get a new string."
   ]
  },
  {
   "cell_type": "markdown",
   "id": "14c50a5f",
   "metadata": {},
   "source": [
    "### In a class, how do you intercept slice operations?"
   ]
  },
  {
   "cell_type": "code",
   "execution_count": 11,
   "id": "b40b966c",
   "metadata": {},
   "outputs": [
    {
     "name": "stdout",
     "output_type": "stream",
     "text": [
      "Shakti\n"
     ]
    },
    {
     "data": {
      "text/plain": [
       "['Shakti', 'Aadi']"
      ]
     },
     "execution_count": 11,
     "metadata": {},
     "output_type": "execute_result"
    }
   ],
   "source": [
    "class Student:\n",
    "    def __init__(self):\n",
    "        self.name=[]\n",
    "        \n",
    "    def __len__(self):\n",
    "        return len(self.name)\n",
    "    \n",
    "    def append(self, item):\n",
    "        self.name.append(item)\n",
    "    \n",
    "    def remove(self, item):\n",
    "        self.name.remove(item)\n",
    "        \n",
    "    def __getitem__(self, sliced):\n",
    "        return self.name[sliced]\n",
    "    \n",
    "s= Student()\n",
    "s.append('Shakti')\n",
    "s.append('Piyush')\n",
    "s.append(\"Aadi\")\n",
    "s.append(\"Puru\")\n",
    "print(s[0])\n",
    "\n",
    "s[0:3:2]\n",
    "        "
   ]
  },
  {
   "cell_type": "markdown",
   "id": "0a02594c",
   "metadata": {},
   "source": [
    "### In what contexts do the two operator overloading methods manage printing?"
   ]
  },
  {
   "cell_type": "markdown",
   "id": "dcc28266",
   "metadata": {},
   "source": [
    "* __str__()\n",
    "* __repr__()"
   ]
  },
  {
   "cell_type": "code",
   "execution_count": 12,
   "id": "2c89835f",
   "metadata": {},
   "outputs": [
    {
     "name": "stdout",
     "output_type": "stream",
     "text": [
      "My name is: Dog\n",
      "I'm a Dog\n"
     ]
    }
   ],
   "source": [
    "class Animal:\n",
    "    def __init__(self, name):\n",
    "        self.name = name\n",
    "        \n",
    "    def __str__(self):\n",
    "        return f\"My name is: {self.name}\"\n",
    "        \n",
    "    def __repr__(self):\n",
    "        return f\"I'm a {self.name}\"\n",
    "    \n",
    "\n",
    "animal = Animal(\"Dog\")\n",
    "\n",
    "print(animal.__str__())\n",
    "print(animal.__repr__())"
   ]
  },
  {
   "cell_type": "code",
   "execution_count": null,
   "id": "e10d1ca0",
   "metadata": {},
   "outputs": [],
   "source": []
  }
 ],
 "metadata": {
  "kernelspec": {
   "display_name": "Python 3 (ipykernel)",
   "language": "python",
   "name": "python3"
  },
  "language_info": {
   "codemirror_mode": {
    "name": "ipython",
    "version": 3
   },
   "file_extension": ".py",
   "mimetype": "text/x-python",
   "name": "python",
   "nbconvert_exporter": "python",
   "pygments_lexer": "ipython3",
   "version": "3.9.6"
  }
 },
 "nbformat": 4,
 "nbformat_minor": 5
}
