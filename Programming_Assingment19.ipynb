{
 "cells": [
  {
   "cell_type": "markdown",
   "id": "4754148b",
   "metadata": {},
   "source": [
    "### Create a function that takes a string and returns a string in which each character is repeated twice."
   ]
  },
  {
   "cell_type": "code",
   "execution_count": 2,
   "id": "ff3e3c7b",
   "metadata": {},
   "outputs": [
    {
     "name": "stdout",
     "output_type": "stream",
     "text": [
      "SSttrriinngg\n",
      "HHeelllloo  WWoorrlldd!!\n"
     ]
    }
   ],
   "source": [
    "def double_char(string):\n",
    "    s=\"\"\n",
    "    for ch in string:\n",
    "        s=s+(2*ch)\n",
    "    return s\n",
    "\n",
    "print(double_char(\"String\"))\n",
    "print(double_char(\"Hello World!\"))"
   ]
  },
  {
   "cell_type": "markdown",
   "id": "3e6d98db",
   "metadata": {},
   "source": [
    "### Create a function that reverses a boolean value and returns the string \"boolean expected\" if another variable type is given."
   ]
  },
  {
   "cell_type": "code",
   "execution_count": 3,
   "id": "c66fd644",
   "metadata": {},
   "outputs": [
    {
     "name": "stdout",
     "output_type": "stream",
     "text": [
      "False\n",
      "True\n",
      "boolean expected\n",
      "boolean expected\n"
     ]
    }
   ],
   "source": [
    "def reverse(boolean):\n",
    "    if isinstance(boolean, bool):\n",
    "        if boolean:\n",
    "            return False\n",
    "        return True\n",
    "    else:\n",
    "        return 'boolean expected'\n",
    "\n",
    "print(reverse(True))\n",
    "print(reverse(False))\n",
    "print(reverse(0))\n",
    "print(reverse(None))"
   ]
  },
  {
   "cell_type": "markdown",
   "id": "ffd86e83",
   "metadata": {},
   "source": [
    "### Using list comprehensions, create a function that finds all even numbers from 1 to the given number."
   ]
  },
  {
   "cell_type": "code",
   "execution_count": 11,
   "id": "8f4e098e",
   "metadata": {},
   "outputs": [
    {
     "data": {
      "text/plain": [
       "[0, 2, 4, 6, 8]"
      ]
     },
     "execution_count": 11,
     "metadata": {},
     "output_type": "execute_result"
    }
   ],
   "source": [
    "def find_even_nums(n):\n",
    "    return [i for i in range(n+1) if not i&1]\n",
    "\n",
    "find_even_nums(8)"
   ]
  },
  {
   "cell_type": "markdown",
   "id": "45757a7f",
   "metadata": {},
   "source": [
    "### Create a function that takes a single string as argument and returns an ordered list containing the indices of all capital letters in the string."
   ]
  },
  {
   "cell_type": "code",
   "execution_count": 12,
   "id": "17043c3c",
   "metadata": {},
   "outputs": [
    {
     "name": "stdout",
     "output_type": "stream",
     "text": [
      "[1, 3, 5]\n",
      "[1, 3, 4, 6]\n",
      "[]\n",
      "[0, 1, 2, 3, 4, 5]\n",
      "[1]\n"
     ]
    }
   ],
   "source": [
    "def index_of_caps(string):\n",
    "    return [i for i in range(len(string)) if 64<ord(string[i])<97]\n",
    "\n",
    "print(index_of_caps(\"eDaBiT\") )\n",
    "print(index_of_caps(\"eQuINoX\") )\n",
    "print(index_of_caps(\"determine\") )\n",
    "print(index_of_caps(\"STRIKE\") )                                                    \n",
    "print(index_of_caps(\"sUn\") )"
   ]
  },
  {
   "cell_type": "markdown",
   "id": "2862cc39",
   "metadata": {},
   "source": [
    "### Create a function that returns the thickness (in meters) of a piece of paper after folding it n number of times. The paper starts off with a thickness of 0.5mm."
   ]
  },
  {
   "cell_type": "code",
   "execution_count": 14,
   "id": "37a842cd",
   "metadata": {},
   "outputs": [
    {
     "name": "stdout",
     "output_type": "stream",
     "text": [
      "0.001 mm\n",
      "0.008 mm\n",
      "1048.576 mm\n"
     ]
    }
   ],
   "source": [
    "def num_layers(folds):\n",
    "    thickness = 0.5\n",
    "    return f\"{((2**folds)*thickness)/1000} mm\"\n",
    "\n",
    "print(num_layers(1))\n",
    "print(num_layers(4))\n",
    "print(num_layers(21))\n",
    "    "
   ]
  },
  {
   "cell_type": "code",
   "execution_count": null,
   "id": "43873ac0",
   "metadata": {},
   "outputs": [],
   "source": []
  }
 ],
 "metadata": {
  "kernelspec": {
   "display_name": "Python 3 (ipykernel)",
   "language": "python",
   "name": "python3"
  },
  "language_info": {
   "codemirror_mode": {
    "name": "ipython",
    "version": 3
   },
   "file_extension": ".py",
   "mimetype": "text/x-python",
   "name": "python",
   "nbconvert_exporter": "python",
   "pygments_lexer": "ipython3",
   "version": "3.9.6"
  }
 },
 "nbformat": 4,
 "nbformat_minor": 5
}
