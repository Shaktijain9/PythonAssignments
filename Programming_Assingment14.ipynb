{
 "cells": [
  {
   "cell_type": "markdown",
   "id": "b7bf1965",
   "metadata": {},
   "source": [
    "### Write a program to compute the frequency of the words from the input. The output should output after sorting the key alphanumerically. "
   ]
  },
  {
   "cell_type": "code",
   "execution_count": 1,
   "id": "dec1b008",
   "metadata": {},
   "outputs": [
    {
     "name": "stdout",
     "output_type": "stream",
     "text": [
      "Enter the string: New to Python or choosing between Python 2 and Python 3? Read Python 2 or Python 3\n",
      "New:1\n",
      "to:1\n",
      "Python:5\n",
      "or:2\n",
      "choosing:1\n",
      "between:1\n",
      "2:2\n",
      "and:1\n",
      "3?:1\n",
      "Read:1\n",
      "3:1\n"
     ]
    }
   ],
   "source": [
    "string = input(\"Enter the string: \").split()\n",
    "temp = dict.fromkeys(string, 0)\n",
    "for word in string:\n",
    "    temp[word]+=1\n",
    "for key,value  in temp.items():\n",
    "    print(f\"{key}:{value}\")"
   ]
  },
  {
   "cell_type": "markdown",
   "id": "7c7483d8",
   "metadata": {},
   "source": [
    "### Please write a binary search function which searches an item in a sorted list. The function should return the index of element to be searched in the list."
   ]
  },
  {
   "cell_type": "code",
   "execution_count": 1,
   "id": "bcc6a4aa",
   "metadata": {},
   "outputs": [
    {
     "name": "stdout",
     "output_type": "stream",
     "text": [
      "Enter the values: 2 5 7 9 11 15\n",
      "Enter the element to be searched: 11\n",
      "Element found at index 4\n"
     ]
    }
   ],
   "source": [
    "def binSearch():\n",
    "    arr = list(map(int, input(\"Enter the values: \").split()))\n",
    "    ele = int(input(\"Enter the element to be searched: \"))\n",
    "    l=0\n",
    "    r=len(arr)-1\n",
    "    while(l<=r):\n",
    "        mid = (l+r)//2\n",
    "        if arr[mid]==ele:\n",
    "            return mid\n",
    "        elif arr[mid]>ele:\n",
    "            r=mid-1\n",
    "        else:\n",
    "            l=mid+1\n",
    "    return \n",
    "\n",
    "index = binSearch()\n",
    "if index == -1:\n",
    "    print(\"Element not present.\")\n",
    "else:\n",
    "    print(f\"Element found at index {index}\")\n",
    "    "
   ]
  },
  {
   "cell_type": "code",
   "execution_count": null,
   "id": "14fe0a47",
   "metadata": {},
   "outputs": [],
   "source": []
  }
 ],
 "metadata": {
  "kernelspec": {
   "display_name": "Python 3 (ipykernel)",
   "language": "python",
   "name": "python3"
  },
  "language_info": {
   "codemirror_mode": {
    "name": "ipython",
    "version": 3
   },
   "file_extension": ".py",
   "mimetype": "text/x-python",
   "name": "python",
   "nbconvert_exporter": "python",
   "pygments_lexer": "ipython3",
   "version": "3.9.6"
  }
 },
 "nbformat": 4,
 "nbformat_minor": 5
}
