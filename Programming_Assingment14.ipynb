{
 "cells": [
  {
   "cell_type": "markdown",
   "id": "c0efc607",
   "metadata": {},
   "source": [
    "### Write a program to compute the frequency of the words from the input. The output should output after sorting the key alphanumerically. "
   ]
  },
  {
   "cell_type": "code",
   "execution_count": 1,
   "id": "c39fc7df",
   "metadata": {},
   "outputs": [
    {
     "name": "stdout",
     "output_type": "stream",
     "text": [
      "Enter the string: New to Python or choosing between Python 2 and Python 3? Read Python 2 or Python 3\n",
      "New:1\n",
      "to:1\n",
      "Python:5\n",
      "or:2\n",
      "choosing:1\n",
      "between:1\n",
      "2:2\n",
      "and:1\n",
      "3?:1\n",
      "Read:1\n",
      "3:1\n"
     ]
    }
   ],
   "source": [
    "string = input(\"Enter the string: \").split()\n",
    "temp = dict.fromkeys(string, 0)\n",
    "for word in string:\n",
    "    temp[word]+=1\n",
    "for key,value  in temp.items():\n",
    "    print(f\"{key}:{value}\")"
   ]
  },
  {
   "cell_type": "code",
   "execution_count": null,
   "id": "00f2fb18",
   "metadata": {},
   "outputs": [],
   "source": []
  }
 ],
 "metadata": {
  "kernelspec": {
   "display_name": "Python 3 (ipykernel)",
   "language": "python",
   "name": "python3"
  },
  "language_info": {
   "codemirror_mode": {
    "name": "ipython",
    "version": 3
   },
   "file_extension": ".py",
   "mimetype": "text/x-python",
   "name": "python",
   "nbconvert_exporter": "python",
   "pygments_lexer": "ipython3",
   "version": "3.9.6"
  }
 },
 "nbformat": 4,
 "nbformat_minor": 5
}
