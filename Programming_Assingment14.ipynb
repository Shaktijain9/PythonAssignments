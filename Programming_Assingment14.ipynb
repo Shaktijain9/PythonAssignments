{
 "cells": [
  {
   "cell_type": "markdown",
   "id": "b7bf1965",
   "metadata": {},
   "source": [
    "### Write a program to compute the frequency of the words from the input. The output should output after sorting the key alphanumerically. "
   ]
  },
  {
   "cell_type": "code",
   "execution_count": 1,
   "id": "dec1b008",
   "metadata": {},
   "outputs": [
    {
     "name": "stdout",
     "output_type": "stream",
     "text": [
      "Enter the string: New to Python or choosing between Python 2 and Python 3? Read Python 2 or Python 3\n",
      "New:1\n",
      "to:1\n",
      "Python:5\n",
      "or:2\n",
      "choosing:1\n",
      "between:1\n",
      "2:2\n",
      "and:1\n",
      "3?:1\n",
      "Read:1\n",
      "3:1\n"
     ]
    }
   ],
   "source": [
    "string = input(\"Enter the string: \").split()\n",
    "temp = dict.fromkeys(string, 0)\n",
    "for word in string:\n",
    "    temp[word]+=1\n",
    "for key,value  in temp.items():\n",
    "    print(f\"{key}:{value}\")"
   ]
  },
  {
   "cell_type": "markdown",
   "id": "7c7483d8",
   "metadata": {},
   "source": [
    "### Please write a binary search function which searches an item in a sorted list. The function should return the index of element to be searched in the list."
   ]
  },
  {
   "cell_type": "code",
   "execution_count": 1,
   "id": "bcc6a4aa",
   "metadata": {},
   "outputs": [
    {
     "name": "stdout",
     "output_type": "stream",
     "text": [
      "Enter the values: 2 5 7 9 11 15\n",
      "Enter the element to be searched: 11\n",
      "Element found at index 4\n"
     ]
    }
   ],
   "source": [
    "def binSearch():\n",
    "    arr = list(map(int, input(\"Enter the values: \").split()))\n",
    "    ele = int(input(\"Enter the element to be searched: \"))\n",
    "    l=0\n",
    "    r=len(arr)-1\n",
    "    while(l<=r):\n",
    "        mid = (l+r)//2\n",
    "        if arr[mid]==ele:\n",
    "            return mid\n",
    "        elif arr[mid]>ele:\n",
    "            r=mid-1\n",
    "        else:\n",
    "            l=mid+1\n",
    "    return \n",
    "\n",
    "index = binSearch()\n",
    "if index == -1:\n",
    "    print(\"Element not present.\")\n",
    "else:\n",
    "    print(f\"Element found at index {index}\")\n",
    "    "
   ]
  },
  {
   "cell_type": "markdown",
   "id": "aadd592c",
   "metadata": {},
   "source": [
    "### Define a class with a generator which can iterate the numbers, which are divisible by 7, between a given range 0 and n."
   ]
  },
  {
   "cell_type": "code",
   "execution_count": 12,
   "id": "be339f7b",
   "metadata": {},
   "outputs": [
    {
     "name": "stdout",
     "output_type": "stream",
     "text": [
      "Numbers divisible by 7 : [0, 7, 14]\n"
     ]
    }
   ],
   "source": [
    "class DivBySeven:\n",
    "\n",
    "    def __init__(self, start, end):\n",
    "        self.start = start\n",
    "        self.end = end\n",
    "        \n",
    "    def number(self):\n",
    "        start = self.start\n",
    "        end = self.end\n",
    "        while start<=end:\n",
    "            val = start\n",
    "            if val%7==0:\n",
    "                yield val\n",
    "            start+=1\n",
    "            \n",
    "obj = DivBySeven(0, 16)\n",
    "nums = obj.number()\n",
    "print(f\"Numbers divisible by 7 : {[num for num in nums]}\")"
   ]
  },
  {
   "cell_type": "markdown",
   "id": "0f7c1fd3",
   "metadata": {},
   "source": [
    "### Define a class Person and its two child classes: Male and Female. All classes have a method \"getGender\" which can print \"Male\" for Male class and \"Female\" for Female class."
   ]
  },
  {
   "cell_type": "code",
   "execution_count": 1,
   "id": "85e472ab",
   "metadata": {},
   "outputs": [
    {
     "name": "stdout",
     "output_type": "stream",
     "text": [
      "Gender is Male\n",
      "Gender is Female\n"
     ]
    }
   ],
   "source": [
    "class Person:\n",
    "    def getGender(self):\n",
    "        print('Gender is unanimous')\n",
    "\n",
    "class Male(Person):\n",
    "    def getGender(self):\n",
    "        print(\"Gender is Male\")\n",
    "        \n",
    "class Female(Person):\n",
    "    def getGender(self):\n",
    "        print('Gender is Female')\n",
    "\n",
    "male = Male()\n",
    "male.getGender()\n",
    "\n",
    "fmale = Female()\n",
    "fmale.getGender()"
   ]
  },
  {
   "cell_type": "markdown",
   "id": "ae9fdc81",
   "metadata": {},
   "source": [
    "### Please write a program to generate all sentences where subject is in [\"I\", \"You\"] and verb is in [\"Play\", \"Love\"] and the object is in [\"Hockey\",\"Football\"]."
   ]
  },
  {
   "cell_type": "code",
   "execution_count": 4,
   "id": "6d756423",
   "metadata": {},
   "outputs": [
    {
     "name": "stdout",
     "output_type": "stream",
     "text": [
      "I play hockey.\n",
      "I play football.\n",
      "I love hockey.\n",
      "I love football.\n",
      "You play hockey.\n",
      "You play football.\n",
      "You love hockey.\n",
      "You love football.\n"
     ]
    }
   ],
   "source": [
    "def sentences(subs, verbs, objs):\n",
    "    for sub in subs:\n",
    "        for verb in verbs:\n",
    "            for obj in objs:\n",
    "                print(f\"{sub} {verb} {obj}.\")\n",
    "\n",
    "sentences([\"I\", \"You\"], [\"play\", \"love\"], [\"hockey\",\"football\"])"
   ]
  },
  {
   "cell_type": "markdown",
   "id": "b88bde7b",
   "metadata": {},
   "source": [
    "### Please write a program to compress and decompress the string \"hello world!hello world!hello world!hello world!\"."
   ]
  },
  {
   "cell_type": "code",
   "execution_count": 10,
   "id": "9c878907",
   "metadata": {},
   "outputs": [
    {
     "name": "stdout",
     "output_type": "stream",
     "text": [
      "Compressed String: b'\\x1f\\x8b\\x08\\x00<\\xc0\\x14c\\x02\\xff\\xcbH\\xcd\\xc9\\xc9W(\\xcf/\\xcaIQ\\xcc \\x82\\r\\x00\\xd3\\xe6\\xcf\\xae0\\x00\\x00\\x00'\n",
      "Decompressed String: b'hello world!hello world!hello world!hello world!'\n"
     ]
    }
   ],
   "source": [
    "import gzip\n",
    "\n",
    "def compressAndDecompress(s):\n",
    "    s = bytes(s, 'utf-8')\n",
    "    s = gzip.compress((s))\n",
    "    print(f\"Compressed String: {s}\")\n",
    "    \n",
    "    t = gzip.decompress(s)\n",
    "    print(f\"Decompressed String: {t}\")\n",
    "\n",
    "compressAndDecompress('hello world!hello world!hello world!hello world!')"
   ]
  },
  {
   "cell_type": "code",
   "execution_count": null,
   "id": "5433748c",
   "metadata": {},
   "outputs": [],
   "source": []
  }
 ],
 "metadata": {
  "kernelspec": {
   "display_name": "Python 3 (ipykernel)",
   "language": "python",
   "name": "python3"
  },
  "language_info": {
   "codemirror_mode": {
    "name": "ipython",
    "version": 3
   },
   "file_extension": ".py",
   "mimetype": "text/x-python",
   "name": "python",
   "nbconvert_exporter": "python",
   "pygments_lexer": "ipython3",
   "version": "3.9.6"
  }
 },
 "nbformat": 4,
 "nbformat_minor": 5
}
