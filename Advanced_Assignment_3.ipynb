{
 "cells": [
  {
   "cell_type": "markdown",
   "id": "db46dd2b",
   "metadata": {},
   "source": [
    "### What is the concept of an abstract superclass?"
   ]
  },
  {
   "cell_type": "markdown",
   "id": "ca3891b4",
   "metadata": {},
   "source": [
    "Abstract classes are those classes which contains atleast one abstract method. Anstract methods are those methods which are declared but not defined. That is the abstract class can never be instantiated, i.e. the objects of the abstract class can not be created. Any class which inherits the abstract class has to define all the abstract methods defined in the abstract class.The abstract class in python are provided in abc module. The abstract methods in the class are defined using @abstarctmethods annotation."
   ]
  },
  {
   "cell_type": "code",
   "execution_count": 6,
   "id": "3e1c309e",
   "metadata": {},
   "outputs": [
    {
     "name": "stdout",
     "output_type": "stream",
     "text": [
      "25\n"
     ]
    }
   ],
   "source": [
    "from abc import ABC, abstractmethod\n",
    "\n",
    "class Shape(ABC):\n",
    "    @abstractmethod\n",
    "    def area(self):\n",
    "        pass\n",
    "    \n",
    "class Square(Shape):\n",
    "    def __init__(self, side):\n",
    "        self.side = side\n",
    "    \n",
    "    def area(self):\n",
    "        return self.side * self.side\n",
    "    \n",
    "s = Square(5)\n",
    "print(s.area())"
   ]
  },
  {
   "cell_type": "markdown",
   "id": "d15f5807",
   "metadata": {},
   "source": [
    "### What happens when a class statement's top level contains a basic assignment statement?"
   ]
  },
  {
   "cell_type": "markdown",
   "id": "743a0cb4",
   "metadata": {},
   "source": [
    "When a class statement's top level conatins a basic assignment statement or any statement as such it will get executed when the module is imported in which that class is defined.\n",
    "Suppose below code is part of some module A. When this module is imported in another module and a hello() method of class Sample is called it will first print --> Hello World, then it will return the value from method hello()\n"
   ]
  },
  {
   "cell_type": "code",
   "execution_count": 2,
   "id": "03e23809",
   "metadata": {},
   "outputs": [
    {
     "name": "stdout",
     "output_type": "stream",
     "text": [
      "Hello World\n"
     ]
    }
   ],
   "source": [
    "s = \"Hello World\"\n",
    "print(s)\n",
    "\n",
    "class sample:\n",
    "    def __init__(self):\n",
    "        pass\n",
    "    def hello(self):\n",
    "        return \"Hello\"\n",
    "    \n"
   ]
  },
  {
   "cell_type": "markdown",
   "id": "c77d0ad7",
   "metadata": {},
   "source": [
    "### Why does a class need to manually call a superclass's __init__ method?"
   ]
  },
  {
   "cell_type": "code",
   "execution_count": null,
   "id": "13118d99",
   "metadata": {},
   "outputs": [],
   "source": []
  }
 ],
 "metadata": {
  "kernelspec": {
   "display_name": "Python 3 (ipykernel)",
   "language": "python",
   "name": "python3"
  },
  "language_info": {
   "codemirror_mode": {
    "name": "ipython",
    "version": 3
   },
   "file_extension": ".py",
   "mimetype": "text/x-python",
   "name": "python",
   "nbconvert_exporter": "python",
   "pygments_lexer": "ipython3",
   "version": "3.9.6"
  }
 },
 "nbformat": 4,
 "nbformat_minor": 5
}
