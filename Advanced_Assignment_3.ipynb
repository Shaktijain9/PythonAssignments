{
 "cells": [
  {
   "cell_type": "markdown",
   "id": "db46dd2b",
   "metadata": {},
   "source": [
    "### What is the concept of an abstract superclass?"
   ]
  },
  {
   "cell_type": "markdown",
   "id": "ca3891b4",
   "metadata": {},
   "source": [
    "Abstract classes are those classes which contains atleast one abstract method. Anstract methods are those methods which are declared but not defined. That is the abstract class can never be instantiated, i.e. the objects of the abstract class can not be created. Any class which inherits the abstract class has to define all the abstract methods defined in the abstract class.The abstract class in python are provided in abc module. The abstract methods in the class are defined using @abstarctmethods annotation."
   ]
  },
  {
   "cell_type": "code",
   "execution_count": 6,
   "id": "3e1c309e",
   "metadata": {},
   "outputs": [
    {
     "name": "stdout",
     "output_type": "stream",
     "text": [
      "25\n"
     ]
    }
   ],
   "source": [
    "from abc import ABC, abstractmethod\n",
    "\n",
    "class Shape(ABC):\n",
    "    @abstractmethod\n",
    "    def area(self):\n",
    "        pass\n",
    "    \n",
    "class Square(Shape):\n",
    "    def __init__(self, side):\n",
    "        self.side = side\n",
    "    \n",
    "    def area(self):\n",
    "        return self.side * self.side\n",
    "    \n",
    "s = Square(5)\n",
    "print(s.area())"
   ]
  },
  {
   "cell_type": "markdown",
   "id": "d15f5807",
   "metadata": {},
   "source": [
    "### What happens when a class statement's top level contains a basic assignment statement?"
   ]
  },
  {
   "cell_type": "markdown",
   "id": "524db100",
   "metadata": {},
   "source": [
    "When a class statement's top level conatins a basic assignment statement or any statement as such it will get executed when the module is imported in which that class is defined.\n",
    "Suppose below code is part of some module A. When this module is imported in another module and a hello() method of class Sample is called it will first print --> Hello World, then it will return the value from method hello()\n"
   ]
  },
  {
   "cell_type": "code",
   "execution_count": 2,
   "id": "5049c9cc",
   "metadata": {},
   "outputs": [
    {
     "name": "stdout",
     "output_type": "stream",
     "text": [
      "Hello World\n"
     ]
    }
   ],
   "source": [
    "s = \"Hello World\"\n",
    "print(s)\n",
    "\n",
    "class sample:\n",
    "    def __init__(self):\n",
    "        pass\n",
    "    def hello(self):\n",
    "        return \"Hello\"\n",
    "    \n"
   ]
  },
  {
   "cell_type": "markdown",
   "id": "945cf8aa",
   "metadata": {},
   "source": [
    "### Why does a class need to manually call a superclass's __init__ method?"
   ]
  },
  {
   "cell_type": "markdown",
   "id": "d6d42f06",
   "metadata": {},
   "source": [
    "We needs to do it because of the basic principle of inheritance.When we define init inside derived class or subclass it automatically overrides the existing init of base class or super class. Hence inorder to get extra functionality of the super class or base class we have to call the init method of it explicitly."
   ]
  },
  {
   "cell_type": "markdown",
   "id": "ae29705c",
   "metadata": {},
   "source": [
    "### How can you augment, instead of completely replacing, an inherited method?"
   ]
  },
  {
   "cell_type": "code",
   "execution_count": 21,
   "id": "e61820e7",
   "metadata": {},
   "outputs": [
    {
     "name": "stdout",
     "output_type": "stream",
     "text": [
      "Shape is added with side 4\n",
      "Square is created\n"
     ]
    }
   ],
   "source": [
    "class Shape:\n",
    "    def __init__(self, side, name):\n",
    "        self.side = side\n",
    "        self.name = name\n",
    "    \n",
    "    def getInfo(self):\n",
    "        return f\"Shape is added with side {self.side}\"\n",
    "    \n",
    "\n",
    "class Square(Shape):\n",
    "     \n",
    "    def setSide(self):\n",
    "        self.length = self.side\n",
    "        \n",
    "    def getInfo(self):\n",
    "        print(super(Square, self).getInfo())\n",
    "        return \"Square is created\"\n",
    "        \n",
    "        \n",
    "        \n",
    "square = Square(4, \"sqaure\")\n",
    "print(square.getInfo())\n",
    "\n",
    "\n",
    "\n",
    "\n",
    "\n"
   ]
  },
  {
   "cell_type": "markdown",
   "id": "79a443fb",
   "metadata": {},
   "source": [
    "Here we have extended the existing method getInfo() of Super class Shape. Now it returns the statement defined in superclass along with extended code that we added in Square getInfo()"
   ]
  },
  {
   "cell_type": "markdown",
   "id": "cd6be5be",
   "metadata": {},
   "source": [
    "### How is the local scope of a class different from that of a function?"
   ]
  },
  {
   "cell_type": "code",
   "execution_count": 13,
   "id": "01a5f947",
   "metadata": {},
   "outputs": [
    {
     "name": "stdout",
     "output_type": "stream",
     "text": [
      "{'__module__': '__main__', 'tricks': [], '__init__': <function Sample.__init__ at 0x0000019E2B3A3D30>, 'add_trick': <function Sample.add_trick at 0x0000019E2B3A3940>, '__dict__': <attribute '__dict__' of 'Sample' objects>, '__weakref__': <attribute '__weakref__' of 'Sample' objects>, '__doc__': None}\n",
      "<class 'type'>\n"
     ]
    }
   ],
   "source": [
    "class Sample:\n",
    "    tricks=[]\n",
    "    \n",
    "    def __init__(self, name):\n",
    "        self.name = name\n",
    "        \n",
    "    def add_trick(self, trick):\n",
    "        self.tricks.append(trick)\n",
    "        \n",
    "    \n",
    "print(Sample.__dict__)\n",
    "print(Sample.__class__)"
   ]
  },
  {
   "cell_type": "markdown",
   "id": "57cda9ca",
   "metadata": {},
   "source": [
    "The nonlocal scope is for enclosing functions. A class declaration is not a function. Its namespace gets thrown away after it is used to create the class object's __dict__, so variables at the class level cannot produce nonlocals in enclosed functions. Think of class-level assignments and variable reads like implicit assignments to and reads from a hidden dict, rather than as function locals."
   ]
  },
  {
   "cell_type": "code",
   "execution_count": null,
   "id": "75125e8c",
   "metadata": {},
   "outputs": [],
   "source": []
  }
 ],
 "metadata": {
  "kernelspec": {
   "display_name": "Python 3 (ipykernel)",
   "language": "python",
   "name": "python3"
  },
  "language_info": {
   "codemirror_mode": {
    "name": "ipython",
    "version": 3
   },
   "file_extension": ".py",
   "mimetype": "text/x-python",
   "name": "python",
   "nbconvert_exporter": "python",
   "pygments_lexer": "ipython3",
   "version": "3.9.6"
  }
 },
 "nbformat": 4,
 "nbformat_minor": 5
}
