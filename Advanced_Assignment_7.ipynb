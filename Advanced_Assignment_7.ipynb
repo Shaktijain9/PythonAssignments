{
 "cells": [
  {
   "cell_type": "markdown",
   "id": "045018dd",
   "metadata": {},
   "source": [
    "### What is the purpose of the try statement?"
   ]
  },
  {
   "cell_type": "markdown",
   "id": "30e26513",
   "metadata": {},
   "source": [
    "Try statement allows you to define a block of code to be tested for errors while it is being executed."
   ]
  },
  {
   "cell_type": "markdown",
   "id": "aa1f4a3b",
   "metadata": {},
   "source": [
    "### What are the two most popular try statement variations?"
   ]
  },
  {
   "cell_type": "markdown",
   "id": "19b3f8fb",
   "metadata": {},
   "source": [
    "* try-except\n",
    "* try-except-finally\n"
   ]
  },
  {
   "cell_type": "code",
   "execution_count": 2,
   "id": "932be604",
   "metadata": {},
   "outputs": [
    {
     "name": "stdout",
     "output_type": "stream",
     "text": [
      "Inside Try\n",
      "Inside Except Block!!\n"
     ]
    }
   ],
   "source": [
    "def Sample():\n",
    "    try:\n",
    "        print(\"Inside Try\")\n",
    "        3/0\n",
    "    except:\n",
    "        print(\"Inside Except Block!!\")\n",
    "\n",
    "Sample()"
   ]
  },
  {
   "cell_type": "code",
   "execution_count": 3,
   "id": "2ffd64cd",
   "metadata": {},
   "outputs": [
    {
     "name": "stdout",
     "output_type": "stream",
     "text": [
      "Inside Try\n",
      "Inside Except Block!!\n",
      "Inside Finally Block!!\n"
     ]
    }
   ],
   "source": [
    "def Sample():\n",
    "    try:\n",
    "        print(\"Inside Try\")\n",
    "        3/0\n",
    "    except:\n",
    "        print(\"Inside Except Block!!\")\n",
    "    finally:\n",
    "        print(\"Inside Finally Block!!\")\n",
    "\n",
    "Sample()"
   ]
  },
  {
   "cell_type": "markdown",
   "id": "44fdea49",
   "metadata": {},
   "source": [
    "* try-except-else-finally"
   ]
  },
  {
   "cell_type": "code",
   "execution_count": 5,
   "id": "cc3db1c1",
   "metadata": {},
   "outputs": [
    {
     "name": "stdout",
     "output_type": "stream",
     "text": [
      "Inside Try\n",
      "No error is generated!!\n",
      "Inside Finally Block!!\n",
      "\n",
      "Inside Try\n",
      "Error is generated!!\n",
      "Inside Finally Block!!\n"
     ]
    }
   ],
   "source": [
    "def Sample():\n",
    "    try:\n",
    "        print(\"Inside Try\")\n",
    "    except:\n",
    "        print(\"Inside Except Block!!\")\n",
    "    else:\n",
    "        print(\"No error is generated!!\")\n",
    "    finally:\n",
    "        print(\"Inside Finally Block!!\")\n",
    "\n",
    "Sample()\n",
    "\n",
    "print()\n",
    "\n",
    "def Sample2():\n",
    "    try:\n",
    "        print(\"Inside Try\")\n",
    "        3/0\n",
    "    except:\n",
    "        print(\"Error is generated!!\")\n",
    "    else:\n",
    "        print(\"No error is generated!!\")\n",
    "    finally:\n",
    "        print(\"Inside Finally Block!!\")\n",
    "\n",
    "Sample2()\n",
    "\n",
    "\n",
    "\n"
   ]
  },
  {
   "cell_type": "markdown",
   "id": "d213764d",
   "metadata": {},
   "source": [
    "### What is the purpose of the raise statement?"
   ]
  },
  {
   "cell_type": "markdown",
   "id": "38d9db0d",
   "metadata": {},
   "source": [
    "Python's raise statement is used to raise the exception or errors. It raises the exception/errors and stop the control flow of program. Its used to bring up the current exception in exception handler so that it can be handled further back in call stack."
   ]
  },
  {
   "cell_type": "markdown",
   "id": "b0cc574c",
   "metadata": {},
   "source": [
    "### What does the assert statement do, and what other statement is it like?"
   ]
  },
  {
   "cell_type": "code",
   "execution_count": null,
   "id": "e676b5c4",
   "metadata": {},
   "outputs": [],
   "source": []
  }
 ],
 "metadata": {
  "kernelspec": {
   "display_name": "Python 3 (ipykernel)",
   "language": "python",
   "name": "python3"
  },
  "language_info": {
   "codemirror_mode": {
    "name": "ipython",
    "version": 3
   },
   "file_extension": ".py",
   "mimetype": "text/x-python",
   "name": "python",
   "nbconvert_exporter": "python",
   "pygments_lexer": "ipython3",
   "version": "3.9.6"
  }
 },
 "nbformat": 4,
 "nbformat_minor": 5
}
