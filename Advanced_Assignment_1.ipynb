{
 "cells": [
  {
   "cell_type": "markdown",
   "id": "25aeca45",
   "metadata": {},
   "source": [
    "### What is the purpose of Python's OOP?"
   ]
  },
  {
   "cell_type": "markdown",
   "id": "8b3e8385",
   "metadata": {},
   "source": [
    "The main of OOPS is to deal with real world entities like, inheritance , polymorphism, abstaction & incapsulations.The main here is to bind the data and function together in a signle unit so that it remains independent & isolated from other code but accessible through same unit."
   ]
  },
  {
   "cell_type": "markdown",
   "id": "5df0ddc2",
   "metadata": {},
   "source": [
    "### Where does an inheritance search look for an attribute?"
   ]
  },
  {
   "cell_type": "markdown",
   "id": "7b07ea5c",
   "metadata": {},
   "source": [
    "First attribute is searched into the object if it doesn't find it there it searched in above classes from bottom to top & from left to right in the case of multiple inheritance."
   ]
  },
  {
   "cell_type": "markdown",
   "id": "86cbf2bd",
   "metadata": {},
   "source": [
    "###  How do you distinguish between a class object and an instance object?"
   ]
  },
  {
   "cell_type": "raw",
   "id": "1cee8108",
   "metadata": {},
   "source": [
    "1.) Class objects are created once we define the class with help of class keyword, i.e., class ClassName. Once this code is coomplied a class object is created with class name.This class object inherits the attributes of its parent class. This class object serves as the factory to create instances of the class.\n",
    "\n",
    "2.) Instance objects are created once we call the class.Now instance object has access to attributes defined in the class and class objects."
   ]
  },
  {
   "cell_type": "code",
   "execution_count": 2,
   "id": "3604e809",
   "metadata": {},
   "outputs": [
    {
     "name": "stdout",
     "output_type": "stream",
     "text": [
      "<class '__main__.Shakti'>\n",
      "<__main__.Shakti object at 0x0000022CBBAF6E20>\n"
     ]
    }
   ],
   "source": [
    "class Shakti:\n",
    "    pass\n",
    "\n",
    "#Class Object\n",
    "print(Shakti)\n",
    "\n",
    "#Instance Object\n",
    "obj1 = Shakti()\n",
    "print(obj1)"
   ]
  },
  {
   "cell_type": "markdown",
   "id": "8b5a676e",
   "metadata": {},
   "source": [
    "### What makes the first argument in a class’s method function special?"
   ]
  },
  {
   "cell_type": "code",
   "execution_count": 13,
   "id": "3dd6342d",
   "metadata": {},
   "outputs": [
    {
     "name": "stdout",
     "output_type": "stream",
     "text": [
      "cls\n"
     ]
    }
   ],
   "source": [
    "class Sample:\n",
    "    \n",
    "    @classmethod\n",
    "    def sample_func(cls):\n",
    "        return \"cls\"\n",
    "\n",
    "print(Sample.sample_func())"
   ]
  },
  {
   "cell_type": "raw",
   "id": "487634a3",
   "metadata": {},
   "source": [
    "The first arguement in class methods is special coz it takes class(by convention cls) as input instead of self which works on instance of the class. cls keyword indicates that the changes involved in the method corresponds to the chnage in state of the class instead of some object. But class methods can still modify class state that applies across all instances of the class.\n",
    "We can call classmethods with class object as well as instance of the class."
   ]
  },
  {
   "cell_type": "code",
   "execution_count": null,
   "id": "420aef88",
   "metadata": {},
   "outputs": [],
   "source": []
  }
 ],
 "metadata": {
  "kernelspec": {
   "display_name": "Python 3 (ipykernel)",
   "language": "python",
   "name": "python3"
  },
  "language_info": {
   "codemirror_mode": {
    "name": "ipython",
    "version": 3
   },
   "file_extension": ".py",
   "mimetype": "text/x-python",
   "name": "python",
   "nbconvert_exporter": "python",
   "pygments_lexer": "ipython3",
   "version": "3.9.6"
  }
 },
 "nbformat": 4,
 "nbformat_minor": 5
}
