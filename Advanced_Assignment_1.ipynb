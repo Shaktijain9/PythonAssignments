{
 "cells": [
  {
   "cell_type": "markdown",
   "id": "25aeca45",
   "metadata": {},
   "source": [
    "### What is the purpose of Python's OOP?"
   ]
  },
  {
   "cell_type": "markdown",
   "id": "8b3e8385",
   "metadata": {},
   "source": [
    "The main of OOPS is to deal with real world entities like, inheritance , polymorphism, abstaction & incapsulations.The main here is to bind the data and function together in a signle unit so that it remains independent & isolated from other code but accessible through same unit."
   ]
  },
  {
   "cell_type": "markdown",
   "id": "5df0ddc2",
   "metadata": {},
   "source": [
    "### Where does an inheritance search look for an attribute?"
   ]
  },
  {
   "cell_type": "markdown",
   "id": "7b07ea5c",
   "metadata": {},
   "source": [
    "First attribute is searched into the object if it doesn't find it there it searched in above classes from bottom to top & from left to right in the case of multiple inheritance."
   ]
  },
  {
   "cell_type": "markdown",
   "id": "d01be920",
   "metadata": {},
   "source": [
    "###  How do you distinguish between a class object and an instance object?"
   ]
  },
  {
   "cell_type": "raw",
   "id": "4e6916a5",
   "metadata": {},
   "source": [
    "1.) Class objects are created once we define the class with help of class keyword, i.e., class ClassName. Once this code is coomplied a class object is created with class name.This class object inherits the attributes of its parent class. This class object serves as the factory to create instances of the class.\n",
    "\n",
    "2.) Instance objects are created once we call the class.Now instance object has access to attributes defined in the class and class objects."
   ]
  },
  {
   "cell_type": "code",
   "execution_count": 2,
   "id": "2d4dbcb4",
   "metadata": {},
   "outputs": [
    {
     "name": "stdout",
     "output_type": "stream",
     "text": [
      "<class '__main__.Shakti'>\n",
      "<__main__.Shakti object at 0x0000022CBBAF6E20>\n"
     ]
    }
   ],
   "source": [
    "class Shakti:\n",
    "    pass\n",
    "\n",
    "#Class Object\n",
    "print(Shakti)\n",
    "\n",
    "#Instance Object\n",
    "obj1 = Shakti()\n",
    "print(obj1)"
   ]
  },
  {
   "cell_type": "code",
   "execution_count": null,
   "id": "ab90f36d",
   "metadata": {},
   "outputs": [],
   "source": []
  }
 ],
 "metadata": {
  "kernelspec": {
   "display_name": "Python 3 (ipykernel)",
   "language": "python",
   "name": "python3"
  },
  "language_info": {
   "codemirror_mode": {
    "name": "ipython",
    "version": 3
   },
   "file_extension": ".py",
   "mimetype": "text/x-python",
   "name": "python",
   "nbconvert_exporter": "python",
   "pygments_lexer": "ipython3",
   "version": "3.9.6"
  }
 },
 "nbformat": 4,
 "nbformat_minor": 5
}
