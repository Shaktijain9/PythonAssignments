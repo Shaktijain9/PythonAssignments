{
 "cells": [
  {
   "cell_type": "markdown",
   "id": "25aeca45",
   "metadata": {},
   "source": [
    "### What is the purpose of Python's OOP?"
   ]
  },
  {
   "cell_type": "markdown",
   "id": "8b3e8385",
   "metadata": {},
   "source": [
    "The main of OOPS is to deal with real world entities like, inheritance , polymorphism, abstaction & incapsulations.The main here is to bind the data and function together in a signle unit so that it remains independent & isolated from other code but accessible through same unit."
   ]
  },
  {
   "cell_type": "markdown",
   "id": "5df0ddc2",
   "metadata": {},
   "source": [
    "### Where does an inheritance search look for an attribute?"
   ]
  },
  {
   "cell_type": "markdown",
   "id": "7b07ea5c",
   "metadata": {},
   "source": [
    "First attribute is searched into the object if it doesn't find it there it searched in above classes from bottom to top & from left to right in the case of multiple inheritance."
   ]
  },
  {
   "cell_type": "markdown",
   "id": "86cbf2bd",
   "metadata": {},
   "source": [
    "###  How do you distinguish between a class object and an instance object?"
   ]
  },
  {
   "cell_type": "raw",
   "id": "1cee8108",
   "metadata": {},
   "source": [
    "1.) Class objects are created once we define the class with help of class keyword, i.e., class ClassName. Once this code is coomplied a class object is created with class name.This class object inherits the attributes of its parent class. This class object serves as the factory to create instances of the class.\n",
    "\n",
    "2.) Instance objects are created once we call the class.Now instance object has access to attributes defined in the class and class objects."
   ]
  },
  {
   "cell_type": "code",
   "execution_count": 2,
   "id": "3604e809",
   "metadata": {},
   "outputs": [
    {
     "name": "stdout",
     "output_type": "stream",
     "text": [
      "<class '__main__.Shakti'>\n",
      "<__main__.Shakti object at 0x0000022CBBAF6E20>\n"
     ]
    }
   ],
   "source": [
    "class Shakti:\n",
    "    pass\n",
    "\n",
    "#Class Object\n",
    "print(Shakti)\n",
    "\n",
    "#Instance Object\n",
    "obj1 = Shakti()\n",
    "print(obj1)"
   ]
  },
  {
   "cell_type": "markdown",
   "id": "8b5a676e",
   "metadata": {},
   "source": [
    "### What makes the first argument in a class’s method function special?"
   ]
  },
  {
   "cell_type": "code",
   "execution_count": 13,
   "id": "3dd6342d",
   "metadata": {},
   "outputs": [
    {
     "name": "stdout",
     "output_type": "stream",
     "text": [
      "cls\n"
     ]
    }
   ],
   "source": [
    "class Sample:\n",
    "    \n",
    "    @classmethod\n",
    "    def sample_func(cls):\n",
    "        return \"cls\"\n",
    "\n",
    "print(Sample.sample_func())"
   ]
  },
  {
   "cell_type": "raw",
   "id": "487634a3",
   "metadata": {},
   "source": [
    "The first arguement in class methods is special coz it takes class(by convention cls) as input instead of self which works on instance of the class. cls keyword indicates that the changes involved in the method corresponds to the chnage in state of the class instead of some object. But class methods can still modify class state that applies across all instances of the class.\n",
    "We can call classmethods with class object as well as instance of the class."
   ]
  },
  {
   "cell_type": "markdown",
   "id": "7f732155",
   "metadata": {},
   "source": [
    "### What is the purpose of the __init__ method?"
   ]
  },
  {
   "cell_type": "raw",
   "id": "f01155fe",
   "metadata": {},
   "source": [
    "The init method lets the class initialize the object's attributes. Its only used with in the class."
   ]
  },
  {
   "cell_type": "markdown",
   "id": "45b8dc29",
   "metadata": {},
   "source": [
    "### What is the process for creating a instance of class?"
   ]
  },
  {
   "cell_type": "code",
   "execution_count": 8,
   "id": "4e0ff548",
   "metadata": {},
   "outputs": [
    {
     "name": "stdout",
     "output_type": "stream",
     "text": [
      "Inside New\n",
      "<class '__main__.Sample'>\n",
      "3 4\n",
      "Inside init\n",
      "Object values: 3 & 4\n"
     ]
    }
   ],
   "source": [
    "class Sample:\n",
    "    def __new__(cls, *args, **kwargs):\n",
    "        print(\"Inside New\")\n",
    "        print(cls)\n",
    "        print(*args)\n",
    "        obj = super().__new__(cls)\n",
    "        return obj\n",
    "    \n",
    "    def __init__(self, x, y):\n",
    "        print(\"Inside init\")\n",
    "        self.x = x\n",
    "        self.y = y\n",
    "        \n",
    "obj = Sample(3, 4)\n",
    "print(f\"Object values: {obj.x} & {obj.y}\")"
   ]
  },
  {
   "cell_type": "markdown",
   "id": "cf54f69d",
   "metadata": {},
   "source": [
    "### What is the process for creating a class instance?"
   ]
  },
  {
   "cell_type": "raw",
   "id": "3701c3ec",
   "metadata": {},
   "source": [
    "As soon as we define class with help of class keyword followed by class name , it created a local namespace of its own which contains attributes and methods associated with the class, at the same time it created a class object with same name as the class. This class object has access to different attributes and is used to create class objects."
   ]
  },
  {
   "cell_type": "code",
   "execution_count": 10,
   "id": "79e63f79",
   "metadata": {},
   "outputs": [
    {
     "name": "stdout",
     "output_type": "stream",
     "text": [
      "<class '__main__.Sample'>\n",
      "This is the sample class\n",
      "<function Sample.method1 at 0x0000024A0EB26310>\n"
     ]
    }
   ],
   "source": [
    "class Sample:\n",
    "    '''This is the sample class'''\n",
    "    sample_no=0\n",
    "    \n",
    "    def method1(self):\n",
    "        print(\"Method 1\")\n",
    "        \n",
    "print(Sample)\n",
    "print(Sample.__doc__)\n",
    "print(Sample.method1)"
   ]
  },
  {
   "cell_type": "code",
   "execution_count": null,
   "id": "5434b9c3",
   "metadata": {},
   "outputs": [],
   "source": []
  }
 ],
 "metadata": {
  "kernelspec": {
   "display_name": "Python 3 (ipykernel)",
   "language": "python",
   "name": "python3"
  },
  "language_info": {
   "codemirror_mode": {
    "name": "ipython",
    "version": 3
   },
   "file_extension": ".py",
   "mimetype": "text/x-python",
   "name": "python",
   "nbconvert_exporter": "python",
   "pygments_lexer": "ipython3",
   "version": "3.9.6"
  }
 },
 "nbformat": 4,
 "nbformat_minor": 5
}
