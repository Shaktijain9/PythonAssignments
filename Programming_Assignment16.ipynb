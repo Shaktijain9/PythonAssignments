{
 "cells": [
  {
   "cell_type": "markdown",
   "id": "b0f9314d",
   "metadata": {},
   "source": [
    "###  Write a function that stutters a word as if someone is struggling to read it. The first two letters are repeated twice with an ellipsis ... and space after each, and then the word is pronounced with a question mark ?."
   ]
  },
  {
   "cell_type": "code",
   "execution_count": 9,
   "id": "15c9568f",
   "metadata": {},
   "outputs": [
    {
     "name": "stdout",
     "output_type": "stream",
     "text": [
      "Enter the String: incredible\n",
      "in...in...incredible?\n"
     ]
    }
   ],
   "source": [
    "def stutter(string):\n",
    "    s = (string[:2]+\"...\")*2\n",
    "    print(s+string+\"?\")\n",
    "\n",
    "stutter(input(\"Enter the String: \"))"
   ]
  },
  {
   "cell_type": "markdown",
   "id": "2c59a563",
   "metadata": {},
   "source": [
    "### Create a function that takes an angle in radians and returns the corresponding angle in degrees rounded to one decimal place."
   ]
  },
  {
   "cell_type": "code",
   "execution_count": 12,
   "id": "2179411b",
   "metadata": {},
   "outputs": [
    {
     "name": "stdout",
     "output_type": "stream",
     "text": [
      "Enter the radians: 20\n",
      "Degree : 1145.8\n"
     ]
    }
   ],
   "source": [
    "#1 rad = 57.29 degree\n",
    "\n",
    "def radians_to_degrees(rad):\n",
    "    return rad*57.29\n",
    "\n",
    "print(f\"Degree : {radians_to_degrees(int(input('Enter the radians: ')))}\")"
   ]
  },
  {
   "cell_type": "markdown",
   "id": "7cf00434",
   "metadata": {},
   "source": [
    "### In this challenge, establish if a given integer num is a Curzon number. If 1 plus 2 elevated to num is exactly divisible by 1 plus 2 multiplied by num, then num is a Curzon number. Given a non-negative integer num, implement a function that returns True if num is a Curzon number, or False otherwise.\n"
   ]
  },
  {
   "cell_type": "code",
   "execution_count": 16,
   "id": "aba07d1a",
   "metadata": {},
   "outputs": [
    {
     "name": "stdout",
     "output_type": "stream",
     "text": [
      "Enter the number: 14\n"
     ]
    },
    {
     "data": {
      "text/plain": [
       "True"
      ]
     },
     "execution_count": 16,
     "metadata": {},
     "output_type": "execute_result"
    }
   ],
   "source": [
    "def is_curzon(num):\n",
    "    number = 2**num +1\n",
    "    div = 2*num +1\n",
    "\n",
    "    if number%div==0:\n",
    "        return True\n",
    "    return False\n",
    "    \n",
    "is_curzon(int(input('Enter the number: ')))"
   ]
  },
  {
   "cell_type": "markdown",
   "id": "05245461",
   "metadata": {},
   "source": [
    "### Given the side length x find the area of a hexagon."
   ]
  },
  {
   "cell_type": "code",
   "execution_count": 21,
   "id": "eb8b461d",
   "metadata": {},
   "outputs": [
    {
     "name": "stdout",
     "output_type": "stream",
     "text": [
      "Enter the length: 3\n",
      "23.38268590217984\n"
     ]
    }
   ],
   "source": [
    "import math\n",
    "\n",
    "def area_of_hexagon(side):\n",
    "    #area = (3*1.732*s**2)/2\n",
    "    return (side**2 * 3* math.sqrt(3))/2\n",
    "\n",
    "\n",
    "print(area_of_hexagon(int(input('Enter the length: '))))"
   ]
  },
  {
   "cell_type": "markdown",
   "id": "41ee5e0d",
   "metadata": {},
   "source": [
    "### Create a function that returns a base-2 (binary) representation of a base-10 (decimal) string number. To convert is simple: ((2) means base-2 and (10) means base-10) 010101001(2) = 1 + 8 + 32 + 128."
   ]
  },
  {
   "cell_type": "code",
   "execution_count": 26,
   "id": "925868fc",
   "metadata": {},
   "outputs": [
    {
     "name": "stdout",
     "output_type": "stream",
     "text": [
      "Enter the decimal: 16\n",
      "10000\n"
     ]
    }
   ],
   "source": [
    "def binary(decimal):\n",
    "    temp=[]\n",
    "    while decimal:\n",
    "        temp.append(str(decimal%2))\n",
    "        decimal//=2\n",
    "    return \"\".join(temp[::-1])\n",
    "\n",
    "\n",
    "print(binary(int(input('Enter the decimal: '))))"
   ]
  },
  {
   "cell_type": "code",
   "execution_count": null,
   "id": "37949119",
   "metadata": {},
   "outputs": [],
   "source": []
  },
  {
   "cell_type": "code",
   "execution_count": null,
   "id": "77d10528",
   "metadata": {},
   "outputs": [],
   "source": []
  }
 ],
 "metadata": {
  "kernelspec": {
   "display_name": "Python 3 (ipykernel)",
   "language": "python",
   "name": "python3"
  },
  "language_info": {
   "codemirror_mode": {
    "name": "ipython",
    "version": 3
   },
   "file_extension": ".py",
   "mimetype": "text/x-python",
   "name": "python",
   "nbconvert_exporter": "python",
   "pygments_lexer": "ipython3",
   "version": "3.9.6"
  }
 },
 "nbformat": 4,
 "nbformat_minor": 5
}
