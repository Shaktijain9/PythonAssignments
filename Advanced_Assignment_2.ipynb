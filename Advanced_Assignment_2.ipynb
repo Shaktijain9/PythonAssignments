{
 "cells": [
  {
   "cell_type": "markdown",
   "id": "bcc2c7c6",
   "metadata": {},
   "source": [
    "### What is the relationship between classes and modules?"
   ]
  },
  {
   "cell_type": "raw",
   "id": "df8d5d6c",
   "metadata": {},
   "source": [
    "* Classes are used to create a blueprint for given objects while modules are used to reuse the code inside another program to encourage readbility and reduce code redundancy. Modules are generally .py files which may contains classes, methods or functions.\n",
    "* Classes can be instantiates but modules can't be instantiated.\n",
    "* Classes are defined using class keyword while modules are imported using import keyword.\n",
    "* We can override the existing functionality of claases using inheritence while the functionality defined in modules can't be override."
   ]
  },
  {
   "cell_type": "markdown",
   "id": "60baed57",
   "metadata": {},
   "source": [
    "### How do you make instances and classes?"
   ]
  },
  {
   "cell_type": "raw",
   "id": "199c7e5b",
   "metadata": {},
   "source": []
  },
  {
   "cell_type": "markdown",
   "id": "0c85df01",
   "metadata": {},
   "source": [
    "### What does the term \"self\" in a Python class mean?"
   ]
  },
  {
   "cell_type": "raw",
   "id": "0ab9c8d1",
   "metadata": {},
   "source": [
    "* self in python points to the current object. We can access the attributes & methods of the current object using self. Python does not support implicit conversion that is methods in python are defined in such a way that the object can be passed automatically but can't be received. So the first parameter in class methods which deal with the instance attributes generally has self.\n",
    "\n",
    "\n",
    "* the self name is just a convention to improve readibility of the code. We can use any name inplace of self because its not a keyword."
   ]
  },
  {
   "cell_type": "markdown",
   "id": "ba02d65d",
   "metadata": {},
   "source": [
    "### What are the two most important concepts to grasp in order to comprehend Python OOP code?"
   ]
  },
  {
   "cell_type": "raw",
   "id": "68a3ed44",
   "metadata": {},
   "source": [
    "1. Inheritance\n",
    "2. Polymorphism\n",
    "\n",
    "These are two main ingredient two make robust, flexible & easy-to-maintain softwares."
   ]
  }
 ],
 "metadata": {
  "kernelspec": {
   "display_name": "Python 3 (ipykernel)",
   "language": "python",
   "name": "python3"
  },
  "language_info": {
   "codemirror_mode": {
    "name": "ipython",
    "version": 3
   },
   "file_extension": ".py",
   "mimetype": "text/x-python",
   "name": "python",
   "nbconvert_exporter": "python",
   "pygments_lexer": "ipython3",
   "version": "3.9.6"
  }
 },
 "nbformat": 4,
 "nbformat_minor": 5
}
