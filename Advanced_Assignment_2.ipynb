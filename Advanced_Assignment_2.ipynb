{
 "cells": [
  {
   "cell_type": "markdown",
   "id": "bcc2c7c6",
   "metadata": {},
   "source": [
    "### What is the relationship between classes and modules?"
   ]
  },
  {
   "cell_type": "raw",
   "id": "df8d5d6c",
   "metadata": {},
   "source": [
    "* Classes are used to create a blueprint for given objects while modules are used to reuse the code inside another program to encourage readbility and reduce code redundancy. Modules are generally .py files which may contains classes, methods or functions.\n",
    "* Classes can be instantiates but modules can't be instantiated.\n",
    "* Classes are defined using class keyword while modules are imported using import keyword.\n",
    "* We can override the existing functionality of claases using inheritence while the functionality defined in modules can't be override."
   ]
  },
  {
   "cell_type": "markdown",
   "id": "60baed57",
   "metadata": {},
   "source": [
    "### How do you make instances and classes?"
   ]
  },
  {
   "cell_type": "raw",
   "id": "199c7e5b",
   "metadata": {},
   "source": [
    "A class is defines using class keyword followed by class name. A class created local namespace where all its attributes are defined. Attributes may be data or functions. As soon as we define a class a new object is created with same name as classname & is used for attributes references & instantiation of objects for the class.\n",
    "\n",
    "As soon as we define class with help of class keyword followed by class name , it created a local namespace of its own which contains attributes and methods associated with the class, at the same time it created a class object with same name as the class. This class object has access to different attributes and is used to create class objects.\n",
    "Class instance is used for two purposes.\n",
    "1. Attribute references.\n",
    "2. Instantiation"
   ]
  },
  {
   "cell_type": "markdown",
   "id": "08017f05",
   "metadata": {},
   "source": [
    "### What does the term \"self\" in a Python class mean?"
   ]
  },
  {
   "cell_type": "raw",
   "id": "01b7d416",
   "metadata": {},
   "source": [
    "* self in python points to the current object. We can access the attributes & methods of the current object using self. Python does not support implicit conversion that is methods in python are defined in such a way that the object can be passed automatically but can't be received. So the first parameter in class methods which deal with the instance attributes generally has self.\n",
    "\n",
    "\n",
    "* the self name is just a convention to improve readibility of the code. We can use any name inplace of self because its not a keyword."
   ]
  },
  {
   "cell_type": "markdown",
   "id": "bc0343d1",
   "metadata": {},
   "source": [
    "### What are the two most important concepts to grasp in order to comprehend Python OOP code?"
   ]
  },
  {
   "cell_type": "raw",
   "id": "f93782de",
   "metadata": {},
   "source": [
    "1. Inheritance\n",
    "2. Polymorphism\n",
    "\n",
    "These are two main ingredient two make robust, flexible & easy-to-maintain softwares."
   ]
  },
  {
   "cell_type": "markdown",
   "id": "91dbfd20",
   "metadata": {},
   "source": [
    "### When do you consider allowing operator overloading of your classes?"
   ]
  },
  {
   "cell_type": "raw",
   "id": "9c795634",
   "metadata": {},
   "source": [
    "When you have to extend the meaning of existing operator as per your requirements, then you can consider operator overloading.\n",
    "\n",
    "EXAMPLE: 2+3 (where + operator works on two operands two provide the result)\n",
    "\n",
    "same \"+\" operator can be used to operate on two user-defined class objects."
   ]
  },
  {
   "cell_type": "markdown",
   "id": "b7444533",
   "metadata": {},
   "source": [
    "### Where and how should be class attributes created?"
   ]
  },
  {
   "cell_type": "raw",
   "id": "3932183e",
   "metadata": {},
   "source": [
    "class attributes are generally created at the top, just below the class headers.These attributes are shared among all the instances of the class.Hence we can access class attributes using class name as well as instance name."
   ]
  },
  {
   "cell_type": "code",
   "execution_count": 16,
   "id": "8bfd1e93",
   "metadata": {},
   "outputs": [
    {
     "name": "stdout",
     "output_type": "stream",
     "text": [
      "Shakti\n",
      "18\n",
      "18\n"
     ]
    }
   ],
   "source": [
    "class Voter:\n",
    "    age=18\n",
    "    \n",
    "    def __init__(self, name):\n",
    "        self.name = name\n",
    "        \n",
    "obj = Voter(\"Shakti\")\n",
    "print(obj.name)\n",
    "print(Voter.age)\n",
    "print(obj.age)\n",
    "    "
   ]
  },
  {
   "cell_type": "code",
   "execution_count": 17,
   "id": "2d62ddb2",
   "metadata": {},
   "outputs": [
    {
     "name": "stdout",
     "output_type": "stream",
     "text": [
      "Shakti\n",
      "18\n",
      "18\n",
      "Shakti is of age 18\n"
     ]
    }
   ],
   "source": [
    "#class with attribute defines in the bottom\n",
    "\n",
    "class Voter:\n",
    "\n",
    "    \n",
    "    def __init__(self, name):\n",
    "        self.name = name\n",
    "        \n",
    "    age=18\n",
    "    \n",
    "    def getInfo(self):\n",
    "        print(f\"{self.name} is of age {Voter.age}\")\n",
    "        \n",
    "        \n",
    "obj = Voter(\"Shakti\")\n",
    "print(obj.name)\n",
    "print(Voter.age)\n",
    "print(obj.age)\n",
    "obj.getInfo()"
   ]
  },
  {
   "cell_type": "markdown",
   "id": "4b5448d4",
   "metadata": {},
   "source": [
    "### Where and how are instance attributes created?\n"
   ]
  },
  {
   "cell_type": "raw",
   "id": "793b1b0e",
   "metadata": {},
   "source": [
    "Instance attributes are created inside the __init__(). They are uniquue to each instance of the class. These are the variables which belong to one & only one object. The can only be accessed by the instance of the class since they're only accessible in the scope of that object."
   ]
  },
  {
   "cell_type": "code",
   "execution_count": 18,
   "id": "eb2b129a",
   "metadata": {},
   "outputs": [
    {
     "name": "stdout",
     "output_type": "stream",
     "text": [
      "Shakti\n",
      "24\n"
     ]
    }
   ],
   "source": [
    "class Sample:\n",
    "    def __init__(self, name, age):\n",
    "        self.name = name\n",
    "        self.age = age\n",
    "\n",
    "obj = Sample('Shakti', 24)\n",
    "print(obj.name)\n",
    "print(obj.age)"
   ]
  },
  {
   "cell_type": "markdown",
   "id": "b2b8ba57",
   "metadata": {},
   "source": [
    "### What is the most popular form of operator overloading?"
   ]
  },
  {
   "cell_type": "code",
   "execution_count": 19,
   "id": "6b36654a",
   "metadata": {},
   "outputs": [
    {
     "name": "stdout",
     "output_type": "stream",
     "text": [
      "Total Salary = 162\n",
      "Total Salary = 162\n"
     ]
    }
   ],
   "source": [
    "#The most popular form of operator overloading is the overloading of addition operator.\n",
    "\n",
    "class Employee:\n",
    "    def __init__(self, name, salary):\n",
    "        self.name = name\n",
    "        self.salary = salary\n",
    "        \n",
    "    def __add__(self, other):\n",
    "        return f\"Total Salary = {self.salary + other.salary}\"\n",
    "    \n",
    "emp1 = Employee(\"Shakti\", 80)\n",
    "emp2 = Employee(\"Piyush\", 82)\n",
    "\n",
    "print(emp1+emp2)\n",
    "print(emp1.__add__(emp2))"
   ]
  },
  {
   "cell_type": "markdown",
   "id": "52440a72",
   "metadata": {},
   "source": [
    "### How does a Python class handle operator overloading?"
   ]
  },
  {
   "cell_type": "raw",
   "id": "4534c2d3",
   "metadata": {},
   "source": [
    "Python operators works with built-in types. But the same operator works differently with different types. The operator functionalities are defined using special methods called double underscore methods(dunder methods). In order to change the existing behavior of operators we overload these special methods to accept different objects instead of built-in types."
   ]
  },
  {
   "cell_type": "code",
   "execution_count": 20,
   "id": "eabeadb2",
   "metadata": {},
   "outputs": [
    {
     "name": "stdout",
     "output_type": "stream",
     "text": [
      "5\n",
      "5\n"
     ]
    }
   ],
   "source": [
    "print(2+3)\n",
    "print(int.__add__(2, 3))"
   ]
  },
  {
   "cell_type": "code",
   "execution_count": null,
   "id": "84a486c3",
   "metadata": {},
   "outputs": [],
   "source": []
  }
 ],
 "metadata": {
  "kernelspec": {
   "display_name": "Python 3 (ipykernel)",
   "language": "python",
   "name": "python3"
  },
  "language_info": {
   "codemirror_mode": {
    "name": "ipython",
    "version": 3
   },
   "file_extension": ".py",
   "mimetype": "text/x-python",
   "name": "python",
   "nbconvert_exporter": "python",
   "pygments_lexer": "ipython3",
   "version": "3.9.6"
  }
 },
 "nbformat": 4,
 "nbformat_minor": 5
}
