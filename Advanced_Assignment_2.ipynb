{
 "cells": [
  {
   "cell_type": "markdown",
   "id": "bcc2c7c6",
   "metadata": {},
   "source": [
    "### What is the relationship between classes and modules?"
   ]
  },
  {
   "cell_type": "raw",
   "id": "df8d5d6c",
   "metadata": {},
   "source": [
    "* Classes are used to create a blueprint for given objects while modules are used to reuse the code inside another program to encourage readbility and reduce code redundancy. Modules are generally .py files which may contains classes, methods or functions.\n",
    "* Classes can be instantiates but modules can't be instantiated.\n",
    "* Classes are defined using class keyword while modules are imported using import keyword.\n",
    "* We can override the existing functionality of claases using inheritence while the functionality defined in modules can't be override."
   ]
  },
  {
   "cell_type": "markdown",
   "id": "60baed57",
   "metadata": {},
   "source": [
    "### How do you make instances and classes?"
   ]
  },
  {
   "cell_type": "raw",
   "id": "199c7e5b",
   "metadata": {},
   "source": []
  }
 ],
 "metadata": {
  "kernelspec": {
   "display_name": "Python 3 (ipykernel)",
   "language": "python",
   "name": "python3"
  },
  "language_info": {
   "codemirror_mode": {
    "name": "ipython",
    "version": 3
   },
   "file_extension": ".py",
   "mimetype": "text/x-python",
   "name": "python",
   "nbconvert_exporter": "python",
   "pygments_lexer": "ipython3",
   "version": "3.9.6"
  }
 },
 "nbformat": 4,
 "nbformat_minor": 5
}
